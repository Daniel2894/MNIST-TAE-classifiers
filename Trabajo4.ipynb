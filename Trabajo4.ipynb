{
 "cells": [
  {
   "cell_type": "markdown",
   "metadata": {},
   "source": [
    "> # Trabajo #4 de TAE: Implementación de la estrategia\n",
    "**Daniel Restrepo Mejía - Sebastian Ramirez Tamayo - Mateo Zuluaga Giraldo - Santiago Restrepo Alvarez - David Ossa Saldarriaga**"
   ]
  },
  {
   "cell_type": "markdown",
   "metadata": {},
   "source": [
    "Lo primero que haremos es importar las librerías necesarias para el trabajo:\n"
   ]
  },
  {
   "cell_type": "code",
   "execution_count": 1,
   "metadata": {},
   "outputs": [],
   "source": [
    "import pandas as pd\n",
    "import matplotlib.pyplot as plt\n",
    "%matplotlib inline"
   ]
  },
  {
   "cell_type": "markdown",
   "metadata": {},
   "source": [
    "A continuación leemos los datos de entrenamiento y de prueba de MNIST y los ingresamos en frames para el procesamiento de los datos"
   ]
  },
  {
   "cell_type": "code",
   "execution_count": 2,
   "metadata": {},
   "outputs": [],
   "source": [
    "mnist_train = pd.read_csv(\"MNIST_data/mnist_train.csv\")\n",
    "mnist_test = pd.read_csv(\"MNIST_data/mnist_test.csv\")"
   ]
  },
  {
   "cell_type": "markdown",
   "metadata": {},
   "source": [
    "Usamos el método head para ver la estructura de los datos, con sus etiquetas"
   ]
  },
  {
   "cell_type": "code",
   "execution_count": 3,
   "metadata": {},
   "outputs": [
    {
     "data": {
      "text/html": [
       "<div>\n",
       "<style scoped>\n",
       "    .dataframe tbody tr th:only-of-type {\n",
       "        vertical-align: middle;\n",
       "    }\n",
       "\n",
       "    .dataframe tbody tr th {\n",
       "        vertical-align: top;\n",
       "    }\n",
       "\n",
       "    .dataframe thead th {\n",
       "        text-align: right;\n",
       "    }\n",
       "</style>\n",
       "<table border=\"1\" class=\"dataframe\">\n",
       "  <thead>\n",
       "    <tr style=\"text-align: right;\">\n",
       "      <th></th>\n",
       "      <th>5</th>\n",
       "      <th>0</th>\n",
       "      <th>0.1</th>\n",
       "      <th>0.2</th>\n",
       "      <th>0.3</th>\n",
       "      <th>0.4</th>\n",
       "      <th>0.5</th>\n",
       "      <th>0.6</th>\n",
       "      <th>0.7</th>\n",
       "      <th>0.8</th>\n",
       "      <th>...</th>\n",
       "      <th>0.608</th>\n",
       "      <th>0.609</th>\n",
       "      <th>0.610</th>\n",
       "      <th>0.611</th>\n",
       "      <th>0.612</th>\n",
       "      <th>0.613</th>\n",
       "      <th>0.614</th>\n",
       "      <th>0.615</th>\n",
       "      <th>0.616</th>\n",
       "      <th>0.617</th>\n",
       "    </tr>\n",
       "  </thead>\n",
       "  <tbody>\n",
       "    <tr>\n",
       "      <th>0</th>\n",
       "      <td>0</td>\n",
       "      <td>0</td>\n",
       "      <td>0</td>\n",
       "      <td>0</td>\n",
       "      <td>0</td>\n",
       "      <td>0</td>\n",
       "      <td>0</td>\n",
       "      <td>0</td>\n",
       "      <td>0</td>\n",
       "      <td>0</td>\n",
       "      <td>...</td>\n",
       "      <td>0</td>\n",
       "      <td>0</td>\n",
       "      <td>0</td>\n",
       "      <td>0</td>\n",
       "      <td>0</td>\n",
       "      <td>0</td>\n",
       "      <td>0</td>\n",
       "      <td>0</td>\n",
       "      <td>0</td>\n",
       "      <td>0</td>\n",
       "    </tr>\n",
       "    <tr>\n",
       "      <th>1</th>\n",
       "      <td>4</td>\n",
       "      <td>0</td>\n",
       "      <td>0</td>\n",
       "      <td>0</td>\n",
       "      <td>0</td>\n",
       "      <td>0</td>\n",
       "      <td>0</td>\n",
       "      <td>0</td>\n",
       "      <td>0</td>\n",
       "      <td>0</td>\n",
       "      <td>...</td>\n",
       "      <td>0</td>\n",
       "      <td>0</td>\n",
       "      <td>0</td>\n",
       "      <td>0</td>\n",
       "      <td>0</td>\n",
       "      <td>0</td>\n",
       "      <td>0</td>\n",
       "      <td>0</td>\n",
       "      <td>0</td>\n",
       "      <td>0</td>\n",
       "    </tr>\n",
       "    <tr>\n",
       "      <th>2</th>\n",
       "      <td>1</td>\n",
       "      <td>0</td>\n",
       "      <td>0</td>\n",
       "      <td>0</td>\n",
       "      <td>0</td>\n",
       "      <td>0</td>\n",
       "      <td>0</td>\n",
       "      <td>0</td>\n",
       "      <td>0</td>\n",
       "      <td>0</td>\n",
       "      <td>...</td>\n",
       "      <td>0</td>\n",
       "      <td>0</td>\n",
       "      <td>0</td>\n",
       "      <td>0</td>\n",
       "      <td>0</td>\n",
       "      <td>0</td>\n",
       "      <td>0</td>\n",
       "      <td>0</td>\n",
       "      <td>0</td>\n",
       "      <td>0</td>\n",
       "    </tr>\n",
       "  </tbody>\n",
       "</table>\n",
       "<p>3 rows × 785 columns</p>\n",
       "</div>"
      ],
      "text/plain": [
       "   5  0  0.1  0.2  0.3  0.4  0.5  0.6  0.7  0.8  ...    0.608  0.609  0.610  \\\n",
       "0  0  0    0    0    0    0    0    0    0    0  ...        0      0      0   \n",
       "1  4  0    0    0    0    0    0    0    0    0  ...        0      0      0   \n",
       "2  1  0    0    0    0    0    0    0    0    0  ...        0      0      0   \n",
       "\n",
       "   0.611  0.612  0.613  0.614  0.615  0.616  0.617  \n",
       "0      0      0      0      0      0      0      0  \n",
       "1      0      0      0      0      0      0      0  \n",
       "2      0      0      0      0      0      0      0  \n",
       "\n",
       "[3 rows x 785 columns]"
      ]
     },
     "execution_count": 3,
     "metadata": {},
     "output_type": "execute_result"
    }
   ],
   "source": [
    "mnist_train.head(3)"
   ]
  },
  {
   "cell_type": "code",
   "execution_count": 4,
   "metadata": {},
   "outputs": [
    {
     "data": {
      "text/html": [
       "<div>\n",
       "<style scoped>\n",
       "    .dataframe tbody tr th:only-of-type {\n",
       "        vertical-align: middle;\n",
       "    }\n",
       "\n",
       "    .dataframe tbody tr th {\n",
       "        vertical-align: top;\n",
       "    }\n",
       "\n",
       "    .dataframe thead th {\n",
       "        text-align: right;\n",
       "    }\n",
       "</style>\n",
       "<table border=\"1\" class=\"dataframe\">\n",
       "  <thead>\n",
       "    <tr style=\"text-align: right;\">\n",
       "      <th></th>\n",
       "      <th>7</th>\n",
       "      <th>0</th>\n",
       "      <th>0.1</th>\n",
       "      <th>0.2</th>\n",
       "      <th>0.3</th>\n",
       "      <th>0.4</th>\n",
       "      <th>0.5</th>\n",
       "      <th>0.6</th>\n",
       "      <th>0.7</th>\n",
       "      <th>0.8</th>\n",
       "      <th>...</th>\n",
       "      <th>0.658</th>\n",
       "      <th>0.659</th>\n",
       "      <th>0.660</th>\n",
       "      <th>0.661</th>\n",
       "      <th>0.662</th>\n",
       "      <th>0.663</th>\n",
       "      <th>0.664</th>\n",
       "      <th>0.665</th>\n",
       "      <th>0.666</th>\n",
       "      <th>0.667</th>\n",
       "    </tr>\n",
       "  </thead>\n",
       "  <tbody>\n",
       "    <tr>\n",
       "      <th>0</th>\n",
       "      <td>2</td>\n",
       "      <td>0</td>\n",
       "      <td>0</td>\n",
       "      <td>0</td>\n",
       "      <td>0</td>\n",
       "      <td>0</td>\n",
       "      <td>0</td>\n",
       "      <td>0</td>\n",
       "      <td>0</td>\n",
       "      <td>0</td>\n",
       "      <td>...</td>\n",
       "      <td>0</td>\n",
       "      <td>0</td>\n",
       "      <td>0</td>\n",
       "      <td>0</td>\n",
       "      <td>0</td>\n",
       "      <td>0</td>\n",
       "      <td>0</td>\n",
       "      <td>0</td>\n",
       "      <td>0</td>\n",
       "      <td>0</td>\n",
       "    </tr>\n",
       "    <tr>\n",
       "      <th>1</th>\n",
       "      <td>1</td>\n",
       "      <td>0</td>\n",
       "      <td>0</td>\n",
       "      <td>0</td>\n",
       "      <td>0</td>\n",
       "      <td>0</td>\n",
       "      <td>0</td>\n",
       "      <td>0</td>\n",
       "      <td>0</td>\n",
       "      <td>0</td>\n",
       "      <td>...</td>\n",
       "      <td>0</td>\n",
       "      <td>0</td>\n",
       "      <td>0</td>\n",
       "      <td>0</td>\n",
       "      <td>0</td>\n",
       "      <td>0</td>\n",
       "      <td>0</td>\n",
       "      <td>0</td>\n",
       "      <td>0</td>\n",
       "      <td>0</td>\n",
       "    </tr>\n",
       "    <tr>\n",
       "      <th>2</th>\n",
       "      <td>0</td>\n",
       "      <td>0</td>\n",
       "      <td>0</td>\n",
       "      <td>0</td>\n",
       "      <td>0</td>\n",
       "      <td>0</td>\n",
       "      <td>0</td>\n",
       "      <td>0</td>\n",
       "      <td>0</td>\n",
       "      <td>0</td>\n",
       "      <td>...</td>\n",
       "      <td>0</td>\n",
       "      <td>0</td>\n",
       "      <td>0</td>\n",
       "      <td>0</td>\n",
       "      <td>0</td>\n",
       "      <td>0</td>\n",
       "      <td>0</td>\n",
       "      <td>0</td>\n",
       "      <td>0</td>\n",
       "      <td>0</td>\n",
       "    </tr>\n",
       "  </tbody>\n",
       "</table>\n",
       "<p>3 rows × 785 columns</p>\n",
       "</div>"
      ],
      "text/plain": [
       "   7  0  0.1  0.2  0.3  0.4  0.5  0.6  0.7  0.8  ...    0.658  0.659  0.660  \\\n",
       "0  2  0    0    0    0    0    0    0    0    0  ...        0      0      0   \n",
       "1  1  0    0    0    0    0    0    0    0    0  ...        0      0      0   \n",
       "2  0  0    0    0    0    0    0    0    0    0  ...        0      0      0   \n",
       "\n",
       "   0.661  0.662  0.663  0.664  0.665  0.666  0.667  \n",
       "0      0      0      0      0      0      0      0  \n",
       "1      0      0      0      0      0      0      0  \n",
       "2      0      0      0      0      0      0      0  \n",
       "\n",
       "[3 rows x 785 columns]"
      ]
     },
     "execution_count": 4,
     "metadata": {},
     "output_type": "execute_result"
    }
   ],
   "source": [
    "mnist_test.head(3)"
   ]
  },
  {
   "cell_type": "markdown",
   "metadata": {},
   "source": [
    "Podemos observar que la columna a categorizar es la primer columna que tiene titulo \"5\" en el dataset de entramiento y \"7\" en el de prueba, el resto de columnas son los pixeles del dígito.\n",
    "\n",
    "Ahora procedemos a dividir el dataset de entrenamiento y de prueba en datasets con los valores de los pixeles y otros con las categorías."
   ]
  },
  {
   "cell_type": "code",
   "execution_count": 3,
   "metadata": {},
   "outputs": [],
   "source": [
    "mnist_train_pixels = mnist_train.drop(\"5\", axis=1) # pixeles del digito MNIST del dataset de entrenamiento\n",
    "mnist_train_labels = mnist_train.iloc[:,0] # variable categorica del dataset de entrenamiento\n",
    "mnist_test_pixels = mnist_test.drop(\"7\", axis=1) # pixeles del digito MNIST del dataset de prueba\n",
    "mnist_test_labels = mnist_test.iloc[:,0] # variable categorica del dataset de entrenamiento"
   ]
  },
  {
   "cell_type": "markdown",
   "metadata": {},
   "source": [
    "Procedemos a mirar el shape de los dataset de entrenamiento para darnos una idea de cuántas columnas y filas tiene cada uno y usamos el método head para ver como quedaron conformados los datasets"
   ]
  },
  {
   "cell_type": "code",
   "execution_count": 6,
   "metadata": {},
   "outputs": [
    {
     "data": {
      "text/plain": [
       "(59999, 784)"
      ]
     },
     "execution_count": 6,
     "metadata": {},
     "output_type": "execute_result"
    }
   ],
   "source": [
    "mnist_train_pixels.shape"
   ]
  },
  {
   "cell_type": "code",
   "execution_count": 7,
   "metadata": {},
   "outputs": [
    {
     "data": {
      "text/html": [
       "<div>\n",
       "<style scoped>\n",
       "    .dataframe tbody tr th:only-of-type {\n",
       "        vertical-align: middle;\n",
       "    }\n",
       "\n",
       "    .dataframe tbody tr th {\n",
       "        vertical-align: top;\n",
       "    }\n",
       "\n",
       "    .dataframe thead th {\n",
       "        text-align: right;\n",
       "    }\n",
       "</style>\n",
       "<table border=\"1\" class=\"dataframe\">\n",
       "  <thead>\n",
       "    <tr style=\"text-align: right;\">\n",
       "      <th></th>\n",
       "      <th>0</th>\n",
       "      <th>0.1</th>\n",
       "      <th>0.2</th>\n",
       "      <th>0.3</th>\n",
       "      <th>0.4</th>\n",
       "      <th>0.5</th>\n",
       "      <th>0.6</th>\n",
       "      <th>0.7</th>\n",
       "      <th>0.8</th>\n",
       "      <th>0.9</th>\n",
       "      <th>...</th>\n",
       "      <th>0.608</th>\n",
       "      <th>0.609</th>\n",
       "      <th>0.610</th>\n",
       "      <th>0.611</th>\n",
       "      <th>0.612</th>\n",
       "      <th>0.613</th>\n",
       "      <th>0.614</th>\n",
       "      <th>0.615</th>\n",
       "      <th>0.616</th>\n",
       "      <th>0.617</th>\n",
       "    </tr>\n",
       "  </thead>\n",
       "  <tbody>\n",
       "    <tr>\n",
       "      <th>0</th>\n",
       "      <td>0</td>\n",
       "      <td>0</td>\n",
       "      <td>0</td>\n",
       "      <td>0</td>\n",
       "      <td>0</td>\n",
       "      <td>0</td>\n",
       "      <td>0</td>\n",
       "      <td>0</td>\n",
       "      <td>0</td>\n",
       "      <td>0</td>\n",
       "      <td>...</td>\n",
       "      <td>0</td>\n",
       "      <td>0</td>\n",
       "      <td>0</td>\n",
       "      <td>0</td>\n",
       "      <td>0</td>\n",
       "      <td>0</td>\n",
       "      <td>0</td>\n",
       "      <td>0</td>\n",
       "      <td>0</td>\n",
       "      <td>0</td>\n",
       "    </tr>\n",
       "    <tr>\n",
       "      <th>1</th>\n",
       "      <td>0</td>\n",
       "      <td>0</td>\n",
       "      <td>0</td>\n",
       "      <td>0</td>\n",
       "      <td>0</td>\n",
       "      <td>0</td>\n",
       "      <td>0</td>\n",
       "      <td>0</td>\n",
       "      <td>0</td>\n",
       "      <td>0</td>\n",
       "      <td>...</td>\n",
       "      <td>0</td>\n",
       "      <td>0</td>\n",
       "      <td>0</td>\n",
       "      <td>0</td>\n",
       "      <td>0</td>\n",
       "      <td>0</td>\n",
       "      <td>0</td>\n",
       "      <td>0</td>\n",
       "      <td>0</td>\n",
       "      <td>0</td>\n",
       "    </tr>\n",
       "  </tbody>\n",
       "</table>\n",
       "<p>2 rows × 784 columns</p>\n",
       "</div>"
      ],
      "text/plain": [
       "   0  0.1  0.2  0.3  0.4  0.5  0.6  0.7  0.8  0.9  ...    0.608  0.609  0.610  \\\n",
       "0  0    0    0    0    0    0    0    0    0    0  ...        0      0      0   \n",
       "1  0    0    0    0    0    0    0    0    0    0  ...        0      0      0   \n",
       "\n",
       "   0.611  0.612  0.613  0.614  0.615  0.616  0.617  \n",
       "0      0      0      0      0      0      0      0  \n",
       "1      0      0      0      0      0      0      0  \n",
       "\n",
       "[2 rows x 784 columns]"
      ]
     },
     "execution_count": 7,
     "metadata": {},
     "output_type": "execute_result"
    }
   ],
   "source": [
    "mnist_train_pixels.head(2)"
   ]
  },
  {
   "cell_type": "code",
   "execution_count": 8,
   "metadata": {},
   "outputs": [
    {
     "data": {
      "text/plain": [
       "(59999,)"
      ]
     },
     "execution_count": 8,
     "metadata": {},
     "output_type": "execute_result"
    }
   ],
   "source": [
    "mnist_train_labels.shape"
   ]
  },
  {
   "cell_type": "code",
   "execution_count": 9,
   "metadata": {},
   "outputs": [
    {
     "data": {
      "text/plain": [
       "0    0\n",
       "1    4\n",
       "2    1\n",
       "Name: 5, dtype: int64"
      ]
     },
     "execution_count": 9,
     "metadata": {},
     "output_type": "execute_result"
    }
   ],
   "source": [
    "mnist_train_labels.head(3)"
   ]
  },
  {
   "cell_type": "markdown",
   "metadata": {},
   "source": [
    "Ahora, para darnos una idea de los valores del dataset de entrenamiento procedemos a obtener la información descriptiva de este.\n"
   ]
  },
  {
   "cell_type": "code",
   "execution_count": 10,
   "metadata": {},
   "outputs": [
    {
     "name": "stdout",
     "output_type": "stream",
     "text": [
      " minimo: 0, \n",
      " maximo: 255, \n",
      " media: 33.31839161605075, \n",
      " mediana: 0.0, \n",
      " valor mas comun: 0\n"
     ]
    }
   ],
   "source": [
    "dataset_info = pd.Series(mnist_train_pixels.values.ravel())\n",
    "print(\" minimo: {}, \\n maximo: {}, \\n media: {}, \\n mediana: {}, \\n valor mas comun: {}\"\n",
    "      .format(dataset_info.min(), dataset_info.max(), \n",
    "              dataset_info.mean(), dataset_info.median(), \n",
    "              dataset_info.value_counts().idxmax()))"
   ]
  },
  {
   "cell_type": "markdown",
   "metadata": {},
   "source": [
    "Podemos observar que en el dataset encontramos valores entre 0 y 255 que son los colores de los píxeles que conforman el dígito.\n",
    "\n",
    "Para mejorar el rendimiento de nuestros clasificadores y ayudar a que los algoritmos iterativos de aprendizaje estadístico sean más rápidos para entrenar vamos a normalizar los valores del dataset, convirtiendo los valores en 0 para los píxeles blancos y 1 para los negros."
   ]
  },
  {
   "cell_type": "code",
   "execution_count": 4,
   "metadata": {},
   "outputs": [],
   "source": [
    "mnist_train_pixels = mnist_train_pixels / 255\n",
    "mnist_test_pixels = mnist_test_pixels / 255"
   ]
  },
  {
   "cell_type": "code",
   "execution_count": 12,
   "metadata": {},
   "outputs": [
    {
     "name": "stdout",
     "output_type": "stream",
     "text": [
      " minimo: 0.0, \n",
      " maximo: 1.0, \n",
      " media: 0.130660359271895, \n",
      " mediana: 0.0, \n",
      " valor mas comun: 0.0\n"
     ]
    }
   ],
   "source": [
    "dataset_info = pd.Series(mnist_train_pixels.values.ravel())\n",
    "print(\" minimo: {}, \\n maximo: {}, \\n media: {}, \\n mediana: {}, \\n valor mas comun: {}\"\n",
    "      .format(dataset_info.min(), dataset_info.max(), \n",
    "              dataset_info.mean(), dataset_info.median(), \n",
    "              dataset_info.value_counts().idxmax()))"
   ]
  },
  {
   "cell_type": "markdown",
   "metadata": {},
   "source": [
    "Ahora procederemos a obtener la información del primer dígito del dataset."
   ]
  },
  {
   "cell_type": "code",
   "execution_count": 5,
   "metadata": {},
   "outputs": [],
   "source": [
    "first_image_data = mnist_train_pixels.iloc[0]"
   ]
  },
  {
   "cell_type": "markdown",
   "metadata": {},
   "source": [
    "Obtengamos su shape"
   ]
  },
  {
   "cell_type": "code",
   "execution_count": 6,
   "metadata": {},
   "outputs": [
    {
     "data": {
      "text/plain": [
       "(784,)"
      ]
     },
     "execution_count": 6,
     "metadata": {},
     "output_type": "execute_result"
    }
   ],
   "source": [
    "first_image_data.shape"
   ]
  },
  {
   "cell_type": "markdown",
   "metadata": {},
   "source": [
    "Hay 784 valores, es decir, 784 píxeles que conforman cada dígito de MNIST.\n",
    "\n",
    "Vamos a proceder a convertir el vector de 784 datos en una matriz de 28x28, esto se ingresara en la variable first_image y procederemos a graficar cada dato de la matriz con el fin de ver el primer número, que según el primer elemento del dataset de categorías (mnist_train_labels) debería ser un 0, este número también se guardara en la variable first_label para poder titular la gráfica con el dígito."
   ]
  },
  {
   "cell_type": "code",
   "execution_count": 7,
   "metadata": {},
   "outputs": [],
   "source": [
    "first_image = first_image_data.values.reshape(28,28)\n",
    "first_label = mnist_train_labels[0]"
   ]
  },
  {
   "cell_type": "markdown",
   "metadata": {},
   "source": [
    "Procedemos a mirar la matriz first_image y a verificar que si sea una matriz 28x28 con el atributo shape"
   ]
  },
  {
   "cell_type": "code",
   "execution_count": 8,
   "metadata": {},
   "outputs": [
    {
     "data": {
      "text/plain": [
       "array([[0.        , 0.        , 0.        , 0.        , 0.        ,\n",
       "        0.        , 0.        , 0.        , 0.        , 0.        ,\n",
       "        0.        , 0.        , 0.        , 0.        , 0.        ,\n",
       "        0.        , 0.        , 0.        , 0.        , 0.        ,\n",
       "        0.        , 0.        , 0.        , 0.        , 0.        ,\n",
       "        0.        , 0.        , 0.        ],\n",
       "       [0.        , 0.        , 0.        , 0.        , 0.        ,\n",
       "        0.        , 0.        , 0.        , 0.        , 0.        ,\n",
       "        0.        , 0.        , 0.        , 0.        , 0.        ,\n",
       "        0.        , 0.        , 0.        , 0.        , 0.        ,\n",
       "        0.        , 0.        , 0.        , 0.        , 0.        ,\n",
       "        0.        , 0.        , 0.        ],\n",
       "       [0.        , 0.        , 0.        , 0.        , 0.        ,\n",
       "        0.        , 0.        , 0.        , 0.        , 0.        ,\n",
       "        0.        , 0.        , 0.        , 0.        , 0.        ,\n",
       "        0.        , 0.        , 0.        , 0.        , 0.        ,\n",
       "        0.        , 0.        , 0.        , 0.        , 0.        ,\n",
       "        0.        , 0.        , 0.        ],\n",
       "       [0.        , 0.        , 0.        , 0.        , 0.        ,\n",
       "        0.        , 0.        , 0.        , 0.        , 0.        ,\n",
       "        0.        , 0.        , 0.        , 0.        , 0.        ,\n",
       "        0.        , 0.        , 0.        , 0.        , 0.        ,\n",
       "        0.        , 0.        , 0.        , 0.        , 0.        ,\n",
       "        0.        , 0.        , 0.        ],\n",
       "       [0.        , 0.        , 0.        , 0.        , 0.        ,\n",
       "        0.        , 0.        , 0.        , 0.        , 0.        ,\n",
       "        0.        , 0.        , 0.        , 0.        , 0.        ,\n",
       "        0.2       , 0.62352941, 0.99215686, 0.62352941, 0.19607843,\n",
       "        0.        , 0.        , 0.        , 0.        , 0.        ,\n",
       "        0.        , 0.        , 0.        ],\n",
       "       [0.        , 0.        , 0.        , 0.        , 0.        ,\n",
       "        0.        , 0.        , 0.        , 0.        , 0.        ,\n",
       "        0.        , 0.        , 0.        , 0.        , 0.18823529,\n",
       "        0.93333333, 0.98823529, 0.98823529, 0.98823529, 0.92941176,\n",
       "        0.        , 0.        , 0.        , 0.        , 0.        ,\n",
       "        0.        , 0.        , 0.        ],\n",
       "       [0.        , 0.        , 0.        , 0.        , 0.        ,\n",
       "        0.        , 0.        , 0.        , 0.        , 0.        ,\n",
       "        0.        , 0.        , 0.        , 0.21176471, 0.89019608,\n",
       "        0.99215686, 0.98823529, 0.9372549 , 0.91372549, 0.98823529,\n",
       "        0.22352941, 0.02352941, 0.        , 0.        , 0.        ,\n",
       "        0.        , 0.        , 0.        ],\n",
       "       [0.        , 0.        , 0.        , 0.        , 0.        ,\n",
       "        0.        , 0.        , 0.        , 0.        , 0.        ,\n",
       "        0.        , 0.03921569, 0.23529412, 0.87843137, 0.98823529,\n",
       "        0.99215686, 0.98823529, 0.79215686, 0.32941176, 0.98823529,\n",
       "        0.99215686, 0.47843137, 0.        , 0.        , 0.        ,\n",
       "        0.        , 0.        , 0.        ],\n",
       "       [0.        , 0.        , 0.        , 0.        , 0.        ,\n",
       "        0.        , 0.        , 0.        , 0.        , 0.        ,\n",
       "        0.        , 0.63921569, 0.98823529, 0.98823529, 0.98823529,\n",
       "        0.99215686, 0.98823529, 0.98823529, 0.37647059, 0.74117647,\n",
       "        0.99215686, 0.65490196, 0.        , 0.        , 0.        ,\n",
       "        0.        , 0.        , 0.        ],\n",
       "       [0.        , 0.        , 0.        , 0.        , 0.        ,\n",
       "        0.        , 0.        , 0.        , 0.        , 0.        ,\n",
       "        0.2       , 0.93333333, 0.99215686, 0.99215686, 0.74509804,\n",
       "        0.44705882, 0.99215686, 0.89411765, 0.18431373, 0.30980392,\n",
       "        1.        , 0.65882353, 0.        , 0.        , 0.        ,\n",
       "        0.        , 0.        , 0.        ],\n",
       "       [0.        , 0.        , 0.        , 0.        , 0.        ,\n",
       "        0.        , 0.        , 0.        , 0.        , 0.18823529,\n",
       "        0.93333333, 0.98823529, 0.98823529, 0.70196078, 0.04705882,\n",
       "        0.29411765, 0.4745098 , 0.08235294, 0.        , 0.        ,\n",
       "        0.99215686, 0.95294118, 0.19607843, 0.        , 0.        ,\n",
       "        0.        , 0.        , 0.        ],\n",
       "       [0.        , 0.        , 0.        , 0.        , 0.        ,\n",
       "        0.        , 0.        , 0.        , 0.14901961, 0.64705882,\n",
       "        0.99215686, 0.91372549, 0.81568627, 0.32941176, 0.        ,\n",
       "        0.        , 0.        , 0.        , 0.        , 0.        ,\n",
       "        0.99215686, 0.98823529, 0.64705882, 0.        , 0.        ,\n",
       "        0.        , 0.        , 0.        ],\n",
       "       [0.        , 0.        , 0.        , 0.        , 0.        ,\n",
       "        0.        , 0.        , 0.02745098, 0.69803922, 0.98823529,\n",
       "        0.94117647, 0.27843137, 0.0745098 , 0.10980392, 0.        ,\n",
       "        0.        , 0.        , 0.        , 0.        , 0.        ,\n",
       "        0.99215686, 0.98823529, 0.76470588, 0.        , 0.        ,\n",
       "        0.        , 0.        , 0.        ],\n",
       "       [0.        , 0.        , 0.        , 0.        , 0.        ,\n",
       "        0.        , 0.        , 0.22352941, 0.98823529, 0.98823529,\n",
       "        0.24705882, 0.        , 0.        , 0.        , 0.        ,\n",
       "        0.        , 0.        , 0.        , 0.        , 0.        ,\n",
       "        0.99215686, 0.98823529, 0.76470588, 0.        , 0.        ,\n",
       "        0.        , 0.        , 0.        ],\n",
       "       [0.        , 0.        , 0.        , 0.        , 0.        ,\n",
       "        0.        , 0.        , 0.77647059, 0.99215686, 0.74509804,\n",
       "        0.        , 0.        , 0.        , 0.        , 0.        ,\n",
       "        0.        , 0.        , 0.        , 0.        , 0.        ,\n",
       "        1.        , 0.99215686, 0.76862745, 0.        , 0.        ,\n",
       "        0.        , 0.        , 0.        ],\n",
       "       [0.        , 0.        , 0.        , 0.        , 0.        ,\n",
       "        0.        , 0.29803922, 0.96470588, 0.98823529, 0.43921569,\n",
       "        0.        , 0.        , 0.        , 0.        , 0.        ,\n",
       "        0.        , 0.        , 0.        , 0.        , 0.        ,\n",
       "        0.99215686, 0.98823529, 0.58039216, 0.        , 0.        ,\n",
       "        0.        , 0.        , 0.        ],\n",
       "       [0.        , 0.        , 0.        , 0.        , 0.        ,\n",
       "        0.        , 0.33333333, 0.98823529, 0.90196078, 0.09803922,\n",
       "        0.        , 0.        , 0.        , 0.        , 0.        ,\n",
       "        0.        , 0.        , 0.        , 0.02745098, 0.52941176,\n",
       "        0.99215686, 0.72941176, 0.04705882, 0.        , 0.        ,\n",
       "        0.        , 0.        , 0.        ],\n",
       "       [0.        , 0.        , 0.        , 0.        , 0.        ,\n",
       "        0.        , 0.33333333, 0.98823529, 0.8745098 , 0.        ,\n",
       "        0.        , 0.        , 0.        , 0.        , 0.        ,\n",
       "        0.        , 0.        , 0.02745098, 0.51372549, 0.98823529,\n",
       "        0.88235294, 0.27843137, 0.        , 0.        , 0.        ,\n",
       "        0.        , 0.        , 0.        ],\n",
       "       [0.        , 0.        , 0.        , 0.        , 0.        ,\n",
       "        0.        , 0.33333333, 0.98823529, 0.56862745, 0.        ,\n",
       "        0.        , 0.        , 0.        , 0.        , 0.        ,\n",
       "        0.        , 0.18823529, 0.64705882, 0.98823529, 0.67843137,\n",
       "        0.        , 0.        , 0.        , 0.        , 0.        ,\n",
       "        0.        , 0.        , 0.        ],\n",
       "       [0.        , 0.        , 0.        , 0.        , 0.        ,\n",
       "        0.        , 0.3372549 , 0.99215686, 0.88235294, 0.        ,\n",
       "        0.        , 0.        , 0.        , 0.        , 0.        ,\n",
       "        0.44705882, 0.93333333, 0.99215686, 0.63529412, 0.        ,\n",
       "        0.        , 0.        , 0.        , 0.        , 0.        ,\n",
       "        0.        , 0.        , 0.        ],\n",
       "       [0.        , 0.        , 0.        , 0.        , 0.        ,\n",
       "        0.        , 0.33333333, 0.98823529, 0.97647059, 0.57254902,\n",
       "        0.18823529, 0.11372549, 0.33333333, 0.69803922, 0.88235294,\n",
       "        0.99215686, 0.8745098 , 0.65490196, 0.21960784, 0.        ,\n",
       "        0.        , 0.        , 0.        , 0.        , 0.        ,\n",
       "        0.        , 0.        , 0.        ],\n",
       "       [0.        , 0.        , 0.        , 0.        , 0.        ,\n",
       "        0.        , 0.33333333, 0.98823529, 0.98823529, 0.98823529,\n",
       "        0.89803922, 0.84313725, 0.98823529, 0.98823529, 0.98823529,\n",
       "        0.76862745, 0.50980392, 0.        , 0.        , 0.        ,\n",
       "        0.        , 0.        , 0.        , 0.        , 0.        ,\n",
       "        0.        , 0.        , 0.        ],\n",
       "       [0.        , 0.        , 0.        , 0.        , 0.        ,\n",
       "        0.        , 0.10980392, 0.78039216, 0.98823529, 0.98823529,\n",
       "        0.99215686, 0.98823529, 0.98823529, 0.91372549, 0.56862745,\n",
       "        0.        , 0.        , 0.        , 0.        , 0.        ,\n",
       "        0.        , 0.        , 0.        , 0.        , 0.        ,\n",
       "        0.        , 0.        , 0.        ],\n",
       "       [0.        , 0.        , 0.        , 0.        , 0.        ,\n",
       "        0.        , 0.        , 0.09803922, 0.50196078, 0.98823529,\n",
       "        0.99215686, 0.98823529, 0.55294118, 0.14509804, 0.        ,\n",
       "        0.        , 0.        , 0.        , 0.        , 0.        ,\n",
       "        0.        , 0.        , 0.        , 0.        , 0.        ,\n",
       "        0.        , 0.        , 0.        ],\n",
       "       [0.        , 0.        , 0.        , 0.        , 0.        ,\n",
       "        0.        , 0.        , 0.        , 0.        , 0.        ,\n",
       "        0.        , 0.        , 0.        , 0.        , 0.        ,\n",
       "        0.        , 0.        , 0.        , 0.        , 0.        ,\n",
       "        0.        , 0.        , 0.        , 0.        , 0.        ,\n",
       "        0.        , 0.        , 0.        ],\n",
       "       [0.        , 0.        , 0.        , 0.        , 0.        ,\n",
       "        0.        , 0.        , 0.        , 0.        , 0.        ,\n",
       "        0.        , 0.        , 0.        , 0.        , 0.        ,\n",
       "        0.        , 0.        , 0.        , 0.        , 0.        ,\n",
       "        0.        , 0.        , 0.        , 0.        , 0.        ,\n",
       "        0.        , 0.        , 0.        ],\n",
       "       [0.        , 0.        , 0.        , 0.        , 0.        ,\n",
       "        0.        , 0.        , 0.        , 0.        , 0.        ,\n",
       "        0.        , 0.        , 0.        , 0.        , 0.        ,\n",
       "        0.        , 0.        , 0.        , 0.        , 0.        ,\n",
       "        0.        , 0.        , 0.        , 0.        , 0.        ,\n",
       "        0.        , 0.        , 0.        ],\n",
       "       [0.        , 0.        , 0.        , 0.        , 0.        ,\n",
       "        0.        , 0.        , 0.        , 0.        , 0.        ,\n",
       "        0.        , 0.        , 0.        , 0.        , 0.        ,\n",
       "        0.        , 0.        , 0.        , 0.        , 0.        ,\n",
       "        0.        , 0.        , 0.        , 0.        , 0.        ,\n",
       "        0.        , 0.        , 0.        ]])"
      ]
     },
     "execution_count": 8,
     "metadata": {},
     "output_type": "execute_result"
    }
   ],
   "source": [
    "first_image"
   ]
  },
  {
   "cell_type": "code",
   "execution_count": 9,
   "metadata": {},
   "outputs": [
    {
     "data": {
      "text/plain": [
       "(28, 28)"
      ]
     },
     "execution_count": 9,
     "metadata": {},
     "output_type": "execute_result"
    }
   ],
   "source": [
    "first_image.shape"
   ]
  },
  {
   "cell_type": "markdown",
   "metadata": {},
   "source": [
    "comprobamos que la variable si contiene el primer valor en el arreglo de categorías y procedemos a dibujar el primer dígito."
   ]
  },
  {
   "cell_type": "code",
   "execution_count": 10,
   "metadata": {},
   "outputs": [
    {
     "data": {
      "text/plain": [
       "0"
      ]
     },
     "execution_count": 10,
     "metadata": {},
     "output_type": "execute_result"
    }
   ],
   "source": [
    "first_label"
   ]
  },
  {
   "cell_type": "code",
   "execution_count": 11,
   "metadata": {},
   "outputs": [
    {
     "data": {
      "image/png": "[encoded data removed]",
      "text/plain": [
       "<Figure size 432x288 with 1 Axes>"
      ]
     },
     "metadata": {},
     "output_type": "display_data"
    }
   ],
   "source": [
    "plt.imshow(first_image, cmap='gray_r')\n",
    "plt.title('Digito: {}'.format(first_label))\n",
    "plt.show()"
   ]
  },
  {
   "cell_type": "markdown",
   "metadata": {},
   "source": [
    "Ahora, vamos a hacer un histograma con la variable que contiene los labels de los dígitos del dataset para ver que tan distribuidos están los datos."
   ]
  },
  {
   "cell_type": "code",
   "execution_count": 20,
   "metadata": {},
   "outputs": [
    {
     "data": {
      "text/plain": [
       "(array([5923., 6742., 5958., 6131., 5842., 5420., 5918., 6265., 5851.,\n",
       "        5949.]),\n",
       " array([0. , 0.9, 1.8, 2.7, 3.6, 4.5, 5.4, 6.3, 7.2, 8.1, 9. ]),\n",
       " <a list of 10 Patch objects>)"
      ]
     },
     "execution_count": 20,
     "metadata": {},
     "output_type": "execute_result"
    },
    {
     "data": {
      "image/png": "[encoded data removed]",
      "text/plain": [
       "<Figure size 432x288 with 1 Axes>"
      ]
     },
     "metadata": {},
     "output_type": "display_data"
    }
   ],
   "source": [
    "plt.title('Histograma digitos vs. Frecuencia de digitos')\n",
    "plt.xlabel(\"Digitos\")\n",
    "plt.ylabel(\"Frecuencia\")\n",
    "plt.hist(mnist_train_labels, edgecolor = 'black')"
   ]
  },
  {
   "cell_type": "markdown",
   "metadata": {},
   "source": [
    "Podemos observar que los datos están aproximadamente distribuidos de manera uniforme lo cual nos permite asegurar que el dataset tiene un buen balance de dígitos para entrenar los modelos."
   ]
  },
  {
   "cell_type": "markdown",
   "metadata": {},
   "source": [
    "# Regresión Logística Multinomial"
   ]
  },
  {
   "cell_type": "markdown",
   "metadata": {},
   "source": [
    "Lo primero que haremos será importar la librería necesaria para entrenar el modelo"
   ]
  },
  {
   "cell_type": "code",
   "execution_count": 22,
   "metadata": {},
   "outputs": [],
   "source": [
    "from sklearn.linear_model import LogisticRegression\n",
    "from sklearn.metrics import classification_report"
   ]
  },
  {
   "cell_type": "markdown",
   "metadata": {},
   "source": [
    "Ahora instanciamos un objeto de la clase LogisticRegression de Sklearn enviando los siguientes parametros:\n",
    "\n",
    "multi_class = \"multinomial\" para indicar que el problema que queremos resolver es multiclase.\n",
    "\n",
    "Según la documentación de Sklearn, el parámetro solver, es usado para definir cuál es el algoritmo de optimización a usar en nuestro modelo, además, se menciona que \"newton-cg\", \"sag\", \"saga\" y \"lbfgs\" son algoritmos que funcionan bien para problemas multinomiales como es nuestro caso. Se descarta \"liblinear\" por ser un algoritmo que funciona bien para datasets pequeños, contrario al dataset de MNIST. [https://scikit-learn.org/stable/modules/generated/sklearn.linear_model.LogisticRegression.html]\n",
    "\n",
    "Vamos a entrenar cuatro modelos con cada uno de los algoritmos de optimización mencionados y compararemos los resultados de cada uno con el fin de ver cual es la mejor opción para nuestro dataset."
   ]
  },
  {
   "cell_type": "code",
   "execution_count": 23,
   "metadata": {},
   "outputs": [
    {
     "name": "stderr",
     "output_type": "stream",
     "text": [
      "/home/daniel/anaconda3/lib/python3.6/site-packages/sklearn/linear_model/sag.py:326: ConvergenceWarning: The max_iter was reached which means the coef_ did not converge\n",
      "  \"the coef_ did not converge\", ConvergenceWarning)\n"
     ]
    }
   ],
   "source": [
    "solver_algorithms = [\"sag\", \"saga\", \"newton-cg\", \"lbfgs\"]\n",
    "model_accuracy = []\n",
    "classification_reports = []\n",
    "\n",
    "for algorithm in solver_algorithms:\n",
    "    logistic_regression_model = LogisticRegression(solver=algorithm, multi_class='multinomial', max_iter=300)\n",
    "    logistic_regression_model.fit(mnist_train_pixels, mnist_train_labels)\n",
    "    predictions = logistic_regression_model.predict(mnist_test_pixels)\n",
    "    model_accuracy.append(logistic_regression_model.score(mnist_test_pixels, mnist_test_labels))\n",
    "    classification_reports.append(classification_report(mnist_test_labels, predictions))"
   ]
  },
  {
   "cell_type": "markdown",
   "metadata": {},
   "source": [
    "Para comparar los resultados usaremos un reporte de clasificación que trae Sklearn, de esta forma podemos comparar los modelos generados con los diferentes métodos de optimización."
   ]
  },
  {
   "cell_type": "code",
   "execution_count": 33,
   "metadata": {},
   "outputs": [
    {
     "name": "stdout",
     "output_type": "stream",
     "text": [
      "Reporte de clasificación para método de optimizacion: sag\n",
      "             precision    recall  f1-score   support\n",
      "\n",
      "          0       0.95      0.98      0.96       980\n",
      "          1       0.96      0.98      0.97      1135\n",
      "          2       0.93      0.90      0.91      1032\n",
      "          3       0.90      0.92      0.91      1010\n",
      "          4       0.94      0.94      0.94       982\n",
      "          5       0.90      0.87      0.88       892\n",
      "          6       0.94      0.95      0.95       958\n",
      "          7       0.93      0.92      0.93      1027\n",
      "          8       0.88      0.88      0.88       974\n",
      "          9       0.91      0.92      0.91      1009\n",
      "\n",
      "avg / total       0.93      0.93      0.93      9999\n",
      "\n",
      "Reporte de clasificación para método de optimizacion: saga\n",
      "             precision    recall  f1-score   support\n",
      "\n",
      "          0       0.95      0.98      0.96       980\n",
      "          1       0.96      0.98      0.97      1135\n",
      "          2       0.93      0.90      0.91      1032\n",
      "          3       0.90      0.91      0.91      1010\n",
      "          4       0.94      0.94      0.94       982\n",
      "          5       0.90      0.87      0.88       892\n",
      "          6       0.94      0.95      0.95       958\n",
      "          7       0.93      0.92      0.93      1027\n",
      "          8       0.88      0.88      0.88       974\n",
      "          9       0.91      0.92      0.91      1009\n",
      "\n",
      "avg / total       0.93      0.93      0.93      9999\n",
      "\n",
      "Reporte de clasificación para método de optimizacion: newton-cg\n",
      "             precision    recall  f1-score   support\n",
      "\n",
      "          0       0.95      0.97      0.96       980\n",
      "          1       0.96      0.98      0.97      1135\n",
      "          2       0.93      0.90      0.91      1032\n",
      "          3       0.90      0.92      0.91      1010\n",
      "          4       0.94      0.94      0.94       982\n",
      "          5       0.90      0.87      0.88       892\n",
      "          6       0.94      0.95      0.95       958\n",
      "          7       0.93      0.92      0.93      1027\n",
      "          8       0.88      0.88      0.88       974\n",
      "          9       0.91      0.92      0.91      1009\n",
      "\n",
      "avg / total       0.93      0.93      0.93      9999\n",
      "\n",
      "Reporte de clasificación para método de optimizacion: lbfgs\n",
      "             precision    recall  f1-score   support\n",
      "\n",
      "          0       0.95      0.98      0.96       980\n",
      "          1       0.96      0.98      0.97      1135\n",
      "          2       0.93      0.90      0.92      1032\n",
      "          3       0.90      0.91      0.91      1010\n",
      "          4       0.94      0.94      0.94       982\n",
      "          5       0.90      0.87      0.88       892\n",
      "          6       0.94      0.95      0.95       958\n",
      "          7       0.93      0.92      0.93      1027\n",
      "          8       0.88      0.88      0.88       974\n",
      "          9       0.91      0.92      0.91      1009\n",
      "\n",
      "avg / total       0.93      0.93      0.93      9999\n",
      "\n"
     ]
    }
   ],
   "source": [
    "for report, algorithm in zip(classification_reports, solver_algorithms):\n",
    "    print(\"Reporte de clasificación para método de optimización: \" + algorithm  + \"\\n\" + report)"
   ]
  },
  {
   "cell_type": "code",
   "execution_count": 35,
   "metadata": {},
   "outputs": [
    {
     "name": "stdout",
     "output_type": "stream",
     "text": [
      "Precisión del modelo con el método de optimización sag: 0.9256925692569257\n",
      "Precisión del modelo con el método de optimización saga: 0.9253925392539254\n",
      "Precisión del modelo con el método de optimización newton-cg: 0.9255925592559255\n",
      "Precisión del modelo con el método de optimización lbfgs: 0.9260926092609261\n"
     ]
    }
   ],
   "source": [
    "for accuracy, algorithm in zip(model_accuracy, solver_algorithms):\n",
    "    print(\"Precisión del modelo con el método de optimización \" + algorithm + \": \" + str(accuracy))"
   ]
  },
  {
   "cell_type": "markdown",
   "metadata": {},
   "source": [
    "Se puede notar que la precisión de los cuatro modelos es similar (93%) siendo **lbfgs** el mejor método de optimización por muy poca diferencia. "
   ]
  },
  {
   "cell_type": "markdown",
   "metadata": {},
   "source": [
    "# Árboles de clasificación"
   ]
  },
  {
   "cell_type": "markdown",
   "metadata": {},
   "source": [
    "Primero, importamos la librería necesaria para crear un árbol de clasificación"
   ]
  },
  {
   "cell_type": "code",
   "execution_count": 5,
   "metadata": {},
   "outputs": [],
   "source": [
    "from sklearn.tree import DecisionTreeClassifier"
   ]
  },
  {
   "cell_type": "markdown",
   "metadata": {},
   "source": [
    "El parámetro que vamos a variar en el Árbol de Clasificación es min_samples_split, este parámetro nos indica la cantidad de muestras mínimas necesarias para dividir un nodo, esta variable tomará valores de 10% a 100% con un aumento del 10% entre valores"
   ]
  },
  {
   "cell_type": "code",
   "execution_count": 6,
   "metadata": {},
   "outputs": [
    {
     "name": "stdout",
     "output_type": "stream",
     "text": [
      "[0.1, 0.2, 0.3, 0.4, 0.5, 0.6, 0.7, 0.8, 0.9, 1.0]\n"
     ]
    }
   ],
   "source": [
    "# Acá se crea un arreglo con los valores para el parámetro\n",
    "samples_values = [value/100 for value in range(10,110,10)]\n",
    "print(samples_values)"
   ]
  },
  {
   "cell_type": "markdown",
   "metadata": {},
   "source": [
    "Procedemos a entrenar el modelo con cada uno de los valores de la muestra mínima y a tomar los valores de la precisión en la predicción del modelo para poder comparar los resultados al final."
   ]
  },
  {
   "cell_type": "code",
   "execution_count": 7,
   "metadata": {},
   "outputs": [],
   "source": [
    "model_accuracy = [] # Variable para guardar los resultados de la precisión del modelo\n",
    "for sample_split in samples_values:\n",
    "    decision_tree_model = DecisionTreeClassifier(min_samples_split=sample_split)\n",
    "    decision_tree_model.fit(mnist_train_pixels, mnist_train_labels)\n",
    "    predictions = decision_tree_model.predict(mnist_test_pixels)\n",
    "    model_accuracy.append(decision_tree_model.score(mnist_test_pixels, mnist_test_labels))"
   ]
  },
  {
   "cell_type": "code",
   "execution_count": 11,
   "metadata": {},
   "outputs": [
    {
     "name": "stdout",
     "output_type": "stream",
     "text": [
      "Precisión del modelo dividiendo el árbol en muestras del 10%: 0.620962096209621\n",
      "Precisión del modelo dividiendo el árbol en muestras del 20%: 0.5107510751075107\n",
      "Precisión del modelo dividiendo el árbol en muestras del 30%: 0.41104110411041106\n",
      "Precisión del modelo dividiendo el árbol en muestras del 40%: 0.3414341434143414\n",
      "Precisión del modelo dividiendo el árbol en muestras del 50%: 0.27502750275027504\n",
      "Precisión del modelo dividiendo el árbol en muestras del 60%: 0.27502750275027504\n",
      "Precisión del modelo dividiendo el árbol en muestras del 70%: 0.1993199319931993\n",
      "Precisión del modelo dividiendo el árbol en muestras del 80%: 0.1993199319931993\n",
      "Precisión del modelo dividiendo el árbol en muestras del 90%: 0.1993199319931993\n",
      "Precisión del modelo dividiendo el árbol en muestras del 100%: 0.1993199319931993\n"
     ]
    }
   ],
   "source": [
    "for accuracy, sample in zip(model_accuracy, samples_values):\n",
    "    print(\"Precisión del modelo dividiendo el árbol en muestras del \" + str(int(sample*100)) + \"%: \" + str(accuracy))"
   ]
  },
  {
   "cell_type": "markdown",
   "metadata": {},
   "source": [
    "# Bosques Aleatorios"
   ]
  },
  {
   "cell_type": "markdown",
   "metadata": {},
   "source": [
    "Importamos las librerías necesarias para usar el clasificador de bosques aleatorios"
   ]
  },
  {
   "cell_type": "code",
   "execution_count": 13,
   "metadata": {},
   "outputs": [],
   "source": [
    "from sklearn.ensemble import RandomForestClassifier\n",
    "import numpy as np"
   ]
  },
  {
   "cell_type": "markdown",
   "metadata": {},
   "source": [
    "El parámetro que podemos variar es el número de estimadores para el clasificador (n_estimators), según la documentación [https://scikit-learn.org/stable/modules/generated/sklearn.ensemble.RandomForestClassifier.html] es la cantidad de árboles que se usará para el clasificador. \n",
    "\n",
    "Vamos a usar varios estimadores desde 1 hasta 200 con la finalidad de observar el comportamiento del modelo. Usualmente mientras más alto sea el número de árboles, mejor aprende el modelo, sin embargo, la velocidad de entrenamiento disminuye, por lo que haremos una búsqueda del número de estimadores ideal teniendo en cuenta el porcentaje de error para cada estimador."
   ]
  },
  {
   "cell_type": "code",
   "execution_count": 18,
   "metadata": {},
   "outputs": [],
   "source": [
    "n_estimators = [1, 2, 4, 8, 16, 32, 64, 100, 150, 200]\n",
    "error_rate = []\n",
    "model_accuracy = []\n",
    "\n",
    "for estimator in n_estimators:\n",
    "    random_forest_model = RandomForestClassifier(n_estimators=estimator, n_jobs=-1)\n",
    "    random_forest_model.fit(mnist_train_pixels, mnist_train_labels)\n",
    "    predictions = random_forest_model.predict(mnist_test_pixels)\n",
    "    model_accuracy.append(random_forest_model.score(mnist_test_pixels, mnist_test_labels))\n",
    "    error_rate.append(np.mean(predictions != mnist_test_labels))"
   ]
  },
  {
   "cell_type": "markdown",
   "metadata": {},
   "source": [
    "A continuación observamos los valores de la precisión del modelo con las diferentes cantidades de estimadores."
   ]
  },
  {
   "cell_type": "code",
   "execution_count": 19,
   "metadata": {},
   "outputs": [
    {
     "name": "stdout",
     "output_type": "stream",
     "text": [
      "Precisión del modelo con 1 estimadores: 0.8207820782078208\n",
      "Precisión del modelo con 2 estimadores: 0.8296829682968296\n",
      "Precisión del modelo con 4 estimadores: 0.9006900690069007\n",
      "Precisión del modelo con 8 estimadores: 0.9400940094009401\n",
      "Precisión del modelo con 16 estimadores: 0.9593959395939594\n",
      "Precisión del modelo con 32 estimadores: 0.965096509650965\n",
      "Precisión del modelo con 64 estimadores: 0.9682968296829683\n",
      "Precisión del modelo con 100 estimadores: 0.9710971097109711\n",
      "Precisión del modelo con 150 estimadores: 0.9710971097109711\n",
      "Precisión del modelo con 200 estimadores: 0.9708970897089709\n"
     ]
    }
   ],
   "source": [
    "for accuracy, estimator in zip(model_accuracy, n_estimators):\n",
    "    print(\"Precisión del modelo con \" + str(estimator) + \" estimadores: \" + str(accuracy))"
   ]
  },
  {
   "cell_type": "markdown",
   "metadata": {},
   "source": [
    "Se puede observar un incremento en la precisión cuando se incrementa el número de estimadores a excepción el último valor.\n",
    "\n",
    "A continuación vamos a graficar el ratio de error con respecto a la cantidad de estimadores."
   ]
  },
  {
   "cell_type": "code",
   "execution_count": 21,
   "metadata": {},
   "outputs": [
    {
     "data": {
      "text/plain": [
       "Text(0,0.5,'Error Rate')"
      ]
     },
     "execution_count": 21,
     "metadata": {},
     "output_type": "execute_result"
    },
    {
     "data": {
      "image/png": "[encoded data removed]",
      "text/plain": [
       "<Figure size 720x432 with 1 Axes>"
      ]
     },
     "metadata": {},
     "output_type": "display_data"
    }
   ],
   "source": [
    "plt.figure(figsize=(10,6))\n",
    "plt.plot(n_estimators,error_rate,color='blue', linestyle='dashed', marker='o',\n",
    "         markerfacecolor='red', markersize=10)\n",
    "plt.title('# Estimators vs. Error Rate')\n",
    "plt.xlabel('Estimators')\n",
    "plt.ylabel('Error Rate')"
   ]
  },
  {
   "cell_type": "markdown",
   "metadata": {},
   "source": [
    "Se puede observar que después de 32 estimadores el ratio de error y la precisión del modelo (97%) es bastante similar a medida que se aumenta la cantidad de estimadores, por esta razón, la mejor cantidad de estimadores de los cuales tuvimos en cuenta para entrenar y predecir el modelo son 32 estimadores."
   ]
  },
  {
   "cell_type": "markdown",
   "metadata": {},
   "source": [
    "# Máquinas de Soporte Vectorial"
   ]
  },
  {
   "cell_type": "markdown",
   "metadata": {},
   "source": [
    "Para máquinas de soporte vectorial usaremos una herramienta de Sklearn llamada GridSearchCV que nos ayudará a buscar los mejores parámetros a usar en nuestro modelo combinando diferentes valores para parámetros como la penalización por error (c) y el gamma del kernel (gamma) usando validación cruzada. [https://scikit-learn.org/stable/modules/generated/sklearn.model_selection.GridSearchCV.html]\n",
    "\n",
    "Para esto, creamos un diccionario con los posibles valores que recibirá el modelo de Máquinas de Soporte Vectorial en sus parámetros y sobre los cuales el GridSearch comenzará a iterar.\n",
    "\n",
    "Primero importaremos las librerías necesarias y después crearemos el diccionario con los valores."
   ]
  },
  {
   "cell_type": "code",
   "execution_count": 15,
   "metadata": {},
   "outputs": [],
   "source": [
    "from sklearn.svm import SVC\n",
    "from sklearn.model_selection import GridSearchCV"
   ]
  },
  {
   "cell_type": "code",
   "execution_count": 16,
   "metadata": {},
   "outputs": [],
   "source": [
    "param_grid = {\"C\": [1, 10, 100], \"gamma\": [0.1, 0.01, 0.001], \"kernel\": [\"rbf\"]} "
   ]
  },
  {
   "cell_type": "markdown",
   "metadata": {},
   "source": [
    "Después de tener definido el diccionario con los valores para los parámetros, procedemos a crear un objeto de GridSearchCv y a entrenarlo. Este modelo recibe:\n",
    "\n",
    "- El modelo sobre el que va a iterar, en este caso, sobre SVC() que corresponde al modelo de Máquinas de Soporte Vectorial en la librería de Sklearn\n",
    "- El diccionario con los posibles valores (param_grid)\n",
    "- Refit lo usamos para poder obtener el atributo best_params_ que nos indicará cual fue la mejor combinación de parámetros encontrada\n",
    "- n_jobs que indica la cantidad de procesadores a usar para el entrenamiento"
   ]
  },
  {
   "cell_type": "code",
   "execution_count": 17,
   "metadata": {},
   "outputs": [
    {
     "name": "stderr",
     "output_type": "stream",
     "text": [
      "/home/pslcol.com.co/drestrepom/anaconda3/lib/python3.7/site-packages/sklearn/model_selection/_split.py:2053: FutureWarning: You should specify a value for 'cv' instead of relying on the default value. The default value will change from 3 to 5 in version 0.22.\n",
      "  warnings.warn(CV_WARNING, FutureWarning)\n"
     ]
    },
    {
     "data": {
      "text/plain": [
       "GridSearchCV(cv='warn', error_score='raise-deprecating',\n",
       "       estimator=SVC(C=1.0, cache_size=200, class_weight=None, coef0=0.0,\n",
       "  decision_function_shape='ovr', degree=3, gamma='auto_deprecated',\n",
       "  kernel='rbf', max_iter=-1, probability=False, random_state=None,\n",
       "  shrinking=True, tol=0.001, verbose=False),\n",
       "       fit_params=None, iid='warn', n_jobs=8,\n",
       "       param_grid={'C': [1, 10, 100], 'gamma': [0.1, 0.01, 0.001], 'kernel': ['rbf']},\n",
       "       pre_dispatch='2*n_jobs', refit=True, return_train_score='warn',\n",
       "       scoring=None, verbose=0)"
      ]
     },
     "execution_count": 17,
     "metadata": {},
     "output_type": "execute_result"
    }
   ],
   "source": [
    "grid = GridSearchCV(SVC(), param_grid, refit=True, n_jobs = 8)\n",
    "grid.fit(mnist_train_pixels, mnist_train_labels)"
   ]
  },
  {
   "cell_type": "markdown",
   "metadata": {},
   "source": [
    "Después de haber entrenado el GridSearchCV obtenemos el atributo best_params_ para conocer la mejor combinación de parámetros para el modelo de Máquinas de Soporte Vectorial."
   ]
  },
  {
   "cell_type": "code",
   "execution_count": 18,
   "metadata": {},
   "outputs": [
    {
     "data": {
      "text/plain": [
       "{'C': 100, 'gamma': 0.01, 'kernel': 'rbf'}"
      ]
     },
     "execution_count": 18,
     "metadata": {},
     "output_type": "execute_result"
    }
   ],
   "source": [
    "grid.best_params_"
   ]
  },
  {
   "cell_type": "markdown",
   "metadata": {},
   "source": [
    "Podemos ver que el mejor modelo se obtuvo con un C = 100 y gamma = 0.01 bajo el kernel rbf que es el predeterminado en el modelo de SVM.\n",
    "\n",
    "Usaremos el método predict con el grid, este método hará las predicciones para el modelo de SVM con los parámetros descritos anteriormente y a continuación veremos el classification_report para ver la precisión que obtuvo el modelo de SVM con c=100 y gamma=0.01."
   ]
  },
  {
   "cell_type": "code",
   "execution_count": 20,
   "metadata": {},
   "outputs": [],
   "source": [
    "grid_predictions = grid.predict(mnist_test_pixels)"
   ]
  },
  {
   "cell_type": "code",
   "execution_count": 23,
   "metadata": {},
   "outputs": [
    {
     "name": "stdout",
     "output_type": "stream",
     "text": [
      "              precision    recall  f1-score   support\n",
      "\n",
      "           0       0.98      0.99      0.99       980\n",
      "           1       0.99      0.99      0.99      1135\n",
      "           2       0.98      0.98      0.98      1032\n",
      "           3       0.98      0.98      0.98      1010\n",
      "           4       0.98      0.98      0.98       982\n",
      "           5       0.98      0.98      0.98       892\n",
      "           6       0.99      0.99      0.99       958\n",
      "           7       0.98      0.98      0.98      1027\n",
      "           8       0.98      0.98      0.98       974\n",
      "           9       0.97      0.97      0.97      1009\n",
      "\n",
      "   micro avg       0.98      0.98      0.98      9999\n",
      "   macro avg       0.98      0.98      0.98      9999\n",
      "weighted avg       0.98      0.98      0.98      9999\n",
      "\n"
     ]
    }
   ],
   "source": [
    "from sklearn.metrics import classification_report\n",
    "print(classification_report(mnist_test_labels,grid_predictions))"
   ]
  },
  {
   "cell_type": "markdown",
   "metadata": {},
   "source": [
    "Se puede observar que el modelo obtuvo una precisión del 98%"
   ]
  },
  {
   "cell_type": "markdown",
   "metadata": {},
   "source": [
    "# Redes Neuronales"
   ]
  },
  {
   "cell_type": "markdown",
   "metadata": {},
   "source": [
    "Para este modelo nos hemos basado en el encontrado en [https://www.analyticsvidhya.com/blog/2017/06/getting-started-with-deep-learning-using-keras-in-r/] \n",
    "\n",
    "Primero vamos a importar Tensorflow y Keras para construir nuestra red neuronal"
   ]
  },
  {
   "cell_type": "code",
   "execution_count": 25,
   "metadata": {},
   "outputs": [],
   "source": [
    "import tensorflow as tf\n",
    "import keras"
   ]
  },
  {
   "cell_type": "markdown",
   "metadata": {},
   "source": [
    "Ahora, para que la red neuronal no tome los valores categóricos del 0 al 9 como valores numéricos si no como categorías, vamos a hacer un one hot encoding con los dataset que contienen los labels (mnist_train_labels y mnist_test_labels). \n",
    "\n",
    "Para esto, definimos una variable con las 10 clases y procedemos a usar el método to_categorical de Keras."
   ]
  },
  {
   "cell_type": "code",
   "execution_count": 26,
   "metadata": {},
   "outputs": [],
   "source": [
    "num_classes = 10\n",
    "mnist_y_train = keras.utils.to_categorical(mnist_train_labels, num_classes)\n",
    "mnist_y_test = keras.utils.to_categorical(mnist_test_labels, num_classes)"
   ]
  },
  {
   "cell_type": "markdown",
   "metadata": {},
   "source": [
    "Vamos a definir una función que nos muestre un gráfico sobre la precisión del modelo a través del tiempo de entrenamiento, es decir, la precisión del modelo en cada Epoch."
   ]
  },
  {
   "cell_type": "code",
   "execution_count": 27,
   "metadata": {},
   "outputs": [],
   "source": [
    "def print_history(fitted_model, units):\n",
    "    plt.plot(fitted_model.history['acc'])\n",
    "    plt.plot(fitted_model.history['val_acc'])\n",
    "    plt.title('Precision del modelo con {} unidades'.format(units))\n",
    "    plt.ylabel('Precisión')\n",
    "    plt.xlabel('Epoch')\n",
    "    plt.legend(['Entrenamiento', 'Validación'], loc='lower right')\n",
    "    plt.show()"
   ]
  },
  {
   "cell_type": "markdown",
   "metadata": {},
   "source": [
    "Definimos la variable image_size con un valor de 784, ésta será la que define la cantidad de neuronas para nuestra capa de entrada a la red neuronal.\n",
    "\n",
    "Nuestra capa de salida tendrá una cantidad de neuronas definida en la variable num_clases=10 que corresponde a cada uno de los números del 0 al 9 de la variable categórica del dataset de MNIST.\n",
    "\n",
    "Vamos a construir un perceptrón multicapa con una sola capa oculta variando el parámetro units en la capa de entrada, este parámetro indica la cantidad de nodos en una capa de la red neuronal."
   ]
  },
  {
   "cell_type": "code",
   "execution_count": 29,
   "metadata": {},
   "outputs": [
    {
     "name": "stdout",
     "output_type": "stream",
     "text": [
      "Train on 59999 samples, validate on 9999 samples\n",
      "Epoch 1/50\n",
      "59999/59999 [==============================] - 5s 83us/step - loss: 0.4995 - acc: 0.8642 - val_loss: 0.2730 - val_acc: 0.9217\n",
      "Epoch 2/50\n",
      "59999/59999 [==============================] - 4s 65us/step - loss: 0.2563 - acc: 0.9278 - val_loss: 0.2284 - val_acc: 0.9343\n",
      "Epoch 3/50\n",
      "59999/59999 [==============================] - 4s 66us/step - loss: 0.2140 - acc: 0.9400 - val_loss: 0.1984 - val_acc: 0.9421\n",
      "Epoch 4/50\n",
      "59999/59999 [==============================] - 4s 64us/step - loss: 0.1869 - acc: 0.9470 - val_loss: 0.1792 - val_acc: 0.9489\n",
      "Epoch 5/50\n",
      "59999/59999 [==============================] - 4s 66us/step - loss: 0.1675 - acc: 0.9524 - val_loss: 0.1719 - val_acc: 0.9505\n",
      "Epoch 6/50\n",
      "59999/59999 [==============================] - 4s 65us/step - loss: 0.1534 - acc: 0.9556 - val_loss: 0.1584 - val_acc: 0.9544\n",
      "Epoch 7/50\n",
      "59999/59999 [==============================] - 4s 69us/step - loss: 0.1412 - acc: 0.9586 - val_loss: 0.1494 - val_acc: 0.9578\n",
      "Epoch 8/50\n",
      "59999/59999 [==============================] - 4s 64us/step - loss: 0.1306 - acc: 0.9615 - val_loss: 0.1482 - val_acc: 0.9571\n",
      "Epoch 9/50\n",
      "59999/59999 [==============================] - 4s 64us/step - loss: 0.1219 - acc: 0.9650 - val_loss: 0.1399 - val_acc: 0.9602\n",
      "Epoch 10/50\n",
      "59999/59999 [==============================] - 4s 64us/step - loss: 0.1139 - acc: 0.9670 - val_loss: 0.1368 - val_acc: 0.9611\n",
      "Epoch 11/50\n",
      "59999/59999 [==============================] - 4s 64us/step - loss: 0.1072 - acc: 0.9687 - val_loss: 0.1250 - val_acc: 0.9640\n",
      "Epoch 12/50\n",
      "59999/59999 [==============================] - 4s 66us/step - loss: 0.1022 - acc: 0.9700 - val_loss: 0.1267 - val_acc: 0.9632\n",
      "Epoch 13/50\n",
      "59999/59999 [==============================] - 4s 65us/step - loss: 0.0961 - acc: 0.9720 - val_loss: 0.1253 - val_acc: 0.9629\n",
      "Epoch 14/50\n",
      "59999/59999 [==============================] - 4s 63us/step - loss: 0.0916 - acc: 0.9731 - val_loss: 0.1230 - val_acc: 0.9635\n",
      "Epoch 15/50\n",
      "59999/59999 [==============================] - 4s 64us/step - loss: 0.0870 - acc: 0.9742 - val_loss: 0.1220 - val_acc: 0.9645\n",
      "Epoch 16/50\n",
      "59999/59999 [==============================] - 4s 64us/step - loss: 0.0832 - acc: 0.9759 - val_loss: 0.1186 - val_acc: 0.9655\n",
      "Epoch 17/50\n",
      "59999/59999 [==============================] - 4s 75us/step - loss: 0.0786 - acc: 0.9770 - val_loss: 0.1173 - val_acc: 0.9632\n",
      "Epoch 18/50\n",
      "59999/59999 [==============================] - 3s 57us/step - loss: 0.0760 - acc: 0.9781 - val_loss: 0.1197 - val_acc: 0.9645\n",
      "Epoch 19/50\n",
      "59999/59999 [==============================] - 3s 55us/step - loss: 0.0731 - acc: 0.9789 - val_loss: 0.1149 - val_acc: 0.9665\n",
      "Epoch 20/50\n",
      "59999/59999 [==============================] - 3s 56us/step - loss: 0.0698 - acc: 0.9798 - val_loss: 0.1210 - val_acc: 0.9650\n",
      "Epoch 21/50\n",
      "59999/59999 [==============================] - 3s 55us/step - loss: 0.0668 - acc: 0.9799 - val_loss: 0.1160 - val_acc: 0.9671\n",
      "Epoch 22/50\n",
      "59999/59999 [==============================] - 3s 55us/step - loss: 0.0649 - acc: 0.9807 - val_loss: 0.1166 - val_acc: 0.9668\n",
      "Epoch 23/50\n",
      "59999/59999 [==============================] - 3s 56us/step - loss: 0.0612 - acc: 0.9820 - val_loss: 0.1153 - val_acc: 0.9667\n",
      "Epoch 24/50\n",
      "59999/59999 [==============================] - 3s 58us/step - loss: 0.0595 - acc: 0.9823 - val_loss: 0.1175 - val_acc: 0.9668\n",
      "Epoch 25/50\n",
      "59999/59999 [==============================] - 4s 60us/step - loss: 0.0567 - acc: 0.9839 - val_loss: 0.1153 - val_acc: 0.9677\n",
      "Epoch 26/50\n",
      "59999/59999 [==============================] - 4s 75us/step - loss: 0.0544 - acc: 0.9845 - val_loss: 0.1179 - val_acc: 0.9656\n",
      "Epoch 27/50\n",
      "59999/59999 [==============================] - 4s 73us/step - loss: 0.0530 - acc: 0.9845 - val_loss: 0.1160 - val_acc: 0.9673\n",
      "Epoch 28/50\n",
      "59999/59999 [==============================] - 4s 72us/step - loss: 0.0512 - acc: 0.9851 - val_loss: 0.1154 - val_acc: 0.9667\n",
      "Epoch 29/50\n",
      "59999/59999 [==============================] - 4s 69us/step - loss: 0.0487 - acc: 0.9859 - val_loss: 0.1198 - val_acc: 0.9663\n",
      "Epoch 30/50\n",
      "59999/59999 [==============================] - 4s 58us/step - loss: 0.0474 - acc: 0.9860 - val_loss: 0.1163 - val_acc: 0.9676\n",
      "Epoch 31/50\n",
      "59999/59999 [==============================] - 4s 61us/step - loss: 0.0452 - acc: 0.9873 - val_loss: 0.1131 - val_acc: 0.9678\n",
      "Epoch 32/50\n",
      "59999/59999 [==============================] - 4s 61us/step - loss: 0.0436 - acc: 0.9876 - val_loss: 0.1193 - val_acc: 0.9689\n",
      "Epoch 33/50\n",
      "59999/59999 [==============================] - 4s 59us/step - loss: 0.0420 - acc: 0.9882 - val_loss: 0.1231 - val_acc: 0.9668\n",
      "Epoch 34/50\n",
      "59999/59999 [==============================] - 4s 62us/step - loss: 0.0403 - acc: 0.9885 - val_loss: 0.1189 - val_acc: 0.9685\n",
      "Epoch 35/50\n",
      "59999/59999 [==============================] - 4s 63us/step - loss: 0.0390 - acc: 0.9895 - val_loss: 0.1236 - val_acc: 0.9668\n",
      "Epoch 36/50\n",
      "59999/59999 [==============================] - 4s 61us/step - loss: 0.0378 - acc: 0.9894 - val_loss: 0.1234 - val_acc: 0.9653\n",
      "Epoch 37/50\n",
      "59999/59999 [==============================] - 3s 56us/step - loss: 0.0368 - acc: 0.9897 - val_loss: 0.1210 - val_acc: 0.9675\n",
      "Epoch 38/50\n",
      "59999/59999 [==============================] - 3s 56us/step - loss: 0.0358 - acc: 0.9901 - val_loss: 0.1260 - val_acc: 0.9675\n",
      "Epoch 39/50\n",
      "59999/59999 [==============================] - 3s 55us/step - loss: 0.0346 - acc: 0.9904 - val_loss: 0.1237 - val_acc: 0.9687\n",
      "Epoch 40/50\n",
      "59999/59999 [==============================] - 3s 55us/step - loss: 0.0328 - acc: 0.9914 - val_loss: 0.1273 - val_acc: 0.9680\n",
      "Epoch 41/50\n",
      "59999/59999 [==============================] - 3s 55us/step - loss: 0.0315 - acc: 0.9917 - val_loss: 0.1261 - val_acc: 0.9681\n",
      "Epoch 42/50\n",
      "59999/59999 [==============================] - 3s 53us/step - loss: 0.0304 - acc: 0.9919 - val_loss: 0.1288 - val_acc: 0.9671\n",
      "Epoch 43/50\n",
      "59999/59999 [==============================] - 3s 54us/step - loss: 0.0295 - acc: 0.9921 - val_loss: 0.1315 - val_acc: 0.9660\n",
      "Epoch 44/50\n",
      "59999/59999 [==============================] - 3s 54us/step - loss: 0.0290 - acc: 0.9921 - val_loss: 0.1265 - val_acc: 0.9682\n",
      "Epoch 45/50\n",
      "59999/59999 [==============================] - 3s 55us/step - loss: 0.0277 - acc: 0.9928 - val_loss: 0.1350 - val_acc: 0.9654\n",
      "Epoch 46/50\n",
      "59999/59999 [==============================] - 3s 55us/step - loss: 0.0274 - acc: 0.9925 - val_loss: 0.1330 - val_acc: 0.9672\n",
      "Epoch 47/50\n",
      "59999/59999 [==============================] - 3s 56us/step - loss: 0.0260 - acc: 0.9934 - val_loss: 0.1403 - val_acc: 0.9666\n",
      "Epoch 48/50\n",
      "59999/59999 [==============================] - 3s 53us/step - loss: 0.0249 - acc: 0.9936 - val_loss: 0.1347 - val_acc: 0.9672\n",
      "Epoch 49/50\n",
      "59999/59999 [==============================] - 3s 53us/step - loss: 0.0242 - acc: 0.9939 - val_loss: 0.1399 - val_acc: 0.9669\n",
      "Epoch 50/50\n",
      "59999/59999 [==============================] - 3s 54us/step - loss: 0.0226 - acc: 0.9945 - val_loss: 0.1364 - val_acc: 0.9671\n"
     ]
    },
    {
     "data": {
      "image/png": "[encoded data removed]",
      "text/plain": [
       "<Figure size 432x288 with 1 Axes>"
      ]
     },
     "metadata": {},
     "output_type": "display_data"
    },
    {
     "name": "stdout",
     "output_type": "stream",
     "text": [
      "Train on 59999 samples, validate on 9999 samples\n",
      "Epoch 1/50\n",
      "59999/59999 [==============================] - 5s 84us/step - loss: 0.3244 - acc: 0.9770 - val_loss: 0.1852 - val_acc: 0.9651\n",
      "Epoch 2/50\n",
      "59999/59999 [==============================] - 3s 56us/step - loss: 0.0338 - acc: 0.9920 - val_loss: 0.1904 - val_acc: 0.9664\n",
      "Epoch 3/50\n",
      "59999/59999 [==============================] - 3s 56us/step - loss: 0.0271 - acc: 0.9933 - val_loss: 0.1982 - val_acc: 0.9652\n",
      "Epoch 4/50\n",
      "59999/59999 [==============================] - 3s 58us/step - loss: 0.0260 - acc: 0.9938 - val_loss: 0.2076 - val_acc: 0.9649\n",
      "Epoch 5/50\n",
      "59999/59999 [==============================] - 3s 55us/step - loss: 0.0218 - acc: 0.9944 - val_loss: 0.2195 - val_acc: 0.9615\n",
      "Epoch 6/50\n",
      "59999/59999 [==============================] - 3s 56us/step - loss: 0.0234 - acc: 0.9941 - val_loss: 0.2084 - val_acc: 0.9650\n",
      "Epoch 7/50\n",
      "59999/59999 [==============================] - 3s 55us/step - loss: 0.0210 - acc: 0.9948 - val_loss: 0.2148 - val_acc: 0.9650\n",
      "Epoch 8/50\n",
      "59999/59999 [==============================] - 3s 56us/step - loss: 0.0195 - acc: 0.9951 - val_loss: 0.2209 - val_acc: 0.9635\n",
      "Epoch 9/50\n",
      "59999/59999 [==============================] - 3s 56us/step - loss: 0.0234 - acc: 0.9940 - val_loss: 0.2096 - val_acc: 0.9654\n",
      "Epoch 10/50\n",
      "59999/59999 [==============================] - 3s 56us/step - loss: 0.0183 - acc: 0.9952 - val_loss: 0.2243 - val_acc: 0.9642\n",
      "Epoch 11/50\n",
      "59999/59999 [==============================] - 3s 57us/step - loss: 0.0176 - acc: 0.9955 - val_loss: 0.2384 - val_acc: 0.9626\n",
      "Epoch 12/50\n",
      "59999/59999 [==============================] - 3s 55us/step - loss: 0.0203 - acc: 0.9949 - val_loss: 0.2179 - val_acc: 0.9650\n",
      "Epoch 13/50\n",
      "59999/59999 [==============================] - 3s 55us/step - loss: 0.0184 - acc: 0.9955 - val_loss: 0.2276 - val_acc: 0.9649\n",
      "Epoch 14/50\n",
      "59999/59999 [==============================] - 3s 55us/step - loss: 0.0214 - acc: 0.9946 - val_loss: 0.2120 - val_acc: 0.9647\n",
      "Epoch 15/50\n",
      "59999/59999 [==============================] - 3s 55us/step - loss: 0.0147 - acc: 0.9962 - val_loss: 0.2301 - val_acc: 0.9642\n",
      "Epoch 16/50\n",
      "59999/59999 [==============================] - 3s 56us/step - loss: 0.0166 - acc: 0.9957 - val_loss: 0.2423 - val_acc: 0.9620\n",
      "Epoch 17/50\n",
      "59999/59999 [==============================] - 3s 56us/step - loss: 0.0198 - acc: 0.9950 - val_loss: 0.2318 - val_acc: 0.9640\n",
      "Epoch 18/50\n",
      "59999/59999 [==============================] - 3s 55us/step - loss: 0.0166 - acc: 0.9956 - val_loss: 0.2381 - val_acc: 0.9634\n",
      "Epoch 19/50\n",
      "59999/59999 [==============================] - 3s 55us/step - loss: 0.0162 - acc: 0.9958 - val_loss: 0.2362 - val_acc: 0.9642\n",
      "Epoch 20/50\n",
      "59999/59999 [==============================] - 3s 55us/step - loss: 0.0185 - acc: 0.9954 - val_loss: 0.2251 - val_acc: 0.9625\n",
      "Epoch 21/50\n",
      "59999/59999 [==============================] - 3s 56us/step - loss: 0.0170 - acc: 0.9955 - val_loss: 0.2391 - val_acc: 0.9645\n",
      "Epoch 22/50\n",
      "59999/59999 [==============================] - 3s 56us/step - loss: 0.0127 - acc: 0.9968 - val_loss: 0.2703 - val_acc: 0.9615\n",
      "Epoch 23/50\n",
      "59999/59999 [==============================] - 3s 55us/step - loss: 0.0174 - acc: 0.9955 - val_loss: 0.2420 - val_acc: 0.9634\n",
      "Epoch 24/50\n",
      "59999/59999 [==============================] - 3s 55us/step - loss: 0.0171 - acc: 0.9957 - val_loss: 0.2239 - val_acc: 0.9653\n",
      "Epoch 25/50\n",
      "59999/59999 [==============================] - 3s 55us/step - loss: 0.0167 - acc: 0.9957 - val_loss: 0.2280 - val_acc: 0.9642\n",
      "Epoch 26/50\n",
      "59999/59999 [==============================] - 4s 65us/step - loss: 0.0147 - acc: 0.9966 - val_loss: 0.2352 - val_acc: 0.9642\n",
      "Epoch 27/50\n",
      "59999/59999 [==============================] - 4s 71us/step - loss: 0.0155 - acc: 0.9961 - val_loss: 0.2355 - val_acc: 0.9646\n",
      "Epoch 28/50\n",
      "59999/59999 [==============================] - 5s 77us/step - loss: 0.0131 - acc: 0.9966 - val_loss: 0.2495 - val_acc: 0.9629\n",
      "Epoch 29/50\n",
      "59999/59999 [==============================] - 5s 79us/step - loss: 0.0149 - acc: 0.9962 - val_loss: 0.2455 - val_acc: 0.9632\n",
      "Epoch 30/50\n",
      "59999/59999 [==============================] - 5s 85us/step - loss: 0.0152 - acc: 0.9961 - val_loss: 0.2438 - val_acc: 0.9641\n",
      "Epoch 31/50\n",
      "59999/59999 [==============================] - 4s 69us/step - loss: 0.0134 - acc: 0.9965 - val_loss: 0.2453 - val_acc: 0.9645\n",
      "Epoch 32/50\n",
      "59999/59999 [==============================] - 4s 66us/step - loss: 0.0158 - acc: 0.9962 - val_loss: 0.2383 - val_acc: 0.9636\n",
      "Epoch 33/50\n",
      "59999/59999 [==============================] - 4s 66us/step - loss: 0.0166 - acc: 0.9958 - val_loss: 0.2324 - val_acc: 0.9636\n",
      "Epoch 34/50\n",
      "59999/59999 [==============================] - 4s 68us/step - loss: 0.0125 - acc: 0.9968 - val_loss: 0.2471 - val_acc: 0.9630\n",
      "Epoch 35/50\n",
      "59999/59999 [==============================] - 4s 65us/step - loss: 0.0111 - acc: 0.9973 - val_loss: 0.2757 - val_acc: 0.9613\n",
      "Epoch 36/50\n",
      "59999/59999 [==============================] - 4s 69us/step - loss: 0.0166 - acc: 0.9954 - val_loss: 0.2339 - val_acc: 0.9646\n",
      "Epoch 37/50\n",
      "59999/59999 [==============================] - 4s 68us/step - loss: 0.0174 - acc: 0.9957 - val_loss: 0.2368 - val_acc: 0.9622\n",
      "Epoch 38/50\n",
      "59999/59999 [==============================] - 4s 68us/step - loss: 0.0121 - acc: 0.9971 - val_loss: 0.2385 - val_acc: 0.9639\n",
      "Epoch 39/50\n",
      "59999/59999 [==============================] - 4s 69us/step - loss: 0.0103 - acc: 0.9976 - val_loss: 0.2487 - val_acc: 0.9645\n",
      "Epoch 40/50\n",
      "59999/59999 [==============================] - 4s 64us/step - loss: 0.0167 - acc: 0.9957 - val_loss: 0.2432 - val_acc: 0.9623\n",
      "Epoch 41/50\n",
      "59999/59999 [==============================] - 4s 63us/step - loss: 0.0130 - acc: 0.9967 - val_loss: 0.2525 - val_acc: 0.9619\n",
      "Epoch 42/50\n",
      "59999/59999 [==============================] - 4s 65us/step - loss: 0.0122 - acc: 0.9971 - val_loss: 0.2433 - val_acc: 0.9635\n",
      "Epoch 43/50\n",
      "59999/59999 [==============================] - 4s 67us/step - loss: 0.0128 - acc: 0.9965 - val_loss: 0.2457 - val_acc: 0.9645\n",
      "Epoch 44/50\n",
      "59999/59999 [==============================] - 4s 64us/step - loss: 0.0133 - acc: 0.9967 - val_loss: 0.2362 - val_acc: 0.9658\n",
      "Epoch 45/50\n",
      "59999/59999 [==============================] - 4s 66us/step - loss: 0.0106 - acc: 0.9975 - val_loss: 0.2496 - val_acc: 0.9636\n",
      "Epoch 46/50\n",
      "59999/59999 [==============================] - 4s 66us/step - loss: 0.0133 - acc: 0.9968 - val_loss: 0.2500 - val_acc: 0.9616\n",
      "Epoch 47/50\n",
      "59999/59999 [==============================] - 4s 64us/step - loss: 0.0130 - acc: 0.9967 - val_loss: 0.2457 - val_acc: 0.9639\n",
      "Epoch 48/50\n",
      "59999/59999 [==============================] - 4s 65us/step - loss: 0.0154 - acc: 0.9961 - val_loss: 0.2344 - val_acc: 0.9645\n",
      "Epoch 49/50\n",
      "59999/59999 [==============================] - 4s 64us/step - loss: 0.0146 - acc: 0.9964 - val_loss: 0.2354 - val_acc: 0.9653\n",
      "Epoch 50/50\n",
      "59999/59999 [==============================] - 4s 64us/step - loss: 0.0102 - acc: 0.9975 - val_loss: 0.2470 - val_acc: 0.9647\n"
     ]
    },
    {
     "data": {
      "image/png": "[encoded data removed]",
      "text/plain": [
       "<Figure size 432x288 with 1 Axes>"
      ]
     },
     "metadata": {},
     "output_type": "display_data"
    },
    {
     "name": "stdout",
     "output_type": "stream",
     "text": [
      "Train on 59999 samples, validate on 9999 samples\n",
      "Epoch 1/50\n",
      "59999/59999 [==============================] - 6s 107us/step - loss: 0.2122 - acc: 0.9878 - val_loss: 0.2731 - val_acc: 0.9587\n",
      "Epoch 2/50\n",
      "59999/59999 [==============================] - 5s 84us/step - loss: 0.0416 - acc: 0.9934 - val_loss: 0.2376 - val_acc: 0.9655\n",
      "Epoch 3/50\n",
      "59999/59999 [==============================] - 5s 83us/step - loss: 0.0330 - acc: 0.9945 - val_loss: 0.2451 - val_acc: 0.9642\n",
      "Epoch 4/50\n",
      "59999/59999 [==============================] - 5s 82us/step - loss: 0.0264 - acc: 0.9953 - val_loss: 0.2543 - val_acc: 0.9640\n",
      "Epoch 5/50\n",
      "59999/59999 [==============================] - 5s 82us/step - loss: 0.0204 - acc: 0.9963 - val_loss: 0.2457 - val_acc: 0.9656\n",
      "Epoch 6/50\n",
      "59999/59999 [==============================] - 5s 84us/step - loss: 0.0143 - acc: 0.9974 - val_loss: 0.2516 - val_acc: 0.9662\n",
      "Epoch 7/50\n",
      "59999/59999 [==============================] - 5s 85us/step - loss: 0.0153 - acc: 0.9970 - val_loss: 0.2565 - val_acc: 0.9641\n",
      "Epoch 8/50\n",
      "59999/59999 [==============================] - 5s 85us/step - loss: 0.0149 - acc: 0.9969 - val_loss: 0.2543 - val_acc: 0.9654\n",
      "Epoch 9/50\n",
      "59999/59999 [==============================] - 5s 84us/step - loss: 0.0158 - acc: 0.9969 - val_loss: 0.2622 - val_acc: 0.9632\n",
      "Epoch 10/50\n",
      "59999/59999 [==============================] - 5s 88us/step - loss: 0.0121 - acc: 0.9975 - val_loss: 0.2851 - val_acc: 0.9628\n",
      "Epoch 11/50\n",
      "59999/59999 [==============================] - 5s 88us/step - loss: 0.0171 - acc: 0.9965 - val_loss: 0.2683 - val_acc: 0.9624\n",
      "Epoch 12/50\n",
      "59999/59999 [==============================] - 6s 93us/step - loss: 0.0157 - acc: 0.9966 - val_loss: 0.2822 - val_acc: 0.9619\n",
      "Epoch 13/50\n",
      "59999/59999 [==============================] - 7s 110us/step - loss: 0.0140 - acc: 0.9971 - val_loss: 0.2543 - val_acc: 0.9650\n",
      "Epoch 14/50\n",
      "59999/59999 [==============================] - 6s 102us/step - loss: 0.0147 - acc: 0.9968 - val_loss: 0.2649 - val_acc: 0.9646\n",
      "Epoch 15/50\n",
      "59999/59999 [==============================] - 5s 91us/step - loss: 0.0147 - acc: 0.9967 - val_loss: 0.2667 - val_acc: 0.9630\n",
      "Epoch 16/50\n",
      "59999/59999 [==============================] - 6s 95us/step - loss: 0.0129 - acc: 0.9973 - val_loss: 0.2729 - val_acc: 0.9634\n",
      "Epoch 17/50\n",
      "59999/59999 [==============================] - 4s 74us/step - loss: 0.0143 - acc: 0.9967 - val_loss: 0.2701 - val_acc: 0.9638\n",
      "Epoch 18/50\n",
      "59999/59999 [==============================] - 4s 73us/step - loss: 0.0123 - acc: 0.9974 - val_loss: 0.2634 - val_acc: 0.9651\n",
      "Epoch 19/50\n",
      "59999/59999 [==============================] - 5s 77us/step - loss: 0.0124 - acc: 0.9972 - val_loss: 0.2723 - val_acc: 0.9648\n",
      "Epoch 20/50\n",
      "59999/59999 [==============================] - 5s 77us/step - loss: 0.0133 - acc: 0.9971 - val_loss: 0.2507 - val_acc: 0.9641\n",
      "Epoch 21/50\n",
      "59999/59999 [==============================] - 5s 75us/step - loss: 0.0112 - acc: 0.9975 - val_loss: 0.2695 - val_acc: 0.9640\n",
      "Epoch 22/50\n",
      "59999/59999 [==============================] - 5s 81us/step - loss: 0.0129 - acc: 0.9971 - val_loss: 0.2726 - val_acc: 0.9620\n",
      "Epoch 23/50\n",
      "59999/59999 [==============================] - 5s 79us/step - loss: 0.0133 - acc: 0.9970 - val_loss: 0.2821 - val_acc: 0.9601\n",
      "Epoch 24/50\n",
      "59999/59999 [==============================] - 5s 77us/step - loss: 0.0117 - acc: 0.9971 - val_loss: 0.2742 - val_acc: 0.9639\n",
      "Epoch 25/50\n",
      "59999/59999 [==============================] - 5s 81us/step - loss: 0.0141 - acc: 0.9967 - val_loss: 0.2499 - val_acc: 0.9645\n",
      "Epoch 26/50\n",
      "59999/59999 [==============================] - 5s 86us/step - loss: 0.0101 - acc: 0.9979 - val_loss: 0.2643 - val_acc: 0.9650\n",
      "Epoch 27/50\n",
      "59999/59999 [==============================] - 5s 76us/step - loss: 0.0111 - acc: 0.9972 - val_loss: 0.2704 - val_acc: 0.9636\n",
      "Epoch 28/50\n",
      "59999/59999 [==============================] - 5s 76us/step - loss: 0.0130 - acc: 0.9972 - val_loss: 0.2725 - val_acc: 0.9643\n",
      "Epoch 29/50\n",
      "59999/59999 [==============================] - 5s 79us/step - loss: 0.0108 - acc: 0.9975 - val_loss: 0.2665 - val_acc: 0.9655\n",
      "Epoch 30/50\n",
      "59999/59999 [==============================] - 4s 75us/step - loss: 0.0110 - acc: 0.9976 - val_loss: 0.2652 - val_acc: 0.9654\n",
      "Epoch 31/50\n",
      "59999/59999 [==============================] - 5s 78us/step - loss: 0.0128 - acc: 0.9970 - val_loss: 0.2428 - val_acc: 0.9651\n",
      "Epoch 32/50\n",
      "59999/59999 [==============================] - 5s 77us/step - loss: 0.0102 - acc: 0.9974 - val_loss: 0.2749 - val_acc: 0.9651\n",
      "Epoch 33/50\n",
      "59999/59999 [==============================] - 5s 80us/step - loss: 0.0117 - acc: 0.9972 - val_loss: 0.2518 - val_acc: 0.9645\n",
      "Epoch 34/50\n",
      "59999/59999 [==============================] - 5s 76us/step - loss: 0.0118 - acc: 0.9975 - val_loss: 0.2541 - val_acc: 0.9634\n",
      "Epoch 35/50\n",
      "59999/59999 [==============================] - 5s 76us/step - loss: 0.0092 - acc: 0.9981 - val_loss: 0.2779 - val_acc: 0.9655\n",
      "Epoch 36/50\n",
      "59999/59999 [==============================] - 5s 81us/step - loss: 0.0098 - acc: 0.9979 - val_loss: 0.2784 - val_acc: 0.9635\n",
      "Epoch 37/50\n",
      "59999/59999 [==============================] - 5s 75us/step - loss: 0.0097 - acc: 0.9978 - val_loss: 0.2843 - val_acc: 0.9626\n",
      "Epoch 38/50\n",
      "59999/59999 [==============================] - 4s 73us/step - loss: 0.0138 - acc: 0.9967 - val_loss: 0.2584 - val_acc: 0.9645\n",
      "Epoch 39/50\n",
      "59999/59999 [==============================] - 4s 73us/step - loss: 0.0116 - acc: 0.9972 - val_loss: 0.2587 - val_acc: 0.9656\n",
      "Epoch 40/50\n",
      "59999/59999 [==============================] - 4s 74us/step - loss: 0.0123 - acc: 0.9971 - val_loss: 0.2563 - val_acc: 0.9656\n",
      "Epoch 41/50\n",
      "59999/59999 [==============================] - 4s 74us/step - loss: 0.0097 - acc: 0.9981 - val_loss: 0.2511 - val_acc: 0.9657\n",
      "Epoch 42/50\n",
      "59999/59999 [==============================] - 4s 73us/step - loss: 0.0105 - acc: 0.9976 - val_loss: 0.2875 - val_acc: 0.9648\n",
      "Epoch 43/50\n",
      "59999/59999 [==============================] - 5s 85us/step - loss: 0.0107 - acc: 0.9978 - val_loss: 0.2802 - val_acc: 0.9597\n",
      "Epoch 44/50\n",
      "59999/59999 [==============================] - 5s 76us/step - loss: 0.0099 - acc: 0.9973 - val_loss: 0.2866 - val_acc: 0.9650\n",
      "Epoch 45/50\n",
      "59999/59999 [==============================] - 5s 83us/step - loss: 0.0102 - acc: 0.9975 - val_loss: 0.2800 - val_acc: 0.9631\n",
      "Epoch 46/50\n",
      "59999/59999 [==============================] - 5s 78us/step - loss: 0.0116 - acc: 0.9973 - val_loss: 0.2715 - val_acc: 0.9647\n",
      "Epoch 47/50\n",
      "59999/59999 [==============================] - 5s 79us/step - loss: 0.0082 - acc: 0.9980 - val_loss: 0.2909 - val_acc: 0.9639\n",
      "Epoch 48/50\n",
      "59999/59999 [==============================] - 5s 76us/step - loss: 0.0092 - acc: 0.9979 - val_loss: 0.2884 - val_acc: 0.9642\n",
      "Epoch 49/50\n",
      "59999/59999 [==============================] - 5s 79us/step - loss: 0.0128 - acc: 0.9971 - val_loss: 0.2579 - val_acc: 0.9647\n",
      "Epoch 50/50\n",
      "59999/59999 [==============================] - 5s 82us/step - loss: 0.0065 - acc: 0.9985 - val_loss: 0.3016 - val_acc: 0.9628\n"
     ]
    },
    {
     "data": {
      "image/png": "[encoded data removed]",
      "text/plain": [
       "<Figure size 432x288 with 1 Axes>"
      ]
     },
     "metadata": {},
     "output_type": "display_data"
    },
    {
     "name": "stdout",
     "output_type": "stream",
     "text": [
      "Train on 59999 samples, validate on 9999 samples\n",
      "Epoch 1/50\n",
      "59999/59999 [==============================] - 8s 125us/step - loss: 0.1327 - acc: 0.9935 - val_loss: 0.2429 - val_acc: 0.9648\n",
      "Epoch 2/50\n",
      "59999/59999 [==============================] - 5s 90us/step - loss: 0.0112 - acc: 0.9978 - val_loss: 0.2724 - val_acc: 0.9630\n",
      "Epoch 3/50\n",
      "59999/59999 [==============================] - 5s 89us/step - loss: 0.0089 - acc: 0.9983 - val_loss: 0.2866 - val_acc: 0.9640\n",
      "Epoch 4/50\n",
      "59999/59999 [==============================] - 6s 92us/step - loss: 0.0102 - acc: 0.9981 - val_loss: 0.2808 - val_acc: 0.9633\n",
      "Epoch 5/50\n",
      "59999/59999 [==============================] - 6s 94us/step - loss: 0.0141 - acc: 0.9971 - val_loss: 0.2520 - val_acc: 0.9666\n",
      "Epoch 6/50\n",
      "59999/59999 [==============================] - 6s 97us/step - loss: 0.0120 - acc: 0.9972 - val_loss: 0.2656 - val_acc: 0.9650\n",
      "Epoch 7/50\n",
      "59999/59999 [==============================] - 6s 96us/step - loss: 0.0118 - acc: 0.9976 - val_loss: 0.2765 - val_acc: 0.9630\n",
      "Epoch 8/50\n",
      "59999/59999 [==============================] - 5s 91us/step - loss: 0.0130 - acc: 0.9970 - val_loss: 0.3072 - val_acc: 0.9631\n",
      "Epoch 9/50\n",
      "59999/59999 [==============================] - 5s 91us/step - loss: 0.0103 - acc: 0.9980 - val_loss: 0.2639 - val_acc: 0.9651\n",
      "Epoch 10/50\n",
      "59999/59999 [==============================] - 6s 94us/step - loss: 0.0095 - acc: 0.9980 - val_loss: 0.2817 - val_acc: 0.9653\n",
      "Epoch 11/50\n",
      "59999/59999 [==============================] - 5s 92us/step - loss: 0.0126 - acc: 0.9973 - val_loss: 0.2897 - val_acc: 0.9651\n",
      "Epoch 12/50\n",
      "59999/59999 [==============================] - 5s 91us/step - loss: 0.0113 - acc: 0.9978 - val_loss: 0.2804 - val_acc: 0.9646\n",
      "Epoch 13/50\n",
      "59999/59999 [==============================] - 6s 94us/step - loss: 0.0144 - acc: 0.9968 - val_loss: 0.2748 - val_acc: 0.9624\n",
      "Epoch 14/50\n",
      "59999/59999 [==============================] - 6s 93us/step - loss: 0.0088 - acc: 0.9980 - val_loss: 0.3113 - val_acc: 0.9628\n",
      "Epoch 15/50\n",
      "59999/59999 [==============================] - 6s 93us/step - loss: 0.0112 - acc: 0.9976 - val_loss: 0.2832 - val_acc: 0.9655\n",
      "Epoch 16/50\n",
      "59999/59999 [==============================] - 5s 90us/step - loss: 0.0099 - acc: 0.9979 - val_loss: 0.2640 - val_acc: 0.9649\n",
      "Epoch 17/50\n",
      "59999/59999 [==============================] - 6s 93us/step - loss: 0.0127 - acc: 0.9973 - val_loss: 0.2686 - val_acc: 0.9640\n",
      "Epoch 18/50\n",
      "59999/59999 [==============================] - 6s 93us/step - loss: 0.0116 - acc: 0.9974 - val_loss: 0.2848 - val_acc: 0.9588\n",
      "Epoch 19/50\n",
      "59999/59999 [==============================] - 5s 90us/step - loss: 0.0128 - acc: 0.9969 - val_loss: 0.2628 - val_acc: 0.9647\n",
      "Epoch 20/50\n",
      "59999/59999 [==============================] - 6s 92us/step - loss: 0.0111 - acc: 0.9974 - val_loss: 0.2732 - val_acc: 0.9656\n",
      "Epoch 21/50\n",
      "59999/59999 [==============================] - 5s 90us/step - loss: 0.0086 - acc: 0.9982 - val_loss: 0.2914 - val_acc: 0.9647\n",
      "Epoch 22/50\n",
      "59999/59999 [==============================] - 5s 91us/step - loss: 0.0101 - acc: 0.9976 - val_loss: 0.3043 - val_acc: 0.9657\n",
      "Epoch 23/50\n",
      "59999/59999 [==============================] - 6s 92us/step - loss: 0.0108 - acc: 0.9974 - val_loss: 0.3144 - val_acc: 0.9638\n",
      "Epoch 24/50\n",
      "59999/59999 [==============================] - 6s 96us/step - loss: 0.0126 - acc: 0.9975 - val_loss: 0.2770 - val_acc: 0.9655\n",
      "Epoch 25/50\n",
      "59999/59999 [==============================] - 6s 95us/step - loss: 0.0090 - acc: 0.9979 - val_loss: 0.2922 - val_acc: 0.9643\n",
      "Epoch 26/50\n",
      "59999/59999 [==============================] - 6s 96us/step - loss: 0.0076 - acc: 0.9984 - val_loss: 0.3029 - val_acc: 0.9646\n",
      "Epoch 27/50\n",
      "59999/59999 [==============================] - 6s 96us/step - loss: 0.0106 - acc: 0.9975 - val_loss: 0.3168 - val_acc: 0.9659\n",
      "Epoch 28/50\n",
      "59999/59999 [==============================] - 6s 93us/step - loss: 0.0119 - acc: 0.9972 - val_loss: 0.3168 - val_acc: 0.9650\n",
      "Epoch 29/50\n",
      "59999/59999 [==============================] - 6s 92us/step - loss: 0.0116 - acc: 0.9976 - val_loss: 0.2728 - val_acc: 0.9632\n",
      "Epoch 30/50\n",
      "59999/59999 [==============================] - 6s 92us/step - loss: 0.0110 - acc: 0.9974 - val_loss: 0.2950 - val_acc: 0.9640\n",
      "Epoch 31/50\n",
      "59999/59999 [==============================] - 5s 91us/step - loss: 0.0090 - acc: 0.9981 - val_loss: 0.3088 - val_acc: 0.9637\n",
      "Epoch 32/50\n",
      "59999/59999 [==============================] - 6s 95us/step - loss: 0.0090 - acc: 0.9980 - val_loss: 0.2882 - val_acc: 0.9655\n",
      "Epoch 33/50\n",
      "59999/59999 [==============================] - 5s 91us/step - loss: 0.0108 - acc: 0.9975 - val_loss: 0.2872 - val_acc: 0.9648\n",
      "Epoch 34/50\n",
      "59999/59999 [==============================] - 9s 147us/step - loss: 0.0100 - acc: 0.9978 - val_loss: 0.3315 - val_acc: 0.9626\n",
      "Epoch 35/50\n",
      "59999/59999 [==============================] - 6s 107us/step - loss: 0.0091 - acc: 0.9978 - val_loss: 0.3248 - val_acc: 0.9637\n",
      "Epoch 36/50\n",
      "59999/59999 [==============================] - 7s 119us/step - loss: 0.0093 - acc: 0.9978 - val_loss: 0.3086 - val_acc: 0.9638\n",
      "Epoch 37/50\n",
      "59999/59999 [==============================] - 8s 135us/step - loss: 0.0109 - acc: 0.9975 - val_loss: 0.3010 - val_acc: 0.9650\n",
      "Epoch 38/50\n",
      "59999/59999 [==============================] - 7s 110us/step - loss: 0.0089 - acc: 0.9980 - val_loss: 0.3082 - val_acc: 0.9645\n",
      "Epoch 39/50\n",
      "59999/59999 [==============================] - 7s 111us/step - loss: 0.0111 - acc: 0.9975 - val_loss: 0.2992 - val_acc: 0.9636\n",
      "Epoch 40/50\n",
      "59999/59999 [==============================] - 7s 119us/step - loss: 0.0094 - acc: 0.9978 - val_loss: 0.2765 - val_acc: 0.9661\n",
      "Epoch 41/50\n",
      "59999/59999 [==============================] - 7s 113us/step - loss: 0.0112 - acc: 0.9976 - val_loss: 0.2867 - val_acc: 0.9619\n",
      "Epoch 42/50\n",
      "59999/59999 [==============================] - 6s 104us/step - loss: 0.0120 - acc: 0.9974 - val_loss: 0.2940 - val_acc: 0.9644\n",
      "Epoch 43/50\n",
      "59999/59999 [==============================] - 8s 135us/step - loss: 0.0058 - acc: 0.9988 - val_loss: 0.3082 - val_acc: 0.9639\n",
      "Epoch 44/50\n",
      "59999/59999 [==============================] - 6s 106us/step - loss: 0.0125 - acc: 0.9974 - val_loss: 0.2608 - val_acc: 0.9644\n",
      "Epoch 45/50\n",
      "59999/59999 [==============================] - 7s 121us/step - loss: 0.0125 - acc: 0.9972 - val_loss: 0.2519 - val_acc: 0.9645\n",
      "Epoch 46/50\n",
      "59999/59999 [==============================] - 7s 116us/step - loss: 0.0075 - acc: 0.9982 - val_loss: 0.2890 - val_acc: 0.9662\n",
      "Epoch 47/50\n",
      "59999/59999 [==============================] - 7s 114us/step - loss: 0.0077 - acc: 0.9982 - val_loss: 0.2784 - val_acc: 0.9633\n",
      "Epoch 48/50\n",
      "59999/59999 [==============================] - 7s 121us/step - loss: 0.0100 - acc: 0.9978 - val_loss: 0.2963 - val_acc: 0.9634\n",
      "Epoch 49/50\n",
      "59999/59999 [==============================] - 7s 123us/step - loss: 0.0102 - acc: 0.9976 - val_loss: 0.2986 - val_acc: 0.9661\n",
      "Epoch 50/50\n",
      "59999/59999 [==============================] - 7s 120us/step - loss: 0.0114 - acc: 0.9972 - val_loss: 0.2815 - val_acc: 0.9661\n"
     ]
    },
    {
     "data": {
      "image/png": "[encoded data removed]",
      "text/plain": [
       "<Figure size 432x288 with 1 Axes>"
      ]
     },
     "metadata": {},
     "output_type": "display_data"
    }
   ],
   "source": [
    "from keras.layers import Dense # Capa de red neuronal regular\n",
    "from keras.models import Sequential # Configura el modelo para el entrenamiento\n",
    "\n",
    "image_size = 784 # 28*28\n",
    "model=Sequential()\n",
    "quantity_of_units = [32, 256, image_size, 2048] # Diferentes valores de unit para evaluar el modelo\n",
    "\n",
    "for units in quantity_of_units:\n",
    "    model.add(Dense(units, input_dim=image_size, activation='relu')) # Capa oculta con cantidad de neuronas variable\n",
    "    keras.layers.core.Dropout(rate=0.4) # Creamos una capa oculta para regularizar y evitar sobre-entrenamientos\n",
    "    model.add(Dense(num_classes,input_dim=image_size,activation='softmax')) # Creamos la capa de salida\n",
    "\n",
    "    # Vamos a usar el optimizador adam para compilar el modelo y vamos a usar la precisión como metrica\n",
    "    model.compile(loss='categorical_crossentropy', optimizer=\"adam\", metrics=['accuracy'])\n",
    "\n",
    "    # Entrenamos el modelo y hacemos la validación\n",
    "    fit_history = model.fit(mnist_train_pixels,mnist_y_train,epochs=50,batch_size=128,validation_data=(mnist_test_pixels,mnist_y_test))\n",
    "    print_history(fit_history, units) # Graficamos la precisión a lo largo del entrenamiento"
   ]
  },
  {
   "cell_type": "markdown",
   "metadata": {},
   "source": [
    "Se puede observar que los modelos mantuvieron una precisión entre 96% y 97% en el conjunto de validación sin importar la cantidad de nodos. Además, a medida que se fueron aumentando la cantidad de nodos, el tiempo que tardó el dataset de entrenamiento en llegar a un punto óptimo de precisión fue menor, por lo que se concluye que a mayor número de nodos, habrá más velocidad para que el modelo llegue a su punto más alto de precisión."
   ]
  }
 ],
 "metadata": {
  "kernelspec": {
   "display_name": "Python 3",
   "language": "python",
   "name": "python3"
  },
  "language_info": {
   "codemirror_mode": {
    "name": "ipython",
    "version": 3
   },
   "file_extension": ".py",
   "mimetype": "text/x-python",
   "name": "python",
   "nbconvert_exporter": "python",
   "pygments_lexer": "ipython3",
   "version": "3.6.5"
  }
 },
 "nbformat": 4,
 "nbformat_minor": 2
}
