{
 "cells": [
  {
   "cell_type": "markdown",
   "metadata": {},
   "source": [
    "> # Trabajo #4 de TAE: Implementación de la estrategia\n",
    "**Daniel Restrepo Mejía - Sebastian Ramirez Tamayo - Mateo Zuluaga Giraldo - Santiago Restrepo Alvarez - David Ossa Saldarriaga**"
   ]
  },
  {
   "cell_type": "markdown",
   "metadata": {},
   "source": [
    "Lo primero que haremos es importar las librerías necesarias para el trabajo:\n"
   ]
  },
  {
   "cell_type": "code",
   "execution_count": 1,
   "metadata": {},
   "outputs": [],
   "source": [
    "import pandas as pd\n",
    "import matplotlib.pyplot as plt\n",
    "%matplotlib inline"
   ]
  },
  {
   "cell_type": "markdown",
   "metadata": {},
   "source": [
    "A continuación leemos los datos de entrenamiento y de prueba de MNIST y los ingresamos en frames para el procesamiento de los datos"
   ]
  },
  {
   "cell_type": "code",
   "execution_count": 2,
   "metadata": {},
   "outputs": [],
   "source": [
    "mnist_train = pd.read_csv(\"MNIST_data/mnist_train.csv\")\n",
    "mnist_test = pd.read_csv(\"MNIST_data/mnist_test.csv\")"
   ]
  },
  {
   "cell_type": "markdown",
   "metadata": {},
   "source": [
    "Usamos el método head para ver la estructura de los datos, con sus etiquetas"
   ]
  },
  {
   "cell_type": "code",
   "execution_count": 3,
   "metadata": {},
   "outputs": [
    {
     "data": {
      "text/html": [
       "<div>\n",
       "<style scoped>\n",
       "    .dataframe tbody tr th:only-of-type {\n",
       "        vertical-align: middle;\n",
       "    }\n",
       "\n",
       "    .dataframe tbody tr th {\n",
       "        vertical-align: top;\n",
       "    }\n",
       "\n",
       "    .dataframe thead th {\n",
       "        text-align: right;\n",
       "    }\n",
       "</style>\n",
       "<table border=\"1\" class=\"dataframe\">\n",
       "  <thead>\n",
       "    <tr style=\"text-align: right;\">\n",
       "      <th></th>\n",
       "      <th>5</th>\n",
       "      <th>0</th>\n",
       "      <th>0.1</th>\n",
       "      <th>0.2</th>\n",
       "      <th>0.3</th>\n",
       "      <th>0.4</th>\n",
       "      <th>0.5</th>\n",
       "      <th>0.6</th>\n",
       "      <th>0.7</th>\n",
       "      <th>0.8</th>\n",
       "      <th>...</th>\n",
       "      <th>0.608</th>\n",
       "      <th>0.609</th>\n",
       "      <th>0.610</th>\n",
       "      <th>0.611</th>\n",
       "      <th>0.612</th>\n",
       "      <th>0.613</th>\n",
       "      <th>0.614</th>\n",
       "      <th>0.615</th>\n",
       "      <th>0.616</th>\n",
       "      <th>0.617</th>\n",
       "    </tr>\n",
       "  </thead>\n",
       "  <tbody>\n",
       "    <tr>\n",
       "      <th>0</th>\n",
       "      <td>0</td>\n",
       "      <td>0</td>\n",
       "      <td>0</td>\n",
       "      <td>0</td>\n",
       "      <td>0</td>\n",
       "      <td>0</td>\n",
       "      <td>0</td>\n",
       "      <td>0</td>\n",
       "      <td>0</td>\n",
       "      <td>0</td>\n",
       "      <td>...</td>\n",
       "      <td>0</td>\n",
       "      <td>0</td>\n",
       "      <td>0</td>\n",
       "      <td>0</td>\n",
       "      <td>0</td>\n",
       "      <td>0</td>\n",
       "      <td>0</td>\n",
       "      <td>0</td>\n",
       "      <td>0</td>\n",
       "      <td>0</td>\n",
       "    </tr>\n",
       "    <tr>\n",
       "      <th>1</th>\n",
       "      <td>4</td>\n",
       "      <td>0</td>\n",
       "      <td>0</td>\n",
       "      <td>0</td>\n",
       "      <td>0</td>\n",
       "      <td>0</td>\n",
       "      <td>0</td>\n",
       "      <td>0</td>\n",
       "      <td>0</td>\n",
       "      <td>0</td>\n",
       "      <td>...</td>\n",
       "      <td>0</td>\n",
       "      <td>0</td>\n",
       "      <td>0</td>\n",
       "      <td>0</td>\n",
       "      <td>0</td>\n",
       "      <td>0</td>\n",
       "      <td>0</td>\n",
       "      <td>0</td>\n",
       "      <td>0</td>\n",
       "      <td>0</td>\n",
       "    </tr>\n",
       "    <tr>\n",
       "      <th>2</th>\n",
       "      <td>1</td>\n",
       "      <td>0</td>\n",
       "      <td>0</td>\n",
       "      <td>0</td>\n",
       "      <td>0</td>\n",
       "      <td>0</td>\n",
       "      <td>0</td>\n",
       "      <td>0</td>\n",
       "      <td>0</td>\n",
       "      <td>0</td>\n",
       "      <td>...</td>\n",
       "      <td>0</td>\n",
       "      <td>0</td>\n",
       "      <td>0</td>\n",
       "      <td>0</td>\n",
       "      <td>0</td>\n",
       "      <td>0</td>\n",
       "      <td>0</td>\n",
       "      <td>0</td>\n",
       "      <td>0</td>\n",
       "      <td>0</td>\n",
       "    </tr>\n",
       "  </tbody>\n",
       "</table>\n",
       "<p>3 rows × 785 columns</p>\n",
       "</div>"
      ],
      "text/plain": [
       "   5  0  0.1  0.2  0.3  0.4  0.5  0.6  0.7  0.8  ...    0.608  0.609  0.610  \\\n",
       "0  0  0    0    0    0    0    0    0    0    0  ...        0      0      0   \n",
       "1  4  0    0    0    0    0    0    0    0    0  ...        0      0      0   \n",
       "2  1  0    0    0    0    0    0    0    0    0  ...        0      0      0   \n",
       "\n",
       "   0.611  0.612  0.613  0.614  0.615  0.616  0.617  \n",
       "0      0      0      0      0      0      0      0  \n",
       "1      0      0      0      0      0      0      0  \n",
       "2      0      0      0      0      0      0      0  \n",
       "\n",
       "[3 rows x 785 columns]"
      ]
     },
     "execution_count": 3,
     "metadata": {},
     "output_type": "execute_result"
    }
   ],
   "source": [
    "mnist_train.head(3)"
   ]
  },
  {
   "cell_type": "code",
   "execution_count": 4,
   "metadata": {},
   "outputs": [
    {
     "data": {
      "text/html": [
       "<div>\n",
       "<style scoped>\n",
       "    .dataframe tbody tr th:only-of-type {\n",
       "        vertical-align: middle;\n",
       "    }\n",
       "\n",
       "    .dataframe tbody tr th {\n",
       "        vertical-align: top;\n",
       "    }\n",
       "\n",
       "    .dataframe thead th {\n",
       "        text-align: right;\n",
       "    }\n",
       "</style>\n",
       "<table border=\"1\" class=\"dataframe\">\n",
       "  <thead>\n",
       "    <tr style=\"text-align: right;\">\n",
       "      <th></th>\n",
       "      <th>7</th>\n",
       "      <th>0</th>\n",
       "      <th>0.1</th>\n",
       "      <th>0.2</th>\n",
       "      <th>0.3</th>\n",
       "      <th>0.4</th>\n",
       "      <th>0.5</th>\n",
       "      <th>0.6</th>\n",
       "      <th>0.7</th>\n",
       "      <th>0.8</th>\n",
       "      <th>...</th>\n",
       "      <th>0.658</th>\n",
       "      <th>0.659</th>\n",
       "      <th>0.660</th>\n",
       "      <th>0.661</th>\n",
       "      <th>0.662</th>\n",
       "      <th>0.663</th>\n",
       "      <th>0.664</th>\n",
       "      <th>0.665</th>\n",
       "      <th>0.666</th>\n",
       "      <th>0.667</th>\n",
       "    </tr>\n",
       "  </thead>\n",
       "  <tbody>\n",
       "    <tr>\n",
       "      <th>0</th>\n",
       "      <td>2</td>\n",
       "      <td>0</td>\n",
       "      <td>0</td>\n",
       "      <td>0</td>\n",
       "      <td>0</td>\n",
       "      <td>0</td>\n",
       "      <td>0</td>\n",
       "      <td>0</td>\n",
       "      <td>0</td>\n",
       "      <td>0</td>\n",
       "      <td>...</td>\n",
       "      <td>0</td>\n",
       "      <td>0</td>\n",
       "      <td>0</td>\n",
       "      <td>0</td>\n",
       "      <td>0</td>\n",
       "      <td>0</td>\n",
       "      <td>0</td>\n",
       "      <td>0</td>\n",
       "      <td>0</td>\n",
       "      <td>0</td>\n",
       "    </tr>\n",
       "    <tr>\n",
       "      <th>1</th>\n",
       "      <td>1</td>\n",
       "      <td>0</td>\n",
       "      <td>0</td>\n",
       "      <td>0</td>\n",
       "      <td>0</td>\n",
       "      <td>0</td>\n",
       "      <td>0</td>\n",
       "      <td>0</td>\n",
       "      <td>0</td>\n",
       "      <td>0</td>\n",
       "      <td>...</td>\n",
       "      <td>0</td>\n",
       "      <td>0</td>\n",
       "      <td>0</td>\n",
       "      <td>0</td>\n",
       "      <td>0</td>\n",
       "      <td>0</td>\n",
       "      <td>0</td>\n",
       "      <td>0</td>\n",
       "      <td>0</td>\n",
       "      <td>0</td>\n",
       "    </tr>\n",
       "    <tr>\n",
       "      <th>2</th>\n",
       "      <td>0</td>\n",
       "      <td>0</td>\n",
       "      <td>0</td>\n",
       "      <td>0</td>\n",
       "      <td>0</td>\n",
       "      <td>0</td>\n",
       "      <td>0</td>\n",
       "      <td>0</td>\n",
       "      <td>0</td>\n",
       "      <td>0</td>\n",
       "      <td>...</td>\n",
       "      <td>0</td>\n",
       "      <td>0</td>\n",
       "      <td>0</td>\n",
       "      <td>0</td>\n",
       "      <td>0</td>\n",
       "      <td>0</td>\n",
       "      <td>0</td>\n",
       "      <td>0</td>\n",
       "      <td>0</td>\n",
       "      <td>0</td>\n",
       "    </tr>\n",
       "  </tbody>\n",
       "</table>\n",
       "<p>3 rows × 785 columns</p>\n",
       "</div>"
      ],
      "text/plain": [
       "   7  0  0.1  0.2  0.3  0.4  0.5  0.6  0.7  0.8  ...    0.658  0.659  0.660  \\\n",
       "0  2  0    0    0    0    0    0    0    0    0  ...        0      0      0   \n",
       "1  1  0    0    0    0    0    0    0    0    0  ...        0      0      0   \n",
       "2  0  0    0    0    0    0    0    0    0    0  ...        0      0      0   \n",
       "\n",
       "   0.661  0.662  0.663  0.664  0.665  0.666  0.667  \n",
       "0      0      0      0      0      0      0      0  \n",
       "1      0      0      0      0      0      0      0  \n",
       "2      0      0      0      0      0      0      0  \n",
       "\n",
       "[3 rows x 785 columns]"
      ]
     },
     "execution_count": 4,
     "metadata": {},
     "output_type": "execute_result"
    }
   ],
   "source": [
    "mnist_test.head(3)"
   ]
  },
  {
   "cell_type": "markdown",
   "metadata": {},
   "source": [
    "Podemos observar que la columna a categorizar es la primer columna que tiene titulo \"5\" en el dataset de entramiento y \"7\" en el de prueba, el resto de columnas son los pixeles del dígito.\n",
    "\n",
    "Ahora procedemos a dividir el dataset de entrenamiento y de prueba en datasets con los valores de los pixeles y otros con las categorías."
   ]
  },
  {
   "cell_type": "code",
   "execution_count": 3,
   "metadata": {},
   "outputs": [],
   "source": [
    "mnist_train_pixels = mnist_train.drop(\"5\", axis=1) # pixeles del digito MNIST del dataset de entrenamiento\n",
    "mnist_train_labels = mnist_train.iloc[:,0] # variable categorica del dataset de entrenamiento\n",
    "mnist_test_pixels = mnist_test.drop(\"7\", axis=1) # pixeles del digito MNIST del dataset de prueba\n",
    "mnist_test_labels = mnist_test.iloc[:,0] # variable categorica del dataset de entrenamiento"
   ]
  },
  {
   "cell_type": "markdown",
   "metadata": {},
   "source": [
    "Procedemos a mirar el shape de los dataset de entrenamiento para darnos una idea de cuántas columnas y filas tiene cada uno y usamos el método head para ver como quedaron conformados los datasets"
   ]
  },
  {
   "cell_type": "code",
   "execution_count": 6,
   "metadata": {},
   "outputs": [
    {
     "data": {
      "text/plain": [
       "(59999, 784)"
      ]
     },
     "execution_count": 6,
     "metadata": {},
     "output_type": "execute_result"
    }
   ],
   "source": [
    "mnist_train_pixels.shape"
   ]
  },
  {
   "cell_type": "code",
   "execution_count": 7,
   "metadata": {},
   "outputs": [
    {
     "data": {
      "text/html": [
       "<div>\n",
       "<style scoped>\n",
       "    .dataframe tbody tr th:only-of-type {\n",
       "        vertical-align: middle;\n",
       "    }\n",
       "\n",
       "    .dataframe tbody tr th {\n",
       "        vertical-align: top;\n",
       "    }\n",
       "\n",
       "    .dataframe thead th {\n",
       "        text-align: right;\n",
       "    }\n",
       "</style>\n",
       "<table border=\"1\" class=\"dataframe\">\n",
       "  <thead>\n",
       "    <tr style=\"text-align: right;\">\n",
       "      <th></th>\n",
       "      <th>0</th>\n",
       "      <th>0.1</th>\n",
       "      <th>0.2</th>\n",
       "      <th>0.3</th>\n",
       "      <th>0.4</th>\n",
       "      <th>0.5</th>\n",
       "      <th>0.6</th>\n",
       "      <th>0.7</th>\n",
       "      <th>0.8</th>\n",
       "      <th>0.9</th>\n",
       "      <th>...</th>\n",
       "      <th>0.608</th>\n",
       "      <th>0.609</th>\n",
       "      <th>0.610</th>\n",
       "      <th>0.611</th>\n",
       "      <th>0.612</th>\n",
       "      <th>0.613</th>\n",
       "      <th>0.614</th>\n",
       "      <th>0.615</th>\n",
       "      <th>0.616</th>\n",
       "      <th>0.617</th>\n",
       "    </tr>\n",
       "  </thead>\n",
       "  <tbody>\n",
       "    <tr>\n",
       "      <th>0</th>\n",
       "      <td>0</td>\n",
       "      <td>0</td>\n",
       "      <td>0</td>\n",
       "      <td>0</td>\n",
       "      <td>0</td>\n",
       "      <td>0</td>\n",
       "      <td>0</td>\n",
       "      <td>0</td>\n",
       "      <td>0</td>\n",
       "      <td>0</td>\n",
       "      <td>...</td>\n",
       "      <td>0</td>\n",
       "      <td>0</td>\n",
       "      <td>0</td>\n",
       "      <td>0</td>\n",
       "      <td>0</td>\n",
       "      <td>0</td>\n",
       "      <td>0</td>\n",
       "      <td>0</td>\n",
       "      <td>0</td>\n",
       "      <td>0</td>\n",
       "    </tr>\n",
       "    <tr>\n",
       "      <th>1</th>\n",
       "      <td>0</td>\n",
       "      <td>0</td>\n",
       "      <td>0</td>\n",
       "      <td>0</td>\n",
       "      <td>0</td>\n",
       "      <td>0</td>\n",
       "      <td>0</td>\n",
       "      <td>0</td>\n",
       "      <td>0</td>\n",
       "      <td>0</td>\n",
       "      <td>...</td>\n",
       "      <td>0</td>\n",
       "      <td>0</td>\n",
       "      <td>0</td>\n",
       "      <td>0</td>\n",
       "      <td>0</td>\n",
       "      <td>0</td>\n",
       "      <td>0</td>\n",
       "      <td>0</td>\n",
       "      <td>0</td>\n",
       "      <td>0</td>\n",
       "    </tr>\n",
       "  </tbody>\n",
       "</table>\n",
       "<p>2 rows × 784 columns</p>\n",
       "</div>"
      ],
      "text/plain": [
       "   0  0.1  0.2  0.3  0.4  0.5  0.6  0.7  0.8  0.9  ...    0.608  0.609  0.610  \\\n",
       "0  0    0    0    0    0    0    0    0    0    0  ...        0      0      0   \n",
       "1  0    0    0    0    0    0    0    0    0    0  ...        0      0      0   \n",
       "\n",
       "   0.611  0.612  0.613  0.614  0.615  0.616  0.617  \n",
       "0      0      0      0      0      0      0      0  \n",
       "1      0      0      0      0      0      0      0  \n",
       "\n",
       "[2 rows x 784 columns]"
      ]
     },
     "execution_count": 7,
     "metadata": {},
     "output_type": "execute_result"
    }
   ],
   "source": [
    "mnist_train_pixels.head(2)"
   ]
  },
  {
   "cell_type": "code",
   "execution_count": 8,
   "metadata": {},
   "outputs": [
    {
     "data": {
      "text/plain": [
       "(59999,)"
      ]
     },
     "execution_count": 8,
     "metadata": {},
     "output_type": "execute_result"
    }
   ],
   "source": [
    "mnist_train_labels.shape"
   ]
  },
  {
   "cell_type": "code",
   "execution_count": 9,
   "metadata": {},
   "outputs": [
    {
     "data": {
      "text/plain": [
       "0    0\n",
       "1    4\n",
       "2    1\n",
       "Name: 5, dtype: int64"
      ]
     },
     "execution_count": 9,
     "metadata": {},
     "output_type": "execute_result"
    }
   ],
   "source": [
    "mnist_train_labels.head(3)"
   ]
  },
  {
   "cell_type": "markdown",
   "metadata": {},
   "source": [
    "Ahora, para darnos una idea de los valores del dataset de entrenamiento procedemos a obtener la información descriptiva de este.\n"
   ]
  },
  {
   "cell_type": "code",
   "execution_count": 10,
   "metadata": {},
   "outputs": [
    {
     "name": "stdout",
     "output_type": "stream",
     "text": [
      " minimo: 0, \n",
      " maximo: 255, \n",
      " media: 33.31839161605075, \n",
      " mediana: 0.0, \n",
      " valor mas comun: 0\n"
     ]
    }
   ],
   "source": [
    "dataset_info = pd.Series(mnist_train_pixels.values.ravel())\n",
    "print(\" minimo: {}, \\n maximo: {}, \\n media: {}, \\n mediana: {}, \\n valor mas comun: {}\"\n",
    "      .format(dataset_info.min(), dataset_info.max(), \n",
    "              dataset_info.mean(), dataset_info.median(), \n",
    "              dataset_info.value_counts().idxmax()))"
   ]
  },
  {
   "cell_type": "markdown",
   "metadata": {},
   "source": [
    "Podemos observar que en el dataset encontramos valores entre 0 y 255 que son los colores de los píxeles que conforman el dígito.\n",
    "\n",
    "Para mejorar el rendimiento de nuestros clasificadores y ayudar a que los algoritmos iterativos de aprendizaje estadístico sean más rápidos para entrenar vamos a normalizar los valores del dataset, convirtiendo los valores en 0 para los píxeles blancos y 1 para los negros."
   ]
  },
  {
   "cell_type": "code",
   "execution_count": 4,
   "metadata": {},
   "outputs": [],
   "source": [
    "mnist_train_pixels = mnist_train_pixels / 255\n",
    "mnist_test_pixels = mnist_test_pixels / 255"
   ]
  },
  {
   "cell_type": "code",
   "execution_count": 12,
   "metadata": {},
   "outputs": [
    {
     "name": "stdout",
     "output_type": "stream",
     "text": [
      " minimo: 0.0, \n",
      " maximo: 1.0, \n",
      " media: 0.130660359271895, \n",
      " mediana: 0.0, \n",
      " valor mas comun: 0.0\n"
     ]
    }
   ],
   "source": [
    "dataset_info = pd.Series(mnist_train_pixels.values.ravel())\n",
    "print(\" minimo: {}, \\n maximo: {}, \\n media: {}, \\n mediana: {}, \\n valor mas comun: {}\"\n",
    "      .format(dataset_info.min(), dataset_info.max(), \n",
    "              dataset_info.mean(), dataset_info.median(), \n",
    "              dataset_info.value_counts().idxmax()))"
   ]
  },
  {
   "cell_type": "markdown",
   "metadata": {},
   "source": [
    "Ahora procederemos a obtener la información del primer dígito del dataset."
   ]
  },
  {
   "cell_type": "code",
   "execution_count": 5,
   "metadata": {},
   "outputs": [],
   "source": [
    "first_image_data = mnist_train_pixels.iloc[0]"
   ]
  },
  {
   "cell_type": "markdown",
   "metadata": {},
   "source": [
    "Obtengamos su shape"
   ]
  },
  {
   "cell_type": "code",
   "execution_count": 6,
   "metadata": {},
   "outputs": [
    {
     "data": {
      "text/plain": [
       "(784,)"
      ]
     },
     "execution_count": 6,
     "metadata": {},
     "output_type": "execute_result"
    }
   ],
   "source": [
    "first_image_data.shape"
   ]
  },
  {
   "cell_type": "markdown",
   "metadata": {},
   "source": [
    "Hay 784 valores, es decir, 784 píxeles que conforman cada dígito de MNIST.\n",
    "\n",
    "Vamos a proceder a convertir el vector de 784 datos en una matriz de 28x28, esto se ingresara en la variable first_image y procederemos a graficar cada dato de la matriz con el fin de ver el primer número, que según el primer elemento del dataset de categorías (mnist_train_labels) debería ser un 0, este número también se guardara en la variable first_label para poder titular la gráfica con el dígito."
   ]
  },
  {
   "cell_type": "code",
   "execution_count": 7,
   "metadata": {},
   "outputs": [],
   "source": [
    "first_image = first_image_data.values.reshape(28,28)\n",
    "first_label = mnist_train_labels[0]"
   ]
  },
  {
   "cell_type": "markdown",
   "metadata": {},
   "source": [
    "Procedemos a mirar la matriz first_image y a verificar que si sea una matriz 28x28 con el atributo shape"
   ]
  },
  {
   "cell_type": "code",
   "execution_count": 8,
   "metadata": {},
   "outputs": [
    {
     "data": {
      "text/plain": [
       "array([[0.        , 0.        , 0.        , 0.        , 0.        ,\n",
       "        0.        , 0.        , 0.        , 0.        , 0.        ,\n",
       "        0.        , 0.        , 0.        , 0.        , 0.        ,\n",
       "        0.        , 0.        , 0.        , 0.        , 0.        ,\n",
       "        0.        , 0.        , 0.        , 0.        , 0.        ,\n",
       "        0.        , 0.        , 0.        ],\n",
       "       [0.        , 0.        , 0.        , 0.        , 0.        ,\n",
       "        0.        , 0.        , 0.        , 0.        , 0.        ,\n",
       "        0.        , 0.        , 0.        , 0.        , 0.        ,\n",
       "        0.        , 0.        , 0.        , 0.        , 0.        ,\n",
       "        0.        , 0.        , 0.        , 0.        , 0.        ,\n",
       "        0.        , 0.        , 0.        ],\n",
       "       [0.        , 0.        , 0.        , 0.        , 0.        ,\n",
       "        0.        , 0.        , 0.        , 0.        , 0.        ,\n",
       "        0.        , 0.        , 0.        , 0.        , 0.        ,\n",
       "        0.        , 0.        , 0.        , 0.        , 0.        ,\n",
       "        0.        , 0.        , 0.        , 0.        , 0.        ,\n",
       "        0.        , 0.        , 0.        ],\n",
       "       [0.        , 0.        , 0.        , 0.        , 0.        ,\n",
       "        0.        , 0.        , 0.        , 0.        , 0.        ,\n",
       "        0.        , 0.        , 0.        , 0.        , 0.        ,\n",
       "        0.        , 0.        , 0.        , 0.        , 0.        ,\n",
       "        0.        , 0.        , 0.        , 0.        , 0.        ,\n",
       "        0.        , 0.        , 0.        ],\n",
       "       [0.        , 0.        , 0.        , 0.        , 0.        ,\n",
       "        0.        , 0.        , 0.        , 0.        , 0.        ,\n",
       "        0.        , 0.        , 0.        , 0.        , 0.        ,\n",
       "        0.2       , 0.62352941, 0.99215686, 0.62352941, 0.19607843,\n",
       "        0.        , 0.        , 0.        , 0.        , 0.        ,\n",
       "        0.        , 0.        , 0.        ],\n",
       "       [0.        , 0.        , 0.        , 0.        , 0.        ,\n",
       "        0.        , 0.        , 0.        , 0.        , 0.        ,\n",
       "        0.        , 0.        , 0.        , 0.        , 0.18823529,\n",
       "        0.93333333, 0.98823529, 0.98823529, 0.98823529, 0.92941176,\n",
       "        0.        , 0.        , 0.        , 0.        , 0.        ,\n",
       "        0.        , 0.        , 0.        ],\n",
       "       [0.        , 0.        , 0.        , 0.        , 0.        ,\n",
       "        0.        , 0.        , 0.        , 0.        , 0.        ,\n",
       "        0.        , 0.        , 0.        , 0.21176471, 0.89019608,\n",
       "        0.99215686, 0.98823529, 0.9372549 , 0.91372549, 0.98823529,\n",
       "        0.22352941, 0.02352941, 0.        , 0.        , 0.        ,\n",
       "        0.        , 0.        , 0.        ],\n",
       "       [0.        , 0.        , 0.        , 0.        , 0.        ,\n",
       "        0.        , 0.        , 0.        , 0.        , 0.        ,\n",
       "        0.        , 0.03921569, 0.23529412, 0.87843137, 0.98823529,\n",
       "        0.99215686, 0.98823529, 0.79215686, 0.32941176, 0.98823529,\n",
       "        0.99215686, 0.47843137, 0.        , 0.        , 0.        ,\n",
       "        0.        , 0.        , 0.        ],\n",
       "       [0.        , 0.        , 0.        , 0.        , 0.        ,\n",
       "        0.        , 0.        , 0.        , 0.        , 0.        ,\n",
       "        0.        , 0.63921569, 0.98823529, 0.98823529, 0.98823529,\n",
       "        0.99215686, 0.98823529, 0.98823529, 0.37647059, 0.74117647,\n",
       "        0.99215686, 0.65490196, 0.        , 0.        , 0.        ,\n",
       "        0.        , 0.        , 0.        ],\n",
       "       [0.        , 0.        , 0.        , 0.        , 0.        ,\n",
       "        0.        , 0.        , 0.        , 0.        , 0.        ,\n",
       "        0.2       , 0.93333333, 0.99215686, 0.99215686, 0.74509804,\n",
       "        0.44705882, 0.99215686, 0.89411765, 0.18431373, 0.30980392,\n",
       "        1.        , 0.65882353, 0.        , 0.        , 0.        ,\n",
       "        0.        , 0.        , 0.        ],\n",
       "       [0.        , 0.        , 0.        , 0.        , 0.        ,\n",
       "        0.        , 0.        , 0.        , 0.        , 0.18823529,\n",
       "        0.93333333, 0.98823529, 0.98823529, 0.70196078, 0.04705882,\n",
       "        0.29411765, 0.4745098 , 0.08235294, 0.        , 0.        ,\n",
       "        0.99215686, 0.95294118, 0.19607843, 0.        , 0.        ,\n",
       "        0.        , 0.        , 0.        ],\n",
       "       [0.        , 0.        , 0.        , 0.        , 0.        ,\n",
       "        0.        , 0.        , 0.        , 0.14901961, 0.64705882,\n",
       "        0.99215686, 0.91372549, 0.81568627, 0.32941176, 0.        ,\n",
       "        0.        , 0.        , 0.        , 0.        , 0.        ,\n",
       "        0.99215686, 0.98823529, 0.64705882, 0.        , 0.        ,\n",
       "        0.        , 0.        , 0.        ],\n",
       "       [0.        , 0.        , 0.        , 0.        , 0.        ,\n",
       "        0.        , 0.        , 0.02745098, 0.69803922, 0.98823529,\n",
       "        0.94117647, 0.27843137, 0.0745098 , 0.10980392, 0.        ,\n",
       "        0.        , 0.        , 0.        , 0.        , 0.        ,\n",
       "        0.99215686, 0.98823529, 0.76470588, 0.        , 0.        ,\n",
       "        0.        , 0.        , 0.        ],\n",
       "       [0.        , 0.        , 0.        , 0.        , 0.        ,\n",
       "        0.        , 0.        , 0.22352941, 0.98823529, 0.98823529,\n",
       "        0.24705882, 0.        , 0.        , 0.        , 0.        ,\n",
       "        0.        , 0.        , 0.        , 0.        , 0.        ,\n",
       "        0.99215686, 0.98823529, 0.76470588, 0.        , 0.        ,\n",
       "        0.        , 0.        , 0.        ],\n",
       "       [0.        , 0.        , 0.        , 0.        , 0.        ,\n",
       "        0.        , 0.        , 0.77647059, 0.99215686, 0.74509804,\n",
       "        0.        , 0.        , 0.        , 0.        , 0.        ,\n",
       "        0.        , 0.        , 0.        , 0.        , 0.        ,\n",
       "        1.        , 0.99215686, 0.76862745, 0.        , 0.        ,\n",
       "        0.        , 0.        , 0.        ],\n",
       "       [0.        , 0.        , 0.        , 0.        , 0.        ,\n",
       "        0.        , 0.29803922, 0.96470588, 0.98823529, 0.43921569,\n",
       "        0.        , 0.        , 0.        , 0.        , 0.        ,\n",
       "        0.        , 0.        , 0.        , 0.        , 0.        ,\n",
       "        0.99215686, 0.98823529, 0.58039216, 0.        , 0.        ,\n",
       "        0.        , 0.        , 0.        ],\n",
       "       [0.        , 0.        , 0.        , 0.        , 0.        ,\n",
       "        0.        , 0.33333333, 0.98823529, 0.90196078, 0.09803922,\n",
       "        0.        , 0.        , 0.        , 0.        , 0.        ,\n",
       "        0.        , 0.        , 0.        , 0.02745098, 0.52941176,\n",
       "        0.99215686, 0.72941176, 0.04705882, 0.        , 0.        ,\n",
       "        0.        , 0.        , 0.        ],\n",
       "       [0.        , 0.        , 0.        , 0.        , 0.        ,\n",
       "        0.        , 0.33333333, 0.98823529, 0.8745098 , 0.        ,\n",
       "        0.        , 0.        , 0.        , 0.        , 0.        ,\n",
       "        0.        , 0.        , 0.02745098, 0.51372549, 0.98823529,\n",
       "        0.88235294, 0.27843137, 0.        , 0.        , 0.        ,\n",
       "        0.        , 0.        , 0.        ],\n",
       "       [0.        , 0.        , 0.        , 0.        , 0.        ,\n",
       "        0.        , 0.33333333, 0.98823529, 0.56862745, 0.        ,\n",
       "        0.        , 0.        , 0.        , 0.        , 0.        ,\n",
       "        0.        , 0.18823529, 0.64705882, 0.98823529, 0.67843137,\n",
       "        0.        , 0.        , 0.        , 0.        , 0.        ,\n",
       "        0.        , 0.        , 0.        ],\n",
       "       [0.        , 0.        , 0.        , 0.        , 0.        ,\n",
       "        0.        , 0.3372549 , 0.99215686, 0.88235294, 0.        ,\n",
       "        0.        , 0.        , 0.        , 0.        , 0.        ,\n",
       "        0.44705882, 0.93333333, 0.99215686, 0.63529412, 0.        ,\n",
       "        0.        , 0.        , 0.        , 0.        , 0.        ,\n",
       "        0.        , 0.        , 0.        ],\n",
       "       [0.        , 0.        , 0.        , 0.        , 0.        ,\n",
       "        0.        , 0.33333333, 0.98823529, 0.97647059, 0.57254902,\n",
       "        0.18823529, 0.11372549, 0.33333333, 0.69803922, 0.88235294,\n",
       "        0.99215686, 0.8745098 , 0.65490196, 0.21960784, 0.        ,\n",
       "        0.        , 0.        , 0.        , 0.        , 0.        ,\n",
       "        0.        , 0.        , 0.        ],\n",
       "       [0.        , 0.        , 0.        , 0.        , 0.        ,\n",
       "        0.        , 0.33333333, 0.98823529, 0.98823529, 0.98823529,\n",
       "        0.89803922, 0.84313725, 0.98823529, 0.98823529, 0.98823529,\n",
       "        0.76862745, 0.50980392, 0.        , 0.        , 0.        ,\n",
       "        0.        , 0.        , 0.        , 0.        , 0.        ,\n",
       "        0.        , 0.        , 0.        ],\n",
       "       [0.        , 0.        , 0.        , 0.        , 0.        ,\n",
       "        0.        , 0.10980392, 0.78039216, 0.98823529, 0.98823529,\n",
       "        0.99215686, 0.98823529, 0.98823529, 0.91372549, 0.56862745,\n",
       "        0.        , 0.        , 0.        , 0.        , 0.        ,\n",
       "        0.        , 0.        , 0.        , 0.        , 0.        ,\n",
       "        0.        , 0.        , 0.        ],\n",
       "       [0.        , 0.        , 0.        , 0.        , 0.        ,\n",
       "        0.        , 0.        , 0.09803922, 0.50196078, 0.98823529,\n",
       "        0.99215686, 0.98823529, 0.55294118, 0.14509804, 0.        ,\n",
       "        0.        , 0.        , 0.        , 0.        , 0.        ,\n",
       "        0.        , 0.        , 0.        , 0.        , 0.        ,\n",
       "        0.        , 0.        , 0.        ],\n",
       "       [0.        , 0.        , 0.        , 0.        , 0.        ,\n",
       "        0.        , 0.        , 0.        , 0.        , 0.        ,\n",
       "        0.        , 0.        , 0.        , 0.        , 0.        ,\n",
       "        0.        , 0.        , 0.        , 0.        , 0.        ,\n",
       "        0.        , 0.        , 0.        , 0.        , 0.        ,\n",
       "        0.        , 0.        , 0.        ],\n",
       "       [0.        , 0.        , 0.        , 0.        , 0.        ,\n",
       "        0.        , 0.        , 0.        , 0.        , 0.        ,\n",
       "        0.        , 0.        , 0.        , 0.        , 0.        ,\n",
       "        0.        , 0.        , 0.        , 0.        , 0.        ,\n",
       "        0.        , 0.        , 0.        , 0.        , 0.        ,\n",
       "        0.        , 0.        , 0.        ],\n",
       "       [0.        , 0.        , 0.        , 0.        , 0.        ,\n",
       "        0.        , 0.        , 0.        , 0.        , 0.        ,\n",
       "        0.        , 0.        , 0.        , 0.        , 0.        ,\n",
       "        0.        , 0.        , 0.        , 0.        , 0.        ,\n",
       "        0.        , 0.        , 0.        , 0.        , 0.        ,\n",
       "        0.        , 0.        , 0.        ],\n",
       "       [0.        , 0.        , 0.        , 0.        , 0.        ,\n",
       "        0.        , 0.        , 0.        , 0.        , 0.        ,\n",
       "        0.        , 0.        , 0.        , 0.        , 0.        ,\n",
       "        0.        , 0.        , 0.        , 0.        , 0.        ,\n",
       "        0.        , 0.        , 0.        , 0.        , 0.        ,\n",
       "        0.        , 0.        , 0.        ]])"
      ]
     },
     "execution_count": 8,
     "metadata": {},
     "output_type": "execute_result"
    }
   ],
   "source": [
    "first_image"
   ]
  },
  {
   "cell_type": "code",
   "execution_count": 9,
   "metadata": {},
   "outputs": [
    {
     "data": {
      "text/plain": [
       "(28, 28)"
      ]
     },
     "execution_count": 9,
     "metadata": {},
     "output_type": "execute_result"
    }
   ],
   "source": [
    "first_image.shape"
   ]
  },
  {
   "cell_type": "markdown",
   "metadata": {},
   "source": [
    "comprobamos que la variable si contiene el primer valor en el arreglo de categorías y procedemos a dibujar el primer dígito."
   ]
  },
  {
   "cell_type": "code",
   "execution_count": 10,
   "metadata": {},
   "outputs": [
    {
     "data": {
      "text/plain": [
       "0"
      ]
     },
     "execution_count": 10,
     "metadata": {},
     "output_type": "execute_result"
    }
   ],
   "source": [
    "first_label"
   ]
  },
  {
   "cell_type": "code",
   "execution_count": 11,
   "metadata": {},
   "outputs": [
    {
     "data": {
      "image/png": "[encoded data removed]",
      "text/plain": [
       "<Figure size 432x288 with 1 Axes>"
      ]
     },
     "metadata": {},
     "output_type": "display_data"
    }
   ],
   "source": [
    "plt.imshow(first_image, cmap='gray_r')\n",
    "plt.title('Digito: {}'.format(first_label))\n",
    "plt.show()"
   ]
  },
  {
   "cell_type": "markdown",
   "metadata": {},
   "source": [
    "Ahora, vamos a hacer un histograma con la variable que contiene los labels de los dígitos del dataset para ver que tan distribuidos están los datos."
   ]
  },
  {
   "cell_type": "code",
   "execution_count": 20,
   "metadata": {},
   "outputs": [
    {
     "data": {
      "text/plain": [
       "(array([5923., 6742., 5958., 6131., 5842., 5420., 5918., 6265., 5851.,\n",
       "        5949.]),\n",
       " array([0. , 0.9, 1.8, 2.7, 3.6, 4.5, 5.4, 6.3, 7.2, 8.1, 9. ]),\n",
       " <a list of 10 Patch objects>)"
      ]
     },
     "execution_count": 20,
     "metadata": {},
     "output_type": "execute_result"
    },
    {
     "data": {
      "image/png": "[encoded data removed]",
      "text/plain": [
       "<Figure size 432x288 with 1 Axes>"
      ]
     },
     "metadata": {},
     "output_type": "display_data"
    }
   ],
   "source": [
    "plt.title('Histograma digitos vs. Frecuencia de digitos')\n",
    "plt.xlabel(\"Digitos\")\n",
    "plt.ylabel(\"Frecuencia\")\n",
    "plt.hist(mnist_train_labels, edgecolor = 'black')"
   ]
  },
  {
   "cell_type": "markdown",
   "metadata": {},
   "source": [
    "Podemos observar que los datos están aproximadamente distribuidos de manera uniforme lo cual nos permite asegurar que el dataset tiene un buen balance de dígitos para entrenar los modelos."
   ]
  },
  {
   "cell_type": "markdown",
   "metadata": {},
   "source": [
    "# Regresión Logística Multinomial"
   ]
  },
  {
   "cell_type": "markdown",
   "metadata": {},
   "source": [
    "Lo primero que haremos será importar la librería necesaria para entrenar el modelo"
   ]
  },
  {
   "cell_type": "code",
   "execution_count": 22,
   "metadata": {},
   "outputs": [],
   "source": [
    "from sklearn.linear_model import LogisticRegression\n",
    "from sklearn.metrics import classification_report"
   ]
  },
  {
   "cell_type": "markdown",
   "metadata": {},
   "source": [
    "Ahora instanciamos un objeto de la clase LogisticRegression de Sklearn enviando los siguientes parametros:\n",
    "\n",
    "multi_class = \"multinomial\" para indicar que el problema que queremos resolver es multiclase.\n",
    "\n",
    "Según la documentación de Sklearn, el parámetro solver, es usado para definir cuál es el algoritmo de optimización a usar en nuestro modelo, además, se menciona que \"newton-cg\", \"sag\", \"saga\" y \"lbfgs\" son algoritmos que funcionan bien para problemas multinomiales como es nuestro caso. Se descarta \"liblinear\" por ser un algoritmo que funciona bien para datasets pequeños, contrario al dataset de MNIST. [https://scikit-learn.org/stable/modules/generated/sklearn.linear_model.LogisticRegression.html]\n",
    "\n",
    "Vamos a entrenar cuatro modelos con cada uno de los algoritmos de optimización mencionados y compararemos los resultados de cada uno con el fin de ver cual es la mejor opción para nuestro dataset."
   ]
  },
  {
   "cell_type": "code",
   "execution_count": 23,
   "metadata": {},
   "outputs": [
    {
     "name": "stderr",
     "output_type": "stream",
     "text": [
      "/home/daniel/anaconda3/lib/python3.6/site-packages/sklearn/linear_model/sag.py:326: ConvergenceWarning: The max_iter was reached which means the coef_ did not converge\n",
      "  \"the coef_ did not converge\", ConvergenceWarning)\n"
     ]
    }
   ],
   "source": [
    "solver_algorithms = [\"sag\", \"saga\", \"newton-cg\", \"lbfgs\"]\n",
    "model_accuracy = []\n",
    "classification_reports = []\n",
    "\n",
    "for algorithm in solver_algorithms:\n",
    "    logistic_regression_model = LogisticRegression(solver=algorithm, multi_class='multinomial', max_iter=300)\n",
    "    logistic_regression_model.fit(mnist_train_pixels, mnist_train_labels)\n",
    "    predictions = logistic_regression_model.predict(mnist_test_pixels)\n",
    "    model_accuracy.append(logistic_regression_model.score(mnist_test_pixels, mnist_test_labels))\n",
    "    classification_reports.append(classification_report(mnist_test_labels, predictions))"
   ]
  },
  {
   "cell_type": "markdown",
   "metadata": {},
   "source": [
    "Para comparar los resultados usaremos un reporte de clasificación que trae Sklearn, de esta forma podemos comparar los modelos generados con los diferentes métodos de optimización."
   ]
  },
  {
   "cell_type": "code",
   "execution_count": 33,
   "metadata": {},
   "outputs": [
    {
     "name": "stdout",
     "output_type": "stream",
     "text": [
      "Reporte de clasificación para método de optimizacion: sag\n",
      "             precision    recall  f1-score   support\n",
      "\n",
      "          0       0.95      0.98      0.96       980\n",
      "          1       0.96      0.98      0.97      1135\n",
      "          2       0.93      0.90      0.91      1032\n",
      "          3       0.90      0.92      0.91      1010\n",
      "          4       0.94      0.94      0.94       982\n",
      "          5       0.90      0.87      0.88       892\n",
      "          6       0.94      0.95      0.95       958\n",
      "          7       0.93      0.92      0.93      1027\n",
      "          8       0.88      0.88      0.88       974\n",
      "          9       0.91      0.92      0.91      1009\n",
      "\n",
      "avg / total       0.93      0.93      0.93      9999\n",
      "\n",
      "Reporte de clasificación para método de optimizacion: saga\n",
      "             precision    recall  f1-score   support\n",
      "\n",
      "          0       0.95      0.98      0.96       980\n",
      "          1       0.96      0.98      0.97      1135\n",
      "          2       0.93      0.90      0.91      1032\n",
      "          3       0.90      0.91      0.91      1010\n",
      "          4       0.94      0.94      0.94       982\n",
      "          5       0.90      0.87      0.88       892\n",
      "          6       0.94      0.95      0.95       958\n",
      "          7       0.93      0.92      0.93      1027\n",
      "          8       0.88      0.88      0.88       974\n",
      "          9       0.91      0.92      0.91      1009\n",
      "\n",
      "avg / total       0.93      0.93      0.93      9999\n",
      "\n",
      "Reporte de clasificación para método de optimizacion: newton-cg\n",
      "             precision    recall  f1-score   support\n",
      "\n",
      "          0       0.95      0.97      0.96       980\n",
      "          1       0.96      0.98      0.97      1135\n",
      "          2       0.93      0.90      0.91      1032\n",
      "          3       0.90      0.92      0.91      1010\n",
      "          4       0.94      0.94      0.94       982\n",
      "          5       0.90      0.87      0.88       892\n",
      "          6       0.94      0.95      0.95       958\n",
      "          7       0.93      0.92      0.93      1027\n",
      "          8       0.88      0.88      0.88       974\n",
      "          9       0.91      0.92      0.91      1009\n",
      "\n",
      "avg / total       0.93      0.93      0.93      9999\n",
      "\n",
      "Reporte de clasificación para método de optimizacion: lbfgs\n",
      "             precision    recall  f1-score   support\n",
      "\n",
      "          0       0.95      0.98      0.96       980\n",
      "          1       0.96      0.98      0.97      1135\n",
      "          2       0.93      0.90      0.92      1032\n",
      "          3       0.90      0.91      0.91      1010\n",
      "          4       0.94      0.94      0.94       982\n",
      "          5       0.90      0.87      0.88       892\n",
      "          6       0.94      0.95      0.95       958\n",
      "          7       0.93      0.92      0.93      1027\n",
      "          8       0.88      0.88      0.88       974\n",
      "          9       0.91      0.92      0.91      1009\n",
      "\n",
      "avg / total       0.93      0.93      0.93      9999\n",
      "\n"
     ]
    }
   ],
   "source": [
    "for report, algorithm in zip(classification_reports, solver_algorithms):\n",
    "    print(\"Reporte de clasificación para método de optimización: \" + algorithm  + \"\\n\" + report)"
   ]
  },
  {
   "cell_type": "code",
   "execution_count": 35,
   "metadata": {},
   "outputs": [
    {
     "name": "stdout",
     "output_type": "stream",
     "text": [
      "Precisión del modelo con el método de optimización sag: 0.9256925692569257\n",
      "Precisión del modelo con el método de optimización saga: 0.9253925392539254\n",
      "Precisión del modelo con el método de optimización newton-cg: 0.9255925592559255\n",
      "Precisión del modelo con el método de optimización lbfgs: 0.9260926092609261\n"
     ]
    }
   ],
   "source": [
    "for accuracy, algorithm in zip(model_accuracy, solver_algorithms):\n",
    "    print(\"Precisión del modelo con el método de optimización \" + algorithm + \": \" + str(accuracy))"
   ]
  },
  {
   "cell_type": "markdown",
   "metadata": {},
   "source": [
    "Se puede notar que la precisión de los cuatro modelos es similar (93%) siendo **lbfgs** el mejor método de optimización por muy poca diferencia. "
   ]
  },
  {
   "cell_type": "markdown",
   "metadata": {},
   "source": [
    "# Árboles de clasificación"
   ]
  },
  {
   "cell_type": "markdown",
   "metadata": {},
   "source": [
    "Primero, importamos la librería necesaria para crear un árbol de clasificación"
   ]
  },
  {
   "cell_type": "code",
   "execution_count": 5,
   "metadata": {},
   "outputs": [],
   "source": [
    "from sklearn.tree import DecisionTreeClassifier"
   ]
  },
  {
   "cell_type": "markdown",
   "metadata": {},
   "source": [
    "El parámetro que vamos a variar en el Árbol de Clasificación es min_samples_split, este parámetro nos indica la cantidad de muestras mínimas necesarias para dividir un nodo, esta variable tomará valores de 10% a 100% con un aumento del 10% entre valores"
   ]
  },
  {
   "cell_type": "code",
   "execution_count": 6,
   "metadata": {},
   "outputs": [
    {
     "name": "stdout",
     "output_type": "stream",
     "text": [
      "[0.1, 0.2, 0.3, 0.4, 0.5, 0.6, 0.7, 0.8, 0.9, 1.0]\n"
     ]
    }
   ],
   "source": [
    "# Acá se crea un arreglo con los valores para el parámetro\n",
    "samples_values = [value/100 for value in range(10,110,10)]\n",
    "print(samples_values)"
   ]
  },
  {
   "cell_type": "markdown",
   "metadata": {},
   "source": [
    "Procedemos a entrenar el modelo con cada uno de los valores de la muestra mínima y a tomar los valores de la precisión en la predicción del modelo para poder comparar los resultados al final."
   ]
  },
  {
   "cell_type": "code",
   "execution_count": 7,
   "metadata": {},
   "outputs": [],
   "source": [
    "model_accuracy = [] # Variable para guardar los resultados de la precisión del modelo\n",
    "for sample_split in samples_values:\n",
    "    decision_tree_model = DecisionTreeClassifier(min_samples_split=sample_split)\n",
    "    decision_tree_model.fit(mnist_train_pixels, mnist_train_labels)\n",
    "    predictions = decision_tree_model.predict(mnist_test_pixels)\n",
    "    model_accuracy.append(decision_tree_model.score(mnist_test_pixels, mnist_test_labels))"
   ]
  },
  {
   "cell_type": "code",
   "execution_count": 11,
   "metadata": {},
   "outputs": [
    {
     "name": "stdout",
     "output_type": "stream",
     "text": [
      "Precisión del modelo dividiendo el árbol en muestras del 10%: 0.620962096209621\n",
      "Precisión del modelo dividiendo el árbol en muestras del 20%: 0.5107510751075107\n",
      "Precisión del modelo dividiendo el árbol en muestras del 30%: 0.41104110411041106\n",
      "Precisión del modelo dividiendo el árbol en muestras del 40%: 0.3414341434143414\n",
      "Precisión del modelo dividiendo el árbol en muestras del 50%: 0.27502750275027504\n",
      "Precisión del modelo dividiendo el árbol en muestras del 60%: 0.27502750275027504\n",
      "Precisión del modelo dividiendo el árbol en muestras del 70%: 0.1993199319931993\n",
      "Precisión del modelo dividiendo el árbol en muestras del 80%: 0.1993199319931993\n",
      "Precisión del modelo dividiendo el árbol en muestras del 90%: 0.1993199319931993\n",
      "Precisión del modelo dividiendo el árbol en muestras del 100%: 0.1993199319931993\n"
     ]
    }
   ],
   "source": [
    "for accuracy, sample in zip(model_accuracy, samples_values):\n",
    "    print(\"Precisión del modelo dividiendo el árbol en muestras del \" + str(int(sample*100)) + \"%: \" + str(accuracy))"
   ]
  },
  {
   "cell_type": "markdown",
   "metadata": {},
   "source": [
    "# Bosques Aleatorios"
   ]
  },
  {
   "cell_type": "markdown",
   "metadata": {},
   "source": [
    "Importamos las librerías necesarias para usar el clasificador de bosques aleatorios"
   ]
  },
  {
   "cell_type": "code",
   "execution_count": 13,
   "metadata": {},
   "outputs": [],
   "source": [
    "from sklearn.ensemble import RandomForestClassifier\n",
    "import numpy as np"
   ]
  },
  {
   "cell_type": "markdown",
   "metadata": {},
   "source": [
    "El parámetro que podemos variar es el número de estimadores para el clasificador (n_estimators), según la documentación [https://scikit-learn.org/stable/modules/generated/sklearn.ensemble.RandomForestClassifier.html] es la cantidad de árboles que se usará para el clasificador. \n",
    "\n",
    "Vamos a usar varios estimadores desde 1 hasta 200 con la finalidad de observar el comportamiento del modelo. Usualmente mientras más alto sea el número de árboles, mejor aprende el modelo, sin embargo, la velocidad de entrenamiento disminuye, por lo que haremos una búsqueda del número de estimadores ideal teniendo en cuenta el porcentaje de error para cada estimador."
   ]
  },
  {
   "cell_type": "code",
   "execution_count": 18,
   "metadata": {},
   "outputs": [],
   "source": [
    "n_estimators = [1, 2, 4, 8, 16, 32, 64, 100, 150, 200]\n",
    "error_rate = []\n",
    "model_accuracy = []\n",
    "\n",
    "for estimator in n_estimators:\n",
    "    random_forest_model = RandomForestClassifier(n_estimators=estimator, n_jobs=-1)\n",
    "    random_forest_model.fit(mnist_train_pixels, mnist_train_labels)\n",
    "    predictions = random_forest_model.predict(mnist_test_pixels)\n",
    "    model_accuracy.append(random_forest_model.score(mnist_test_pixels, mnist_test_labels))\n",
    "    error_rate.append(np.mean(predictions != mnist_test_labels))"
   ]
  },
  {
   "cell_type": "markdown",
   "metadata": {},
   "source": [
    "A continuación observamos los valores de la precisión del modelo con las diferentes cantidades de estimadores."
   ]
  },
  {
   "cell_type": "code",
   "execution_count": 19,
   "metadata": {},
   "outputs": [
    {
     "name": "stdout",
     "output_type": "stream",
     "text": [
      "Precisión del modelo con 1 estimadores: 0.8207820782078208\n",
      "Precisión del modelo con 2 estimadores: 0.8296829682968296\n",
      "Precisión del modelo con 4 estimadores: 0.9006900690069007\n",
      "Precisión del modelo con 8 estimadores: 0.9400940094009401\n",
      "Precisión del modelo con 16 estimadores: 0.9593959395939594\n",
      "Precisión del modelo con 32 estimadores: 0.965096509650965\n",
      "Precisión del modelo con 64 estimadores: 0.9682968296829683\n",
      "Precisión del modelo con 100 estimadores: 0.9710971097109711\n",
      "Precisión del modelo con 150 estimadores: 0.9710971097109711\n",
      "Precisión del modelo con 200 estimadores: 0.9708970897089709\n"
     ]
    }
   ],
   "source": [
    "for accuracy, estimator in zip(model_accuracy, n_estimators):\n",
    "    print(\"Precisión del modelo con \" + str(estimator) + \" estimadores: \" + str(accuracy))"
   ]
  },
  {
   "cell_type": "markdown",
   "metadata": {},
   "source": [
    "Se puede observar un incremento en la precisión cuando se incrementa el número de estimadores a excepción el último valor.\n",
    "\n",
    "A continuación vamos a graficar el ratio de error con respecto a la cantidad de estimadores."
   ]
  },
  {
   "cell_type": "code",
   "execution_count": 21,
   "metadata": {},
   "outputs": [
    {
     "data": {
      "text/plain": [
       "Text(0,0.5,'Error Rate')"
      ]
     },
     "execution_count": 21,
     "metadata": {},
     "output_type": "execute_result"
    },
    {
     "data": {
      "image/png": "[encoded data removed]",
      "text/plain": [
       "<Figure size 720x432 with 1 Axes>"
      ]
     },
     "metadata": {},
     "output_type": "display_data"
    }
   ],
   "source": [
    "plt.figure(figsize=(10,6))\n",
    "plt.plot(n_estimators,error_rate,color='blue', linestyle='dashed', marker='o',\n",
    "         markerfacecolor='red', markersize=10)\n",
    "plt.title('# Estimators vs. Error Rate')\n",
    "plt.xlabel('Estimators')\n",
    "plt.ylabel('Error Rate')"
   ]
  },
  {
   "cell_type": "markdown",
   "metadata": {},
   "source": [
    "Se puede observar que después de 32 estimadores el ratio de error y la precisión del modelo (97%) es bastante similar a medida que se aumenta la cantidad de estimadores, por esta razón, la mejor cantidad de estimadores de los cuales tuvimos en cuenta para entrenar y predecir el modelo son 32 estimadores."
   ]
  },
  {
   "cell_type": "markdown",
   "metadata": {},
   "source": [
    "# Máquinas de Soporte Vectorial"
   ]
  },
  {
   "cell_type": "markdown",
   "metadata": {},
   "source": [
    "Para máquinas de soporte vectorial usaremos una herramienta de Sklearn llamada GridSearchCV que nos ayudará a buscar los mejores parámetros a usar en nuestro modelo combinando diferentes valores para parámetros como la penalización por error (c) y el gamma del kernel (gamma) usando validación cruzada. [https://scikit-learn.org/stable/modules/generated/sklearn.model_selection.GridSearchCV.html]\n",
    "\n",
    "Para esto, creamos un diccionario con los posibles valores que recibirá el modelo de Máquinas de Soporte Vectorial en sus parámetros y sobre los cuales el GridSearch comenzará a iterar.\n",
    "\n",
    "Primero importaremos las librerías necesarias y después crearemos el diccionario con los valores."
   ]
  },
  {
   "cell_type": "code",
   "execution_count": 15,
   "metadata": {},
   "outputs": [],
   "source": [
    "from sklearn.svm import SVC\n",
    "from sklearn.model_selection import GridSearchCV"
   ]
  },
  {
   "cell_type": "code",
   "execution_count": 16,
   "metadata": {},
   "outputs": [],
   "source": [
    "param_grid = {\"C\": [1, 10, 100], \"gamma\": [0.1, 0.01, 0.001], \"kernel\": [\"rbf\"]} "
   ]
  },
  {
   "cell_type": "markdown",
   "metadata": {},
   "source": [
    "Después de tener definido el diccionario con los valores para los parámetros, procedemos a crear un objeto de GridSearchCv y a entrenarlo. Este modelo recibe:\n",
    "\n",
    "- El modelo sobre el que va a iterar, en este caso, sobre SVC() que corresponde al modelo de Máquinas de Soporte Vectorial en la librería de Sklearn\n",
    "- El diccionario con los posibles valores (param_grid)\n",
    "- Refit lo usamos para poder obtener el atributo best_params_ que nos indicará cual fue la mejor combinación de parámetros encontrada\n",
    "- n_jobs que indica la cantidad de procesadores a usar para el entrenamiento"
   ]
  },
  {
   "cell_type": "code",
   "execution_count": 17,
   "metadata": {},
   "outputs": [
    {
     "name": "stderr",
     "output_type": "stream",
     "text": [
      "/home/pslcol.com.co/drestrepom/anaconda3/lib/python3.7/site-packages/sklearn/model_selection/_split.py:2053: FutureWarning: You should specify a value for 'cv' instead of relying on the default value. The default value will change from 3 to 5 in version 0.22.\n",
      "  warnings.warn(CV_WARNING, FutureWarning)\n"
     ]
    },
    {
     "data": {
      "text/plain": [
       "GridSearchCV(cv='warn', error_score='raise-deprecating',\n",
       "       estimator=SVC(C=1.0, cache_size=200, class_weight=None, coef0=0.0,\n",
       "  decision_function_shape='ovr', degree=3, gamma='auto_deprecated',\n",
       "  kernel='rbf', max_iter=-1, probability=False, random_state=None,\n",
       "  shrinking=True, tol=0.001, verbose=False),\n",
       "       fit_params=None, iid='warn', n_jobs=8,\n",
       "       param_grid={'C': [1, 10, 100], 'gamma': [0.1, 0.01, 0.001], 'kernel': ['rbf']},\n",
       "       pre_dispatch='2*n_jobs', refit=True, return_train_score='warn',\n",
       "       scoring=None, verbose=0)"
      ]
     },
     "execution_count": 17,
     "metadata": {},
     "output_type": "execute_result"
    }
   ],
   "source": [
    "grid = GridSearchCV(SVC(), param_grid, refit=True, n_jobs = 8)\n",
    "grid.fit(mnist_train_pixels, mnist_train_labels)"
   ]
  },
  {
   "cell_type": "markdown",
   "metadata": {},
   "source": [
    "Después de haber entrenado el GridSearchCV obtenemos el atributo best_params_ para conocer la mejor combinación de parámetros para el modelo de Máquinas de Soporte Vectorial."
   ]
  },
  {
   "cell_type": "code",
   "execution_count": 18,
   "metadata": {},
   "outputs": [
    {
     "data": {
      "text/plain": [
       "{'C': 100, 'gamma': 0.01, 'kernel': 'rbf'}"
      ]
     },
     "execution_count": 18,
     "metadata": {},
     "output_type": "execute_result"
    }
   ],
   "source": [
    "grid.best_params_"
   ]
  },
  {
   "cell_type": "markdown",
   "metadata": {},
   "source": [
    "Podemos ver que el mejor modelo se obtuvo con un C = 100 y gamma = 0.01 bajo el kernel rbf que es el predeterminado en el modelo de SVM.\n",
    "\n",
    "Usaremos el método predict con el grid, este método hará las predicciones para el modelo de SVM con los parámetros descritos anteriormente y a continuación veremos el classification_report para ver la precisión que obtuvo el modelo de SVM con c=100 y gamma=0.01."
   ]
  },
  {
   "cell_type": "code",
   "execution_count": 20,
   "metadata": {},
   "outputs": [],
   "source": [
    "grid_predictions = grid.predict(mnist_test_pixels)"
   ]
  },
  {
   "cell_type": "code",
   "execution_count": 23,
   "metadata": {},
   "outputs": [
    {
     "name": "stdout",
     "output_type": "stream",
     "text": [
      "              precision    recall  f1-score   support\n",
      "\n",
      "           0       0.98      0.99      0.99       980\n",
      "           1       0.99      0.99      0.99      1135\n",
      "           2       0.98      0.98      0.98      1032\n",
      "           3       0.98      0.98      0.98      1010\n",
      "           4       0.98      0.98      0.98       982\n",
      "           5       0.98      0.98      0.98       892\n",
      "           6       0.99      0.99      0.99       958\n",
      "           7       0.98      0.98      0.98      1027\n",
      "           8       0.98      0.98      0.98       974\n",
      "           9       0.97      0.97      0.97      1009\n",
      "\n",
      "   micro avg       0.98      0.98      0.98      9999\n",
      "   macro avg       0.98      0.98      0.98      9999\n",
      "weighted avg       0.98      0.98      0.98      9999\n",
      "\n"
     ]
    }
   ],
   "source": [
    "from sklearn.metrics import classification_report\n",
    "print(classification_report(mnist_test_labels,grid_predictions))"
   ]
  },
  {
   "cell_type": "markdown",
   "metadata": {},
   "source": [
    "Se puede observar que el modelo obtuvo una precisión del 98%"
   ]
  },
  {
   "cell_type": "markdown",
   "metadata": {},
   "source": [
    "# Redes Neuronales"
   ]
  },
  {
   "cell_type": "markdown",
   "metadata": {},
   "source": [
    "Para este modelo nos hemos basado en el encontrado en [https://www.analyticsvidhya.com/blog/2017/06/getting-started-with-deep-learning-using-keras-in-r/] \n",
    "\n",
    "Primero vamos a importar Tensorflow y Keras para construir nuestra red neuronal"
   ]
  },
  {
   "cell_type": "code",
   "execution_count": 5,
   "metadata": {},
   "outputs": [
    {
     "name": "stderr",
     "output_type": "stream",
     "text": [
      "/home/daniel/anaconda3/lib/python3.6/site-packages/h5py/__init__.py:36: FutureWarning: Conversion of the second argument of issubdtype from `float` to `np.floating` is deprecated. In future, it will be treated as `np.float64 == np.dtype(float).type`.\n",
      "  from ._conv import register_converters as _register_converters\n",
      "Using TensorFlow backend.\n"
     ]
    }
   ],
   "source": [
    "import tensorflow as tf\n",
    "import keras"
   ]
  },
  {
   "cell_type": "markdown",
   "metadata": {},
   "source": [
    "Ahora, para que la red neuronal no tome los valores categóricos del 0 al 9 como valores numéricos si no como categorías, vamos a hacer un one hot encoding con los dataset que contienen los labels (mnist_train_labels y mnist_test_labels). \n",
    "\n",
    "Para esto, definimos una variable con las 10 clases y procedemos a usar el método to_categorical de Keras."
   ]
  },
  {
   "cell_type": "code",
   "execution_count": 6,
   "metadata": {},
   "outputs": [],
   "source": [
    "num_classes = 10\n",
    "mnist_y_train = keras.utils.to_categorical(mnist_train_labels, num_classes)\n",
    "mnist_y_test = keras.utils.to_categorical(mnist_test_labels, num_classes)"
   ]
  },
  {
   "cell_type": "markdown",
   "metadata": {},
   "source": [
    "Vamos a definir una función que nos muestre un gráfico sobre la precisión del modelo a través del tiempo de entrenamiento, es decir, la precisión del modelo en cada Epoch."
   ]
  },
  {
   "cell_type": "code",
   "execution_count": 7,
   "metadata": {},
   "outputs": [],
   "source": [
    "def print_history(fitted_model, units):\n",
    "    plt.plot(fitted_model.history['acc'])\n",
    "    plt.plot(fitted_model.history['val_acc'])\n",
    "    plt.title('Precision del modelo con {} unidades'.format(units))\n",
    "    plt.ylabel('Precisión')\n",
    "    plt.xlabel('Epoch')\n",
    "    plt.legend(['Entrenamiento', 'Validación'], loc='lower right')\n",
    "    plt.show()"
   ]
  },
  {
   "cell_type": "markdown",
   "metadata": {},
   "source": [
    "Definimos la variable image_size con un valor de 784, ésta será la que define la cantidad de neuronas para nuestra capa de entrada a la red neuronal.\n",
    "\n",
    "Nuestra capa de salida tendrá una cantidad de neuronas definida en la variable num_clases=10 que corresponde a cada uno de los números del 0 al 9 de la variable categórica del dataset de MNIST.\n",
    "\n",
    "Vamos a construir un perceptrón multicapa con una sola capa oculta variando el parámetro units en la capa de entrada, este parámetro indica la cantidad de nodos en una capa de la red neuronal."
   ]
  },
  {
   "cell_type": "code",
   "execution_count": 8,
   "metadata": {},
   "outputs": [
    {
     "name": "stdout",
     "output_type": "stream",
     "text": [
      "WARNING:tensorflow:From /home/daniel/anaconda3/lib/python3.6/site-packages/tensorflow/python/framework/op_def_library.py:263: colocate_with (from tensorflow.python.framework.ops) is deprecated and will be removed in a future version.\n",
      "Instructions for updating:\n",
      "Colocations handled automatically by placer.\n",
      "WARNING:tensorflow:From /home/daniel/anaconda3/lib/python3.6/site-packages/tensorflow/python/ops/math_ops.py:3066: to_int32 (from tensorflow.python.ops.math_ops) is deprecated and will be removed in a future version.\n",
      "Instructions for updating:\n",
      "Use tf.cast instead.\n",
      "Train on 59999 samples, validate on 9999 samples\n",
      "Epoch 1/50\n",
      "59999/59999 [==============================] - 5s 88us/step - loss: 0.5043 - acc: 0.8630 - val_loss: 0.2643 - val_acc: 0.9247\n",
      "Epoch 2/50\n",
      "59999/59999 [==============================] - 3s 56us/step - loss: 0.2400 - acc: 0.9321 - val_loss: 0.2100 - val_acc: 0.9401\n",
      "Epoch 3/50\n",
      "59999/59999 [==============================] - 3s 57us/step - loss: 0.1994 - acc: 0.9430 - val_loss: 0.1906 - val_acc: 0.9439\n",
      "Epoch 4/50\n",
      "59999/59999 [==============================] - 3s 56us/step - loss: 0.1745 - acc: 0.9501 - val_loss: 0.1708 - val_acc: 0.9489\n",
      "Epoch 5/50\n",
      "59999/59999 [==============================] - 4s 61us/step - loss: 0.1562 - acc: 0.9552 - val_loss: 0.1573 - val_acc: 0.9526\n",
      "Epoch 6/50\n",
      "59999/59999 [==============================] - 3s 57us/step - loss: 0.1415 - acc: 0.9592 - val_loss: 0.1489 - val_acc: 0.9549\n",
      "Epoch 7/50\n",
      "59999/59999 [==============================] - 3s 57us/step - loss: 0.1307 - acc: 0.9627 - val_loss: 0.1457 - val_acc: 0.9561\n",
      "Epoch 8/50\n",
      "59999/59999 [==============================] - 3s 56us/step - loss: 0.1210 - acc: 0.9655 - val_loss: 0.1356 - val_acc: 0.9594\n",
      "Epoch 9/50\n",
      "59999/59999 [==============================] - 3s 57us/step - loss: 0.1125 - acc: 0.9674 - val_loss: 0.1323 - val_acc: 0.9597\n",
      "Epoch 10/50\n",
      "59999/59999 [==============================] - 3s 57us/step - loss: 0.1059 - acc: 0.9694 - val_loss: 0.1308 - val_acc: 0.9600\n",
      "Epoch 11/50\n",
      "59999/59999 [==============================] - 3s 57us/step - loss: 0.0993 - acc: 0.9718 - val_loss: 0.1192 - val_acc: 0.9639\n",
      "Epoch 12/50\n",
      "59999/59999 [==============================] - 3s 57us/step - loss: 0.0934 - acc: 0.9733 - val_loss: 0.1250 - val_acc: 0.9622\n",
      "Epoch 13/50\n",
      "59999/59999 [==============================] - 3s 56us/step - loss: 0.0878 - acc: 0.9746 - val_loss: 0.1197 - val_acc: 0.9646\n",
      "Epoch 14/50\n",
      "59999/59999 [==============================] - 3s 56us/step - loss: 0.0839 - acc: 0.9755 - val_loss: 0.1171 - val_acc: 0.9662\n",
      "Epoch 15/50\n",
      "59999/59999 [==============================] - 3s 57us/step - loss: 0.0794 - acc: 0.9767 - val_loss: 0.1123 - val_acc: 0.9672\n",
      "Epoch 16/50\n",
      "59999/59999 [==============================] - 3s 56us/step - loss: 0.0756 - acc: 0.9776 - val_loss: 0.1138 - val_acc: 0.9669\n",
      "Epoch 17/50\n",
      "59999/59999 [==============================] - 3s 57us/step - loss: 0.0722 - acc: 0.9786 - val_loss: 0.1136 - val_acc: 0.9672\n",
      "Epoch 18/50\n",
      "59999/59999 [==============================] - 3s 57us/step - loss: 0.0699 - acc: 0.9793 - val_loss: 0.1099 - val_acc: 0.9688\n",
      "Epoch 19/50\n",
      "59999/59999 [==============================] - 3s 57us/step - loss: 0.0659 - acc: 0.9800 - val_loss: 0.1102 - val_acc: 0.9661\n",
      "Epoch 20/50\n",
      "59999/59999 [==============================] - 3s 57us/step - loss: 0.0637 - acc: 0.9814 - val_loss: 0.1080 - val_acc: 0.9687\n",
      "Epoch 21/50\n",
      "59999/59999 [==============================] - 3s 57us/step - loss: 0.0610 - acc: 0.9824 - val_loss: 0.1104 - val_acc: 0.9685\n",
      "Epoch 22/50\n",
      "59999/59999 [==============================] - 3s 56us/step - loss: 0.0583 - acc: 0.9830 - val_loss: 0.1104 - val_acc: 0.9679\n",
      "Epoch 23/50\n",
      "59999/59999 [==============================] - 3s 58us/step - loss: 0.0562 - acc: 0.9834 - val_loss: 0.1137 - val_acc: 0.9668\n",
      "Epoch 24/50\n",
      "59999/59999 [==============================] - 3s 56us/step - loss: 0.0537 - acc: 0.9844 - val_loss: 0.1154 - val_acc: 0.9654\n",
      "Epoch 25/50\n",
      "59999/59999 [==============================] - 3s 58us/step - loss: 0.0523 - acc: 0.9847 - val_loss: 0.1096 - val_acc: 0.9683\n",
      "Epoch 26/50\n",
      "59999/59999 [==============================] - 3s 55us/step - loss: 0.0500 - acc: 0.9856 - val_loss: 0.1120 - val_acc: 0.9676\n",
      "Epoch 27/50\n",
      "59999/59999 [==============================] - 3s 56us/step - loss: 0.0489 - acc: 0.9858 - val_loss: 0.1131 - val_acc: 0.9676\n",
      "Epoch 28/50\n",
      "59999/59999 [==============================] - 3s 55us/step - loss: 0.0470 - acc: 0.9862 - val_loss: 0.1134 - val_acc: 0.9666\n",
      "Epoch 29/50\n",
      "59999/59999 [==============================] - 3s 56us/step - loss: 0.0452 - acc: 0.9869 - val_loss: 0.1146 - val_acc: 0.9675\n",
      "Epoch 30/50\n",
      "59999/59999 [==============================] - 3s 55us/step - loss: 0.0437 - acc: 0.9872 - val_loss: 0.1128 - val_acc: 0.9682\n",
      "Epoch 31/50\n",
      "59999/59999 [==============================] - 3s 55us/step - loss: 0.0418 - acc: 0.9880 - val_loss: 0.1152 - val_acc: 0.9679\n",
      "Epoch 32/50\n",
      "59999/59999 [==============================] - 3s 56us/step - loss: 0.0414 - acc: 0.9881 - val_loss: 0.1170 - val_acc: 0.9671\n",
      "Epoch 33/50\n",
      "59999/59999 [==============================] - 3s 58us/step - loss: 0.0395 - acc: 0.9885 - val_loss: 0.1189 - val_acc: 0.9664\n",
      "Epoch 34/50\n",
      "59999/59999 [==============================] - 3s 57us/step - loss: 0.0378 - acc: 0.9895 - val_loss: 0.1212 - val_acc: 0.9673\n",
      "Epoch 35/50\n",
      "59999/59999 [==============================] - 3s 58us/step - loss: 0.0373 - acc: 0.9891 - val_loss: 0.1190 - val_acc: 0.9683\n",
      "Epoch 36/50\n",
      "59999/59999 [==============================] - 3s 57us/step - loss: 0.0356 - acc: 0.9899 - val_loss: 0.1291 - val_acc: 0.9660\n",
      "Epoch 37/50\n",
      "59999/59999 [==============================] - 3s 58us/step - loss: 0.0348 - acc: 0.9908 - val_loss: 0.1239 - val_acc: 0.9665\n",
      "Epoch 38/50\n",
      "59999/59999 [==============================] - 3s 57us/step - loss: 0.0339 - acc: 0.9903 - val_loss: 0.1280 - val_acc: 0.9656\n",
      "Epoch 39/50\n",
      "59999/59999 [==============================] - 4s 66us/step - loss: 0.0325 - acc: 0.9911 - val_loss: 0.1295 - val_acc: 0.9659\n",
      "Epoch 40/50\n",
      "59999/59999 [==============================] - 4s 59us/step - loss: 0.0318 - acc: 0.9910 - val_loss: 0.1265 - val_acc: 0.9677\n",
      "Epoch 41/50\n",
      "59999/59999 [==============================] - 4s 60us/step - loss: 0.0305 - acc: 0.9917 - val_loss: 0.1258 - val_acc: 0.9667\n",
      "Epoch 42/50\n",
      "59999/59999 [==============================] - 3s 58us/step - loss: 0.0294 - acc: 0.9917 - val_loss: 0.1250 - val_acc: 0.9670\n",
      "Epoch 43/50\n",
      "59999/59999 [==============================] - 3s 58us/step - loss: 0.0283 - acc: 0.9921 - val_loss: 0.1359 - val_acc: 0.9658\n",
      "Epoch 44/50\n",
      "59999/59999 [==============================] - 3s 57us/step - loss: 0.0279 - acc: 0.9926 - val_loss: 0.1322 - val_acc: 0.9662\n",
      "Epoch 45/50\n",
      "59999/59999 [==============================] - 3s 58us/step - loss: 0.0274 - acc: 0.9923 - val_loss: 0.1291 - val_acc: 0.9662\n",
      "Epoch 46/50\n",
      "59999/59999 [==============================] - 4s 61us/step - loss: 0.0258 - acc: 0.9933 - val_loss: 0.1320 - val_acc: 0.9661\n",
      "Epoch 47/50\n",
      "59999/59999 [==============================] - 3s 58us/step - loss: 0.0252 - acc: 0.9932 - val_loss: 0.1392 - val_acc: 0.9664\n",
      "Epoch 48/50\n",
      "59999/59999 [==============================] - 3s 57us/step - loss: 0.0240 - acc: 0.9938 - val_loss: 0.1347 - val_acc: 0.9671\n",
      "Epoch 49/50\n",
      "59999/59999 [==============================] - 3s 57us/step - loss: 0.0241 - acc: 0.9932 - val_loss: 0.1326 - val_acc: 0.9668\n",
      "Epoch 50/50\n",
      "59999/59999 [==============================] - 3s 57us/step - loss: 0.0229 - acc: 0.9941 - val_loss: 0.1447 - val_acc: 0.9639\n"
     ]
    },
    {
     "data": {
      "image/png": "[encoded data removed]",
      "text/plain": [
       "<Figure size 432x288 with 1 Axes>"
      ]
     },
     "metadata": {},
     "output_type": "display_data"
    },
    {
     "name": "stdout",
     "output_type": "stream",
     "text": [
      "Train on 59999 samples, validate on 9999 samples\n",
      "Epoch 1/50\n",
      "59999/59999 [==============================] - 6s 96us/step - loss: 0.3058 - acc: 0.9158 - val_loss: 0.1593 - val_acc: 0.9539\n",
      "Epoch 2/50\n",
      "59999/59999 [==============================] - 6s 93us/step - loss: 0.1330 - acc: 0.9622 - val_loss: 0.1060 - val_acc: 0.9679\n",
      "Epoch 3/50\n",
      "59999/59999 [==============================] - 6s 92us/step - loss: 0.0902 - acc: 0.9737 - val_loss: 0.0920 - val_acc: 0.9730\n",
      "Epoch 4/50\n",
      "59999/59999 [==============================] - 5s 91us/step - loss: 0.0666 - acc: 0.9808 - val_loss: 0.0755 - val_acc: 0.9768\n",
      "Epoch 5/50\n",
      "59999/59999 [==============================] - 6s 92us/step - loss: 0.0514 - acc: 0.9852 - val_loss: 0.0793 - val_acc: 0.9754\n",
      "Epoch 6/50\n",
      "59999/59999 [==============================] - 6s 95us/step - loss: 0.0411 - acc: 0.9882 - val_loss: 0.0675 - val_acc: 0.9792\n",
      "Epoch 7/50\n",
      "59999/59999 [==============================] - 6s 94us/step - loss: 0.0321 - acc: 0.9909 - val_loss: 0.0663 - val_acc: 0.9789\n",
      "Epoch 8/50\n",
      "59999/59999 [==============================] - 6s 94us/step - loss: 0.0248 - acc: 0.9937 - val_loss: 0.0655 - val_acc: 0.9791\n",
      "Epoch 9/50\n",
      "59999/59999 [==============================] - 6s 92us/step - loss: 0.0200 - acc: 0.9952 - val_loss: 0.0663 - val_acc: 0.9799\n",
      "Epoch 10/50\n",
      "59999/59999 [==============================] - 6s 92us/step - loss: 0.0166 - acc: 0.9958 - val_loss: 0.0600 - val_acc: 0.9810\n",
      "Epoch 11/50\n",
      "59999/59999 [==============================] - 6s 92us/step - loss: 0.0131 - acc: 0.9971 - val_loss: 0.0681 - val_acc: 0.9796\n",
      "Epoch 12/50\n",
      "59999/59999 [==============================] - 6s 92us/step - loss: 0.0096 - acc: 0.9983 - val_loss: 0.0649 - val_acc: 0.9796\n",
      "Epoch 13/50\n",
      "59999/59999 [==============================] - 6s 92us/step - loss: 0.0094 - acc: 0.9978 - val_loss: 0.0693 - val_acc: 0.9790\n",
      "Epoch 14/50\n",
      "59999/59999 [==============================] - 7s 110us/step - loss: 0.0074 - acc: 0.9985 - val_loss: 0.0677 - val_acc: 0.9804\n",
      "Epoch 15/50\n",
      "59999/59999 [==============================] - 6s 96us/step - loss: 0.0055 - acc: 0.9991 - val_loss: 0.0724 - val_acc: 0.9799\n",
      "Epoch 16/50\n",
      "59999/59999 [==============================] - 6s 104us/step - loss: 0.0061 - acc: 0.9988 - val_loss: 0.0768 - val_acc: 0.9779\n",
      "Epoch 17/50\n",
      "59999/59999 [==============================] - 6s 98us/step - loss: 0.0095 - acc: 0.9973 - val_loss: 0.0666 - val_acc: 0.9817\n",
      "Epoch 18/50\n",
      "59999/59999 [==============================] - 6s 99us/step - loss: 0.0033 - acc: 0.9994 - val_loss: 0.0742 - val_acc: 0.9795\n",
      "Epoch 19/50\n",
      "59999/59999 [==============================] - 6s 102us/step - loss: 0.0019 - acc: 0.9999 - val_loss: 0.0638 - val_acc: 0.9830\n",
      "Epoch 20/50\n",
      "59999/59999 [==============================] - 6s 102us/step - loss: 0.0031 - acc: 0.9995 - val_loss: 0.0695 - val_acc: 0.9818\n",
      "Epoch 21/50\n",
      "59999/59999 [==============================] - 6s 99us/step - loss: 0.0016 - acc: 0.9998 - val_loss: 0.0782 - val_acc: 0.9813\n",
      "Epoch 22/50\n",
      "59999/59999 [==============================] - 6s 100us/step - loss: 0.0077 - acc: 0.9974 - val_loss: 0.0967 - val_acc: 0.9770\n",
      "Epoch 23/50\n",
      "59999/59999 [==============================] - 6s 101us/step - loss: 0.0059 - acc: 0.9983 - val_loss: 0.0762 - val_acc: 0.9811\n",
      "Epoch 24/50\n",
      "59999/59999 [==============================] - 6s 100us/step - loss: 0.0021 - acc: 0.9996 - val_loss: 0.0735 - val_acc: 0.9824\n",
      "Epoch 25/50\n",
      "59999/59999 [==============================] - 6s 103us/step - loss: 5.5627e-04 - acc: 1.0000 - val_loss: 0.0746 - val_acc: 0.9829\n",
      "Epoch 26/50\n",
      "59999/59999 [==============================] - 6s 101us/step - loss: 3.4597e-04 - acc: 1.0000 - val_loss: 0.0755 - val_acc: 0.9828\n",
      "Epoch 27/50\n",
      "59999/59999 [==============================] - 6s 102us/step - loss: 2.8449e-04 - acc: 1.0000 - val_loss: 0.0763 - val_acc: 0.9831\n",
      "Epoch 28/50\n",
      "59999/59999 [==============================] - 6s 103us/step - loss: 2.4390e-04 - acc: 1.0000 - val_loss: 0.0766 - val_acc: 0.9832\n",
      "Epoch 29/50\n",
      "59999/59999 [==============================] - 6s 101us/step - loss: 2.0938e-04 - acc: 1.0000 - val_loss: 0.0784 - val_acc: 0.9829\n",
      "Epoch 30/50\n",
      "59999/59999 [==============================] - 6s 101us/step - loss: 1.9849e-04 - acc: 1.0000 - val_loss: 0.0792 - val_acc: 0.9824\n",
      "Epoch 31/50\n",
      "59999/59999 [==============================] - 6s 100us/step - loss: 2.0800e-04 - acc: 1.0000 - val_loss: 0.0782 - val_acc: 0.9826\n",
      "Epoch 32/50\n",
      "59999/59999 [==============================] - 6s 101us/step - loss: 0.0205 - acc: 0.9939 - val_loss: 0.0923 - val_acc: 0.9809\n",
      "Epoch 33/50\n",
      "59999/59999 [==============================] - 6s 100us/step - loss: 0.0018 - acc: 0.9997 - val_loss: 0.0810 - val_acc: 0.9826\n",
      "Epoch 34/50\n",
      "59999/59999 [==============================] - 6s 101us/step - loss: 4.0635e-04 - acc: 1.0000 - val_loss: 0.0796 - val_acc: 0.9831\n",
      "Epoch 35/50\n",
      "59999/59999 [==============================] - 7s 111us/step - loss: 2.5307e-04 - acc: 1.0000 - val_loss: 0.0808 - val_acc: 0.9832\n",
      "Epoch 36/50\n",
      "59999/59999 [==============================] - 6s 104us/step - loss: 1.9064e-04 - acc: 1.0000 - val_loss: 0.0821 - val_acc: 0.9831\n",
      "Epoch 37/50\n",
      "59999/59999 [==============================] - 6s 104us/step - loss: 1.5731e-04 - acc: 1.0000 - val_loss: 0.0830 - val_acc: 0.9832\n",
      "Epoch 38/50\n",
      "59999/59999 [==============================] - 6s 103us/step - loss: 1.3644e-04 - acc: 1.0000 - val_loss: 0.0828 - val_acc: 0.9832\n",
      "Epoch 39/50\n",
      "59999/59999 [==============================] - 6s 104us/step - loss: 1.2033e-04 - acc: 1.0000 - val_loss: 0.0834 - val_acc: 0.9833\n",
      "Epoch 40/50\n",
      "59999/59999 [==============================] - 6s 101us/step - loss: 1.0490e-04 - acc: 1.0000 - val_loss: 0.0838 - val_acc: 0.9837\n",
      "Epoch 41/50\n",
      "59999/59999 [==============================] - 6s 101us/step - loss: 9.3598e-05 - acc: 1.0000 - val_loss: 0.0846 - val_acc: 0.9837\n",
      "Epoch 42/50\n",
      "59999/59999 [==============================] - 6s 102us/step - loss: 7.9769e-05 - acc: 1.0000 - val_loss: 0.0856 - val_acc: 0.9837\n",
      "Epoch 43/50\n",
      "59999/59999 [==============================] - 6s 101us/step - loss: 0.0142 - acc: 0.9954 - val_loss: 0.1096 - val_acc: 0.9784\n",
      "Epoch 44/50\n",
      "59999/59999 [==============================] - 6s 97us/step - loss: 0.0065 - acc: 0.9976 - val_loss: 0.0912 - val_acc: 0.9804\n",
      "Epoch 45/50\n",
      "59999/59999 [==============================] - 6s 98us/step - loss: 8.3004e-04 - acc: 0.9999 - val_loss: 0.0853 - val_acc: 0.9828\n",
      "Epoch 46/50\n",
      "59999/59999 [==============================] - 6s 101us/step - loss: 2.3222e-04 - acc: 1.0000 - val_loss: 0.0856 - val_acc: 0.9832\n",
      "Epoch 47/50\n",
      "59999/59999 [==============================] - 6s 98us/step - loss: 1.4437e-04 - acc: 1.0000 - val_loss: 0.0858 - val_acc: 0.9836\n",
      "Epoch 48/50\n",
      "59999/59999 [==============================] - 6s 102us/step - loss: 1.1652e-04 - acc: 1.0000 - val_loss: 0.0872 - val_acc: 0.9832\n",
      "Epoch 49/50\n",
      "59999/59999 [==============================] - 6s 104us/step - loss: 9.8878e-05 - acc: 1.0000 - val_loss: 0.0879 - val_acc: 0.9834\n",
      "Epoch 50/50\n",
      "59999/59999 [==============================] - 6s 103us/step - loss: 8.3433e-05 - acc: 1.0000 - val_loss: 0.0884 - val_acc: 0.9828\n"
     ]
    },
    {
     "data": {
      "image/png": "[encoded data removed]",
      "text/plain": [
       "<Figure size 432x288 with 1 Axes>"
      ]
     },
     "metadata": {},
     "output_type": "display_data"
    },
    {
     "name": "stdout",
     "output_type": "stream",
     "text": [
      "Train on 59999 samples, validate on 9999 samples\n",
      "Epoch 1/50\n",
      "59999/59999 [==============================] - 13s 217us/step - loss: 0.2464 - acc: 0.9301 - val_loss: 0.1234 - val_acc: 0.9623\n",
      "Epoch 2/50\n",
      "59999/59999 [==============================] - 13s 210us/step - loss: 0.0949 - acc: 0.9717 - val_loss: 0.0853 - val_acc: 0.9742\n",
      "Epoch 3/50\n",
      "59999/59999 [==============================] - 13s 210us/step - loss: 0.0609 - acc: 0.9817 - val_loss: 0.0690 - val_acc: 0.9786\n",
      "Epoch 4/50\n",
      "59999/59999 [==============================] - 13s 212us/step - loss: 0.0410 - acc: 0.9882 - val_loss: 0.0661 - val_acc: 0.9795\n",
      "Epoch 5/50\n",
      "59999/59999 [==============================] - 13s 210us/step - loss: 0.0302 - acc: 0.9910 - val_loss: 0.0660 - val_acc: 0.9795\n",
      "Epoch 6/50\n",
      "59999/59999 [==============================] - 13s 211us/step - loss: 0.0227 - acc: 0.9934 - val_loss: 0.0573 - val_acc: 0.9820\n",
      "Epoch 7/50\n",
      "59999/59999 [==============================] - 13s 211us/step - loss: 0.0158 - acc: 0.9957 - val_loss: 0.0597 - val_acc: 0.9808\n",
      "Epoch 8/50\n",
      "59999/59999 [==============================] - 13s 212us/step - loss: 0.0122 - acc: 0.9970 - val_loss: 0.0740 - val_acc: 0.9772\n",
      "Epoch 9/50\n",
      "59999/59999 [==============================] - 13s 211us/step - loss: 0.0100 - acc: 0.9977 - val_loss: 0.0632 - val_acc: 0.9820\n",
      "Epoch 10/50\n",
      "59999/59999 [==============================] - 13s 212us/step - loss: 0.0073 - acc: 0.9982 - val_loss: 0.0659 - val_acc: 0.9811\n",
      "Epoch 11/50\n",
      "59999/59999 [==============================] - 13s 211us/step - loss: 0.0054 - acc: 0.9987 - val_loss: 0.0678 - val_acc: 0.9806\n",
      "Epoch 12/50\n",
      "59999/59999 [==============================] - 13s 212us/step - loss: 0.0109 - acc: 0.9965 - val_loss: 0.0707 - val_acc: 0.9815\n",
      "Epoch 13/50\n",
      "59999/59999 [==============================] - 13s 213us/step - loss: 0.0075 - acc: 0.9978 - val_loss: 0.0778 - val_acc: 0.9782\n",
      "Epoch 14/50\n",
      "59999/59999 [==============================] - 13s 213us/step - loss: 0.0054 - acc: 0.9986 - val_loss: 0.0720 - val_acc: 0.9820\n",
      "Epoch 15/50\n",
      "59999/59999 [==============================] - 13s 213us/step - loss: 0.0025 - acc: 0.9995 - val_loss: 0.0660 - val_acc: 0.9838\n",
      "Epoch 16/50\n",
      "59999/59999 [==============================] - 13s 213us/step - loss: 0.0028 - acc: 0.9993 - val_loss: 0.0722 - val_acc: 0.9826\n",
      "Epoch 17/50\n",
      "59999/59999 [==============================] - 13s 213us/step - loss: 0.0108 - acc: 0.9966 - val_loss: 0.0787 - val_acc: 0.9818\n",
      "Epoch 18/50\n",
      "59999/59999 [==============================] - 13s 213us/step - loss: 0.0046 - acc: 0.9985 - val_loss: 0.0854 - val_acc: 0.9818\n",
      "Epoch 19/50\n",
      "59999/59999 [==============================] - 13s 213us/step - loss: 0.0011 - acc: 0.9998 - val_loss: 0.0717 - val_acc: 0.9843\n",
      "Epoch 20/50\n",
      "59999/59999 [==============================] - 13s 212us/step - loss: 0.0011 - acc: 0.9998 - val_loss: 0.0689 - val_acc: 0.9853\n",
      "Epoch 21/50\n",
      "59999/59999 [==============================] - 13s 213us/step - loss: 8.7950e-04 - acc: 0.9998 - val_loss: 0.0830 - val_acc: 0.9820\n",
      "Epoch 22/50\n",
      "59999/59999 [==============================] - 14s 226us/step - loss: 0.0126 - acc: 0.9961 - val_loss: 0.0744 - val_acc: 0.9834\n",
      "Epoch 23/50\n",
      "59999/59999 [==============================] - 13s 225us/step - loss: 0.0037 - acc: 0.9990 - val_loss: 0.0798 - val_acc: 0.9830\n",
      "Epoch 24/50\n",
      "59999/59999 [==============================] - 13s 222us/step - loss: 0.0011 - acc: 0.9998 - val_loss: 0.0785 - val_acc: 0.9842\n",
      "Epoch 25/50\n",
      "59999/59999 [==============================] - 13s 221us/step - loss: 3.1996e-04 - acc: 1.0000 - val_loss: 0.0752 - val_acc: 0.9840\n",
      "Epoch 26/50\n",
      "59999/59999 [==============================] - 13s 219us/step - loss: 1.2115e-04 - acc: 1.0000 - val_loss: 0.0757 - val_acc: 0.9842\n",
      "Epoch 27/50\n",
      "59999/59999 [==============================] - 13s 220us/step - loss: 8.5738e-05 - acc: 1.0000 - val_loss: 0.0761 - val_acc: 0.9844\n",
      "Epoch 28/50\n",
      "59999/59999 [==============================] - 13s 220us/step - loss: 6.9614e-05 - acc: 1.0000 - val_loss: 0.0761 - val_acc: 0.9844\n",
      "Epoch 29/50\n",
      "59999/59999 [==============================] - 13s 221us/step - loss: 5.8414e-05 - acc: 1.0000 - val_loss: 0.0767 - val_acc: 0.9842\n",
      "Epoch 30/50\n",
      "59999/59999 [==============================] - 13s 220us/step - loss: 4.8418e-05 - acc: 1.0000 - val_loss: 0.0778 - val_acc: 0.9845\n",
      "Epoch 31/50\n",
      "59999/59999 [==============================] - 13s 220us/step - loss: 4.1738e-05 - acc: 1.0000 - val_loss: 0.0783 - val_acc: 0.9845\n",
      "Epoch 32/50\n",
      "59999/59999 [==============================] - 13s 221us/step - loss: 3.5635e-05 - acc: 1.0000 - val_loss: 0.0781 - val_acc: 0.9842\n",
      "Epoch 33/50\n",
      "59999/59999 [==============================] - 13s 221us/step - loss: 3.0033e-05 - acc: 1.0000 - val_loss: 0.0786 - val_acc: 0.9845\n",
      "Epoch 34/50\n",
      "59999/59999 [==============================] - 13s 221us/step - loss: 2.5709e-05 - acc: 1.0000 - val_loss: 0.0802 - val_acc: 0.9843\n",
      "Epoch 35/50\n",
      "59999/59999 [==============================] - 13s 220us/step - loss: 2.1164e-05 - acc: 1.0000 - val_loss: 0.0798 - val_acc: 0.9844\n",
      "Epoch 36/50\n",
      "59999/59999 [==============================] - 13s 220us/step - loss: 3.2121e-05 - acc: 1.0000 - val_loss: 0.0905 - val_acc: 0.9836\n",
      "Epoch 37/50\n",
      "59999/59999 [==============================] - 14s 225us/step - loss: 0.0248 - acc: 0.9929 - val_loss: 0.0904 - val_acc: 0.9813\n",
      "Epoch 38/50\n",
      "59999/59999 [==============================] - 13s 220us/step - loss: 0.0030 - acc: 0.9989 - val_loss: 0.0845 - val_acc: 0.9837\n",
      "Epoch 39/50\n",
      "59999/59999 [==============================] - 13s 220us/step - loss: 5.4588e-04 - acc: 0.9999 - val_loss: 0.0857 - val_acc: 0.9839\n",
      "Epoch 40/50\n",
      "59999/59999 [==============================] - 13s 221us/step - loss: 4.7112e-04 - acc: 0.9999 - val_loss: 0.0818 - val_acc: 0.9845\n",
      "Epoch 41/50\n",
      "59999/59999 [==============================] - 13s 221us/step - loss: 7.7862e-05 - acc: 1.0000 - val_loss: 0.0818 - val_acc: 0.9850\n",
      "Epoch 42/50\n",
      "59999/59999 [==============================] - 13s 221us/step - loss: 5.7465e-05 - acc: 1.0000 - val_loss: 0.0826 - val_acc: 0.9852\n",
      "Epoch 43/50\n",
      "59999/59999 [==============================] - 13s 221us/step - loss: 4.7988e-05 - acc: 1.0000 - val_loss: 0.0832 - val_acc: 0.9849\n",
      "Epoch 44/50\n",
      "59999/59999 [==============================] - 13s 221us/step - loss: 3.9667e-05 - acc: 1.0000 - val_loss: 0.0833 - val_acc: 0.9851\n",
      "Epoch 45/50\n",
      "59999/59999 [==============================] - 13s 222us/step - loss: 3.3610e-05 - acc: 1.0000 - val_loss: 0.0840 - val_acc: 0.9851\n",
      "Epoch 46/50\n",
      "59999/59999 [==============================] - 13s 220us/step - loss: 2.8048e-05 - acc: 1.0000 - val_loss: 0.0849 - val_acc: 0.9852\n",
      "Epoch 47/50\n",
      "59999/59999 [==============================] - 13s 220us/step - loss: 2.3906e-05 - acc: 1.0000 - val_loss: 0.0852 - val_acc: 0.9856\n",
      "Epoch 48/50\n",
      "59999/59999 [==============================] - 15s 252us/step - loss: 2.0197e-05 - acc: 1.0000 - val_loss: 0.0858 - val_acc: 0.9854\n",
      "Epoch 49/50\n",
      "59999/59999 [==============================] - 14s 242us/step - loss: 1.6975e-05 - acc: 1.0000 - val_loss: 0.0864 - val_acc: 0.9856\n",
      "Epoch 50/50\n",
      "59999/59999 [==============================] - 13s 223us/step - loss: 1.4281e-05 - acc: 1.0000 - val_loss: 0.0870 - val_acc: 0.9856\n"
     ]
    },
    {
     "data": {
      "image/png": "[encoded data removed]",
      "text/plain": [
       "<Figure size 432x288 with 1 Axes>"
      ]
     },
     "metadata": {},
     "output_type": "display_data"
    },
    {
     "name": "stdout",
     "output_type": "stream",
     "text": [
      "Train on 59999 samples, validate on 9999 samples\n",
      "Epoch 1/50\n",
      "59999/59999 [==============================] - 30s 504us/step - loss: 0.2138 - acc: 0.9368 - val_loss: 0.1054 - val_acc: 0.9678\n",
      "Epoch 2/50\n",
      "59999/59999 [==============================] - 37s 610us/step - loss: 0.0782 - acc: 0.9768 - val_loss: 0.0743 - val_acc: 0.9763\n",
      "Epoch 3/50\n",
      "59999/59999 [==============================] - 30s 492us/step - loss: 0.0483 - acc: 0.9852 - val_loss: 0.0622 - val_acc: 0.9810\n",
      "Epoch 4/50\n",
      "59999/59999 [==============================] - 30s 495us/step - loss: 0.0312 - acc: 0.9902 - val_loss: 0.0662 - val_acc: 0.9799\n",
      "Epoch 5/50\n",
      "59999/59999 [==============================] - 28s 471us/step - loss: 0.0218 - acc: 0.9932 - val_loss: 0.0710 - val_acc: 0.9806\n",
      "Epoch 6/50\n",
      "59999/59999 [==============================] - 33s 547us/step - loss: 0.0160 - acc: 0.9952 - val_loss: 0.0750 - val_acc: 0.9784\n",
      "Epoch 7/50\n",
      "59999/59999 [==============================] - 30s 497us/step - loss: 0.0133 - acc: 0.9957 - val_loss: 0.0783 - val_acc: 0.9783\n",
      "Epoch 8/50\n",
      "59999/59999 [==============================] - 29s 488us/step - loss: 0.0107 - acc: 0.9965 - val_loss: 0.0683 - val_acc: 0.9812\n",
      "Epoch 9/50\n",
      "59999/59999 [==============================] - 29s 486us/step - loss: 0.0114 - acc: 0.9962 - val_loss: 0.0715 - val_acc: 0.9807\n",
      "Epoch 10/50\n",
      "59999/59999 [==============================] - 29s 480us/step - loss: 0.0076 - acc: 0.9977 - val_loss: 0.0714 - val_acc: 0.9819\n",
      "Epoch 11/50\n",
      "59999/59999 [==============================] - 29s 483us/step - loss: 0.0076 - acc: 0.9975 - val_loss: 0.0801 - val_acc: 0.9802\n",
      "Epoch 12/50\n",
      "59999/59999 [==============================] - 29s 480us/step - loss: 0.0081 - acc: 0.9974 - val_loss: 0.0811 - val_acc: 0.9807\n",
      "Epoch 13/50\n",
      "59999/59999 [==============================] - 29s 481us/step - loss: 0.0057 - acc: 0.9983 - val_loss: 0.0807 - val_acc: 0.9813\n",
      "Epoch 14/50\n",
      "59999/59999 [==============================] - 29s 482us/step - loss: 0.0051 - acc: 0.9985 - val_loss: 0.0785 - val_acc: 0.9818\n",
      "Epoch 15/50\n",
      "59999/59999 [==============================] - 29s 481us/step - loss: 0.0103 - acc: 0.9964 - val_loss: 0.0838 - val_acc: 0.9812\n",
      "Epoch 16/50\n",
      "59999/59999 [==============================] - 29s 492us/step - loss: 0.0033 - acc: 0.9989 - val_loss: 0.0681 - val_acc: 0.9837\n",
      "Epoch 17/50\n",
      "59999/59999 [==============================] - 32s 525us/step - loss: 0.0023 - acc: 0.9993 - val_loss: 0.0691 - val_acc: 0.9845\n",
      "Epoch 18/50\n",
      "59999/59999 [==============================] - 31s 524us/step - loss: 0.0085 - acc: 0.9973 - val_loss: 0.1148 - val_acc: 0.9769\n",
      "Epoch 19/50\n",
      "59999/59999 [==============================] - 32s 531us/step - loss: 0.0082 - acc: 0.9972 - val_loss: 0.0796 - val_acc: 0.9834\n",
      "Epoch 20/50\n",
      "59999/59999 [==============================] - 34s 567us/step - loss: 0.0025 - acc: 0.9993 - val_loss: 0.0838 - val_acc: 0.9827\n",
      "Epoch 21/50\n",
      "59999/59999 [==============================] - 30s 492us/step - loss: 0.0033 - acc: 0.9989 - val_loss: 0.0778 - val_acc: 0.9845\n",
      "Epoch 22/50\n",
      "59999/59999 [==============================] - 28s 471us/step - loss: 0.0045 - acc: 0.9986 - val_loss: 0.0910 - val_acc: 0.9823\n",
      "Epoch 23/50\n",
      "59999/59999 [==============================] - 27s 455us/step - loss: 0.0060 - acc: 0.9979 - val_loss: 0.0938 - val_acc: 0.9820\n",
      "Epoch 24/50\n",
      "59999/59999 [==============================] - 28s 465us/step - loss: 0.0036 - acc: 0.9991 - val_loss: 0.0900 - val_acc: 0.9818\n",
      "Epoch 25/50\n",
      "59999/59999 [==============================] - 26s 437us/step - loss: 0.0019 - acc: 0.9994 - val_loss: 0.0938 - val_acc: 0.9834\n",
      "Epoch 26/50\n",
      "59999/59999 [==============================] - 33s 557us/step - loss: 0.0038 - acc: 0.9988 - val_loss: 0.1117 - val_acc: 0.9810\n",
      "Epoch 27/50\n",
      "59999/59999 [==============================] - 30s 500us/step - loss: 0.0078 - acc: 0.9975 - val_loss: 0.0872 - val_acc: 0.9843\n",
      "Epoch 28/50\n",
      "59999/59999 [==============================] - 31s 515us/step - loss: 0.0028 - acc: 0.9989 - val_loss: 0.0998 - val_acc: 0.9830\n",
      "Epoch 29/50\n",
      "59999/59999 [==============================] - 30s 501us/step - loss: 0.0032 - acc: 0.9990 - val_loss: 0.0972 - val_acc: 0.9837\n",
      "Epoch 30/50\n",
      "59999/59999 [==============================] - 30s 501us/step - loss: 0.0064 - acc: 0.9980 - val_loss: 0.0875 - val_acc: 0.9848\n",
      "Epoch 31/50\n",
      "59999/59999 [==============================] - 30s 500us/step - loss: 0.0017 - acc: 0.9994 - val_loss: 0.0880 - val_acc: 0.9846\n",
      "Epoch 32/50\n",
      "59999/59999 [==============================] - 30s 500us/step - loss: 9.4702e-04 - acc: 0.9997 - val_loss: 0.1017 - val_acc: 0.9824\n",
      "Epoch 33/50\n",
      "59999/59999 [==============================] - 30s 501us/step - loss: 0.0048 - acc: 0.9984 - val_loss: 0.1111 - val_acc: 0.9814\n",
      "Epoch 34/50\n",
      "59999/59999 [==============================] - 30s 503us/step - loss: 0.0066 - acc: 0.9980 - val_loss: 0.1276 - val_acc: 0.9793\n",
      "Epoch 35/50\n",
      "59999/59999 [==============================] - 30s 502us/step - loss: 0.0028 - acc: 0.9991 - val_loss: 0.1046 - val_acc: 0.9832\n",
      "Epoch 36/50\n",
      "59999/59999 [==============================] - 30s 503us/step - loss: 0.0027 - acc: 0.9993 - val_loss: 0.0849 - val_acc: 0.9854\n",
      "Epoch 37/50\n",
      "59999/59999 [==============================] - 30s 503us/step - loss: 2.4616e-04 - acc: 0.9999 - val_loss: 0.0842 - val_acc: 0.9857\n",
      "Epoch 38/50\n",
      "59999/59999 [==============================] - 31s 511us/step - loss: 0.0038 - acc: 0.9989 - val_loss: 0.0987 - val_acc: 0.9831\n",
      "Epoch 39/50\n",
      "59999/59999 [==============================] - 26s 426us/step - loss: 0.0032 - acc: 0.9991 - val_loss: 0.1058 - val_acc: 0.9832\n",
      "Epoch 40/50\n",
      "59999/59999 [==============================] - 26s 427us/step - loss: 0.0052 - acc: 0.9986 - val_loss: 0.1095 - val_acc: 0.9832\n",
      "Epoch 41/50\n",
      "59999/59999 [==============================] - 26s 428us/step - loss: 0.0037 - acc: 0.9989 - val_loss: 0.1091 - val_acc: 0.9826\n",
      "Epoch 42/50\n",
      "59999/59999 [==============================] - 26s 427us/step - loss: 0.0028 - acc: 0.9992 - val_loss: 0.1161 - val_acc: 0.9818\n",
      "Epoch 43/50\n",
      "59999/59999 [==============================] - 30s 503us/step - loss: 0.0042 - acc: 0.9989 - val_loss: 0.1183 - val_acc: 0.9826\n",
      "Epoch 44/50\n",
      "59999/59999 [==============================] - 32s 541us/step - loss: 0.0028 - acc: 0.9991 - val_loss: 0.1235 - val_acc: 0.9823\n",
      "Epoch 45/50\n",
      "59999/59999 [==============================] - 32s 534us/step - loss: 0.0025 - acc: 0.9994 - val_loss: 0.1102 - val_acc: 0.9838\n",
      "Epoch 46/50\n",
      "59999/59999 [==============================] - 36s 607us/step - loss: 0.0012 - acc: 0.9996 - val_loss: 0.1153 - val_acc: 0.9836\n",
      "Epoch 47/50\n",
      "59999/59999 [==============================] - 37s 621us/step - loss: 0.0061 - acc: 0.9982 - val_loss: 0.1053 - val_acc: 0.9831\n",
      "Epoch 48/50\n",
      "59999/59999 [==============================] - 27s 454us/step - loss: 0.0028 - acc: 0.9991 - val_loss: 0.1132 - val_acc: 0.9836\n",
      "Epoch 49/50\n",
      "59999/59999 [==============================] - 27s 449us/step - loss: 0.0038 - acc: 0.9990 - val_loss: 0.1067 - val_acc: 0.9843\n",
      "Epoch 50/50\n",
      "59999/59999 [==============================] - 31s 518us/step - loss: 9.5199e-04 - acc: 0.9997 - val_loss: 0.0964 - val_acc: 0.9850\n"
     ]
    },
    {
     "data": {
      "image/png": "[encoded data removed]",
      "text/plain": [
       "<Figure size 432x288 with 1 Axes>"
      ]
     },
     "metadata": {},
     "output_type": "display_data"
    }
   ],
   "source": [
    "from keras.layers import Dense # Capa de red neuronal regular\n",
    "from keras.models import Sequential # Configura el modelo para el entrenamiento\n",
    "\n",
    "image_size = 784 # 28*28\n",
    "quantity_of_units = [32, 256, image_size, 2048] # Diferentes valores de unit para evaluar el modelo\n",
    "\n",
    "for units in quantity_of_units:\n",
    "    model=Sequential()\n",
    "    model.add(Dense(units, input_dim=image_size, activation='relu')) # Capa oculta con cantidad de neuronas variable\n",
    "    keras.layers.core.Dropout(rate=0.4) # Creamos una capa oculta para regularizar y evitar sobre-entrenamientos\n",
    "    model.add(Dense(num_classes,input_dim=image_size,activation='softmax')) # Creamos la capa de salida\n",
    "\n",
    "    # Vamos a usar el optimizador adam para compilar el modelo y vamos a usar la precisión como metrica\n",
    "    model.compile(loss='categorical_crossentropy', optimizer=\"adam\", metrics=['accuracy'])\n",
    "\n",
    "    # Entrenamos el modelo y hacemos la validación\n",
    "    fit_history = model.fit(mnist_train_pixels,mnist_y_train,epochs=50,batch_size=128,validation_data=(mnist_test_pixels,mnist_y_test))\n",
    "    print_history(fit_history, units) # Graficamos la precisión a lo largo del entrenamiento"
   ]
  },
  {
   "cell_type": "markdown",
   "metadata": {},
   "source": [
    "Se puede observar que los modelos mantuvieron una precisión superior al 98% a partir de 256 nodos, la diferencia en la precisión del modelo para 256, 784 y 2048 es muy poca sin embargo al finalizar el Epoch 50 el modelo más preciso teniendo en cuenta el dataset de validación fue el de 784 nodos.\n",
    "\n",
    "Algo notable fue que para los mismos tres modelos se alcanzo el porcentaje de precisión aproximado al 98% rápidamente en comparación al primer modelo de 32 nodos."
   ]
  }
 ],
 "metadata": {
  "kernelspec": {
   "display_name": "Python 3",
   "language": "python",
   "name": "python3"
  },
  "language_info": {
   "codemirror_mode": {
    "name": "ipython",
    "version": 3
   },
   "file_extension": ".py",
   "mimetype": "text/x-python",
   "name": "python",
   "nbconvert_exporter": "python",
   "pygments_lexer": "ipython3",
   "version": "3.6.5"
  }
 },
 "nbformat": 4,
 "nbformat_minor": 2
}
